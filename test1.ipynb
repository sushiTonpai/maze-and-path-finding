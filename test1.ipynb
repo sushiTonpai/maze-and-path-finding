{
 "cells": [
  {
   "cell_type": "code",
   "execution_count": 1,
   "id": "initial_id",
   "metadata": {
    "collapsed": true,
    "ExecuteTime": {
     "end_time": "2024-03-07T11:01:30.158980Z",
     "start_time": "2024-03-07T11:01:30.089184500Z"
    }
   },
   "outputs": [
    {
     "name": "stdout",
     "output_type": "stream",
     "text": [
      "pygame 2.5.2 (SDL 2.28.3, Python 3.12.1)\n",
      "Hello from the pygame community. https://www.pygame.org/contribute.html\n"
     ]
    }
   ],
   "source": [
    "\n",
    "from maze import Maze"
   ]
  },
  {
   "cell_type": "code",
   "outputs": [
    {
     "name": "stdout",
     "output_type": "stream",
     "text": [
      "non-visualized maze generator\n"
     ]
    }
   ],
   "source": [
    "test_maze = Maze.maze_generator()\n",
    "\n",
    "# print(test_maze[0])"
   ],
   "metadata": {
    "collapsed": false,
    "ExecuteTime": {
     "end_time": "2024-03-07T11:01:30.161502100Z",
     "start_time": "2024-03-07T11:01:30.158980Z"
    }
   },
   "id": "5a2ff4e9a7af095b",
   "execution_count": 2
  },
  {
   "cell_type": "code",
   "outputs": [
    {
     "data": {
      "text/plain": "Cell(x=0, y=0, visited=True, searching=False, is_start=False, is_goal=False)"
     },
     "execution_count": 3,
     "metadata": {},
     "output_type": "execute_result"
    }
   ],
   "source": [
    "empty_maze = Maze.maze_init().maze_grid\n",
    "curr_cell = empty_maze[0][0]\n",
    "curr_cell"
   ],
   "metadata": {
    "collapsed": false,
    "ExecuteTime": {
     "end_time": "2024-03-07T11:01:30.166377400Z",
     "start_time": "2024-03-07T11:01:30.162505400Z"
    }
   },
   "id": "6be46fb18ef15302",
   "execution_count": 3
  },
  {
   "cell_type": "code",
   "outputs": [
    {
     "data": {
      "text/plain": "['south', 'east']"
     },
     "execution_count": 4,
     "metadata": {},
     "output_type": "execute_result"
    }
   ],
   "source": [
    "lst_dir = curr_cell.neighbours_directions(maze=empty_maze)\n",
    "lst_dir"
   ],
   "metadata": {
    "collapsed": false,
    "ExecuteTime": {
     "end_time": "2024-03-07T11:01:30.170520600Z",
     "start_time": "2024-03-07T11:01:30.166377400Z"
    }
   },
   "id": "fac05b5fcf6737e2",
   "execution_count": 4
  },
  {
   "cell_type": "code",
   "outputs": [
    {
     "data": {
      "text/plain": "[Cell(x=2, y=0, visited=False, searching=False, is_start=False, is_goal=False),\n Cell(x=1, y=0, visited=False, searching=False, is_start=False, is_goal=False)]"
     },
     "execution_count": 5,
     "metadata": {},
     "output_type": "execute_result"
    }
   ],
   "source": [
    "n_cell = curr_cell.move(directions=lst_dir,maze=empty_maze)\n",
    "n_cell\n",
    "\n"
   ],
   "metadata": {
    "collapsed": false,
    "ExecuteTime": {
     "end_time": "2024-03-07T11:01:30.172796400Z",
     "start_time": "2024-03-07T11:01:30.170520600Z"
    }
   },
   "id": "75fe7b58258a4f6",
   "execution_count": 5
  },
  {
   "cell_type": "code",
   "outputs": [
    {
     "data": {
      "text/plain": "[Cell(x=0, y=0, visited=True, searching=False, is_start=False, is_goal=False),\n Cell(x=0, y=1, visited=False, searching=False, is_start=False, is_goal=False),\n Cell(x=0, y=2, visited=True, searching=False, is_start=False, is_goal=False),\n Cell(x=0, y=3, visited=True, searching=False, is_start=False, is_goal=False),\n Cell(x=0, y=4, visited=True, searching=False, is_start=False, is_goal=False),\n Cell(x=0, y=5, visited=False, searching=False, is_start=False, is_goal=False),\n Cell(x=0, y=6, visited=True, searching=False, is_start=False, is_goal=False),\n Cell(x=0, y=7, visited=True, searching=False, is_start=False, is_goal=False),\n Cell(x=0, y=8, visited=True, searching=False, is_start=False, is_goal=False),\n Cell(x=0, y=9, visited=True, searching=False, is_start=False, is_goal=False),\n Cell(x=0, y=10, visited=True, searching=False, is_start=False, is_goal=False),\n Cell(x=0, y=11, visited=True, searching=False, is_start=False, is_goal=False),\n Cell(x=0, y=12, visited=True, searching=False, is_start=False, is_goal=False),\n Cell(x=0, y=13, visited=True, searching=False, is_start=False, is_goal=False),\n Cell(x=0, y=14, visited=True, searching=False, is_start=False, is_goal=False),\n Cell(x=0, y=15, visited=False, searching=False, is_start=False, is_goal=False),\n Cell(x=0, y=16, visited=True, searching=False, is_start=False, is_goal=False),\n Cell(x=0, y=17, visited=True, searching=False, is_start=False, is_goal=False),\n Cell(x=0, y=18, visited=True, searching=False, is_start=False, is_goal=False),\n Cell(x=0, y=19, visited=False, searching=False, is_start=False, is_goal=False)]"
     },
     "execution_count": 6,
     "metadata": {},
     "output_type": "execute_result"
    }
   ],
   "source": [
    "test_maze[0]"
   ],
   "metadata": {
    "collapsed": false,
    "ExecuteTime": {
     "end_time": "2024-03-07T11:01:30.175708100Z",
     "start_time": "2024-03-07T11:01:30.172796400Z"
    }
   },
   "id": "6981f1941f273fb0",
   "execution_count": 6
  },
  {
   "cell_type": "code",
   "outputs": [],
   "source": [],
   "metadata": {
    "collapsed": false,
    "ExecuteTime": {
     "end_time": "2024-03-07T11:01:30.226709100Z",
     "start_time": "2024-03-07T11:01:30.176084400Z"
    }
   },
   "id": "c8206fd9509f7148",
   "execution_count": 6
  },
  {
   "cell_type": "code",
   "outputs": [
    {
     "data": {
      "text/plain": "([Node(node_x=0, node_y=0, parents=None, is_wall=False, g_cost=0, h_cost=0, f_cost=0),\n  Node(node_x=0, node_y=1, parents=None, is_wall=True, g_cost=0, h_cost=0, f_cost=0),\n  Node(node_x=0, node_y=2, parents=None, is_wall=False, g_cost=0, h_cost=0, f_cost=0),\n  Node(node_x=0, node_y=3, parents=None, is_wall=False, g_cost=0, h_cost=0, f_cost=0),\n  Node(node_x=0, node_y=4, parents=None, is_wall=False, g_cost=0, h_cost=0, f_cost=0),\n  Node(node_x=0, node_y=5, parents=None, is_wall=True, g_cost=0, h_cost=0, f_cost=0),\n  Node(node_x=0, node_y=6, parents=None, is_wall=False, g_cost=0, h_cost=0, f_cost=0),\n  Node(node_x=0, node_y=7, parents=None, is_wall=False, g_cost=0, h_cost=0, f_cost=0),\n  Node(node_x=0, node_y=8, parents=None, is_wall=False, g_cost=0, h_cost=0, f_cost=0),\n  Node(node_x=0, node_y=9, parents=None, is_wall=False, g_cost=0, h_cost=0, f_cost=0),\n  Node(node_x=0, node_y=10, parents=None, is_wall=False, g_cost=0, h_cost=0, f_cost=0),\n  Node(node_x=0, node_y=11, parents=None, is_wall=False, g_cost=0, h_cost=0, f_cost=0),\n  Node(node_x=0, node_y=12, parents=None, is_wall=False, g_cost=0, h_cost=0, f_cost=0),\n  Node(node_x=0, node_y=13, parents=None, is_wall=False, g_cost=0, h_cost=0, f_cost=0),\n  Node(node_x=0, node_y=14, parents=None, is_wall=False, g_cost=0, h_cost=0, f_cost=0),\n  Node(node_x=0, node_y=15, parents=None, is_wall=True, g_cost=0, h_cost=0, f_cost=0),\n  Node(node_x=0, node_y=16, parents=None, is_wall=False, g_cost=0, h_cost=0, f_cost=0),\n  Node(node_x=0, node_y=17, parents=None, is_wall=False, g_cost=0, h_cost=0, f_cost=0),\n  Node(node_x=0, node_y=18, parents=None, is_wall=False, g_cost=0, h_cost=0, f_cost=0),\n  Node(node_x=0, node_y=19, parents=None, is_wall=True, g_cost=0, h_cost=0, f_cost=0)],\n [Cell(x=0, y=0, visited=True, searching=False, is_start=False, is_goal=False),\n  Cell(x=0, y=1, visited=False, searching=False, is_start=False, is_goal=False),\n  Cell(x=0, y=2, visited=True, searching=False, is_start=False, is_goal=False),\n  Cell(x=0, y=3, visited=True, searching=False, is_start=False, is_goal=False),\n  Cell(x=0, y=4, visited=True, searching=False, is_start=False, is_goal=False),\n  Cell(x=0, y=5, visited=False, searching=False, is_start=False, is_goal=False),\n  Cell(x=0, y=6, visited=True, searching=False, is_start=False, is_goal=False),\n  Cell(x=0, y=7, visited=True, searching=False, is_start=False, is_goal=False),\n  Cell(x=0, y=8, visited=True, searching=False, is_start=False, is_goal=False),\n  Cell(x=0, y=9, visited=True, searching=False, is_start=False, is_goal=False),\n  Cell(x=0, y=10, visited=True, searching=False, is_start=False, is_goal=False),\n  Cell(x=0, y=11, visited=True, searching=False, is_start=False, is_goal=False),\n  Cell(x=0, y=12, visited=True, searching=False, is_start=False, is_goal=False),\n  Cell(x=0, y=13, visited=True, searching=False, is_start=False, is_goal=False),\n  Cell(x=0, y=14, visited=True, searching=False, is_start=False, is_goal=False),\n  Cell(x=0, y=15, visited=False, searching=False, is_start=False, is_goal=False),\n  Cell(x=0, y=16, visited=True, searching=False, is_start=False, is_goal=False),\n  Cell(x=0, y=17, visited=True, searching=False, is_start=False, is_goal=False),\n  Cell(x=0, y=18, visited=True, searching=False, is_start=False, is_goal=False),\n  Cell(x=0, y=19, visited=False, searching=False, is_start=False, is_goal=False)])"
     },
     "execution_count": 8,
     "metadata": {},
     "output_type": "execute_result"
    }
   ],
   "source": [
    "from node import Node\n",
    "\n",
    "\n",
    "nodes = [[Node.cell_to_node(cell)for cell in row]for row in test_maze] \n",
    "nodes[0],test_maze[0]"
   ],
   "metadata": {
    "collapsed": false,
    "ExecuteTime": {
     "end_time": "2024-03-07T11:02:04.106534400Z",
     "start_time": "2024-03-07T11:02:04.103739400Z"
    }
   },
   "id": "da141389f6643978",
   "execution_count": 8
  }
 ],
 "metadata": {
  "kernelspec": {
   "display_name": "Python 3",
   "language": "python",
   "name": "python3"
  },
  "language_info": {
   "codemirror_mode": {
    "name": "ipython",
    "version": 2
   },
   "file_extension": ".py",
   "mimetype": "text/x-python",
   "name": "python",
   "nbconvert_exporter": "python",
   "pygments_lexer": "ipython2",
   "version": "2.7.6"
  }
 },
 "nbformat": 4,
 "nbformat_minor": 5
}
