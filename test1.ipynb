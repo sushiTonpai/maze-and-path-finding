{
 "cells": [
  {
   "cell_type": "code",
   "execution_count": 23,
   "id": "initial_id",
   "metadata": {
    "collapsed": true,
    "ExecuteTime": {
     "end_time": "2024-03-11T10:34:40.313903400Z",
     "start_time": "2024-03-11T10:34:40.311049800Z"
    }
   },
   "outputs": [],
   "source": [
    "from __future__ import annotations\n",
    "\n",
    "import maze\n",
    "from maze import Maze"
   ]
  },
  {
   "cell_type": "code",
   "outputs": [
    {
     "name": "stdout",
     "output_type": "stream",
     "text": [
      "non-visualized maze generator\n"
     ]
    }
   ],
   "source": [
    "test_maze = Maze.maze_generator()\n",
    "\n",
    "# print(test_maze[0])"
   ],
   "metadata": {
    "collapsed": false,
    "ExecuteTime": {
     "end_time": "2024-03-11T10:34:40.318549200Z",
     "start_time": "2024-03-11T10:34:40.313903400Z"
    }
   },
   "id": "5a2ff4e9a7af095b",
   "execution_count": 24
  },
  {
   "cell_type": "code",
   "outputs": [
    {
     "data": {
      "text/plain": "Cell(x=0, y=0, visited=True, searching=False, is_start=False, is_goal=False)"
     },
     "execution_count": 25,
     "metadata": {},
     "output_type": "execute_result"
    }
   ],
   "source": [
    "empty_maze = Maze.maze_init().maze_grid\n",
    "curr_cell = empty_maze[0][0]\n",
    "curr_cell"
   ],
   "metadata": {
    "collapsed": false,
    "ExecuteTime": {
     "end_time": "2024-03-11T10:34:40.320557100Z",
     "start_time": "2024-03-11T10:34:40.316721300Z"
    }
   },
   "id": "6be46fb18ef15302",
   "execution_count": 25
  },
  {
   "cell_type": "code",
   "outputs": [
    {
     "data": {
      "text/plain": "['south', 'east']"
     },
     "execution_count": 26,
     "metadata": {},
     "output_type": "execute_result"
    }
   ],
   "source": [
    "lst_dir = curr_cell.neighbours_directions(maze=empty_maze)\n",
    "lst_dir"
   ],
   "metadata": {
    "collapsed": false,
    "ExecuteTime": {
     "end_time": "2024-03-11T10:34:40.324523800Z",
     "start_time": "2024-03-11T10:34:40.320557100Z"
    }
   },
   "id": "fac05b5fcf6737e2",
   "execution_count": 26
  },
  {
   "cell_type": "code",
   "outputs": [
    {
     "data": {
      "text/plain": "[Cell(x=2, y=0, visited=False, searching=False, is_start=False, is_goal=False),\n Cell(x=1, y=0, visited=False, searching=False, is_start=False, is_goal=False)]"
     },
     "execution_count": 27,
     "metadata": {},
     "output_type": "execute_result"
    }
   ],
   "source": [
    "n_cell = curr_cell.move(directions=lst_dir,maze=empty_maze)\n",
    "n_cell\n",
    "\n"
   ],
   "metadata": {
    "collapsed": false,
    "ExecuteTime": {
     "end_time": "2024-03-11T10:34:40.327035800Z",
     "start_time": "2024-03-11T10:34:40.324084300Z"
    }
   },
   "id": "75fe7b58258a4f6",
   "execution_count": 27
  },
  {
   "cell_type": "code",
   "outputs": [
    {
     "data": {
      "text/plain": "[Cell(x=0, y=0, visited=True, searching=False, is_start=False, is_goal=False),\n Cell(x=0, y=1, visited=False, searching=False, is_start=False, is_goal=False),\n Cell(x=0, y=2, visited=True, searching=False, is_start=False, is_goal=False),\n Cell(x=0, y=3, visited=True, searching=False, is_start=False, is_goal=False),\n Cell(x=0, y=4, visited=True, searching=False, is_start=False, is_goal=False),\n Cell(x=0, y=5, visited=True, searching=False, is_start=False, is_goal=False),\n Cell(x=0, y=6, visited=True, searching=False, is_start=False, is_goal=False),\n Cell(x=0, y=7, visited=True, searching=False, is_start=False, is_goal=False),\n Cell(x=0, y=8, visited=True, searching=False, is_start=False, is_goal=False),\n Cell(x=0, y=9, visited=True, searching=False, is_start=False, is_goal=False),\n Cell(x=0, y=10, visited=True, searching=False, is_start=False, is_goal=False),\n Cell(x=0, y=11, visited=True, searching=False, is_start=False, is_goal=False),\n Cell(x=0, y=12, visited=True, searching=False, is_start=False, is_goal=False),\n Cell(x=0, y=13, visited=False, searching=False, is_start=False, is_goal=False),\n Cell(x=0, y=14, visited=True, searching=False, is_start=False, is_goal=False),\n Cell(x=0, y=15, visited=True, searching=False, is_start=False, is_goal=False),\n Cell(x=0, y=16, visited=True, searching=False, is_start=False, is_goal=False),\n Cell(x=0, y=17, visited=True, searching=False, is_start=False, is_goal=False),\n Cell(x=0, y=18, visited=True, searching=False, is_start=False, is_goal=False),\n Cell(x=0, y=19, visited=False, searching=False, is_start=False, is_goal=False)]"
     },
     "execution_count": 28,
     "metadata": {},
     "output_type": "execute_result"
    }
   ],
   "source": [
    "test_maze[0]"
   ],
   "metadata": {
    "collapsed": false,
    "ExecuteTime": {
     "end_time": "2024-03-11T10:34:40.333500400Z",
     "start_time": "2024-03-11T10:34:40.326032500Z"
    }
   },
   "id": "6981f1941f273fb0",
   "execution_count": 28
  },
  {
   "cell_type": "code",
   "outputs": [],
   "source": [],
   "metadata": {
    "collapsed": false,
    "ExecuteTime": {
     "end_time": "2024-03-11T10:34:40.334505700Z",
     "start_time": "2024-03-11T10:34:40.330044300Z"
    }
   },
   "id": "c8206fd9509f7148",
   "execution_count": 28
  },
  {
   "cell_type": "code",
   "outputs": [],
   "source": [
    "from node import Node\n",
    "\n",
    "\n",
    "nodes: NodeType = [[Node.cell_to_node(cell)for cell in row]for row in test_maze] \n",
    "NodeType = list[list[Node]]"
   ],
   "metadata": {
    "collapsed": false,
    "ExecuteTime": {
     "end_time": "2024-03-11T10:34:40.336488700Z",
     "start_time": "2024-03-11T10:34:40.331552300Z"
    }
   },
   "id": "da141389f6643978",
   "execution_count": 29
  },
  {
   "cell_type": "code",
   "outputs": [
    {
     "data": {
      "text/plain": "[Node(node_x=0, node_y=0, parents=None, is_wall=False, g_cost=inf, h_cost=0, f_cost=inf)]"
     },
     "execution_count": 30,
     "metadata": {},
     "output_type": "execute_result"
    }
   ],
   "source": [
    "import heapq\n",
    "opl = []\n",
    "cll = []\n",
    "heapq.heappush(opl,nodes[0][0])\n",
    "opl"
   ],
   "metadata": {
    "collapsed": false,
    "ExecuteTime": {
     "end_time": "2024-03-11T10:34:40.338560200Z",
     "start_time": "2024-03-11T10:34:40.335509Z"
    }
   },
   "id": "daad88f5fa37a0a6",
   "execution_count": 30
  },
  {
   "cell_type": "code",
   "outputs": [
    {
     "name": "stdout",
     "output_type": "stream",
     "text": [
      "Node(node_x=0, node_y=0, parents=None, is_wall=False, g_cost=inf, h_cost=0, f_cost=inf) [] [Node(node_x=0, node_y=0, parents=None, is_wall=False, g_cost=inf, h_cost=0, f_cost=inf)]\n"
     ]
    }
   ],
   "source": [
    "ccn = heapq.heappop(opl)\n",
    "cll.append(ccn)\n",
    "print(ccn, opl,cll)"
   ],
   "metadata": {
    "collapsed": false,
    "ExecuteTime": {
     "end_time": "2024-03-11T10:34:40.340983900Z",
     "start_time": "2024-03-11T10:34:40.337496800Z"
    }
   },
   "id": "125ddcf8cec5dded",
   "execution_count": 31
  },
  {
   "cell_type": "code",
   "outputs": [],
   "source": [],
   "metadata": {
    "collapsed": false,
    "ExecuteTime": {
     "end_time": "2024-03-11T10:34:40.370846200Z",
     "start_time": "2024-03-11T10:34:40.340568Z"
    }
   },
   "id": "7115dc376172490c",
   "execution_count": 31
  },
  {
   "cell_type": "code",
   "outputs": [
    {
     "data": {
      "text/plain": "Astar(node_grid=[[Node(node_x=0, node_y=0, parents=None, is_wall=False, g_cost=inf, h_cost=0, f_cost=inf), Node(node_x=0, node_y=1, parents=None, is_wall=True, g_cost=inf, h_cost=0, f_cost=inf), Node(node_x=0, node_y=2, parents=None, is_wall=False, g_cost=inf, h_cost=0, f_cost=inf), Node(node_x=0, node_y=3, parents=None, is_wall=False, g_cost=inf, h_cost=0, f_cost=inf), Node(node_x=0, node_y=4, parents=None, is_wall=False, g_cost=inf, h_cost=0, f_cost=inf), Node(node_x=0, node_y=5, parents=None, is_wall=False, g_cost=inf, h_cost=0, f_cost=inf), Node(node_x=0, node_y=6, parents=None, is_wall=False, g_cost=inf, h_cost=0, f_cost=inf), Node(node_x=0, node_y=7, parents=None, is_wall=False, g_cost=inf, h_cost=0, f_cost=inf), Node(node_x=0, node_y=8, parents=None, is_wall=False, g_cost=inf, h_cost=0, f_cost=inf), Node(node_x=0, node_y=9, parents=None, is_wall=False, g_cost=inf, h_cost=0, f_cost=inf), Node(node_x=0, node_y=10, parents=None, is_wall=False, g_cost=inf, h_cost=0, f_cost=inf), Node(node_x=0, node_y=11, parents=None, is_wall=False, g_cost=0, h_cost=17, f_cost=17), Node(node_x=0, node_y=12, parents=None, is_wall=False, g_cost=inf, h_cost=0, f_cost=inf), Node(node_x=0, node_y=13, parents=None, is_wall=True, g_cost=inf, h_cost=0, f_cost=inf), Node(node_x=0, node_y=14, parents=None, is_wall=False, g_cost=inf, h_cost=0, f_cost=inf), Node(node_x=0, node_y=15, parents=None, is_wall=False, g_cost=inf, h_cost=0, f_cost=inf), Node(node_x=0, node_y=16, parents=None, is_wall=False, g_cost=inf, h_cost=0, f_cost=inf), Node(node_x=0, node_y=17, parents=None, is_wall=False, g_cost=inf, h_cost=0, f_cost=inf), Node(node_x=0, node_y=18, parents=None, is_wall=False, g_cost=inf, h_cost=0, f_cost=inf), Node(node_x=0, node_y=19, parents=None, is_wall=True, g_cost=inf, h_cost=0, f_cost=inf)], [Node(node_x=1, node_y=0, parents=None, is_wall=False, g_cost=inf, h_cost=0, f_cost=inf), Node(node_x=1, node_y=1, parents=None, is_wall=True, g_cost=inf, h_cost=0, f_cost=inf), Node(node_x=1, node_y=2, parents=None, is_wall=True, g_cost=inf, h_cost=0, f_cost=inf), Node(node_x=1, node_y=3, parents=None, is_wall=True, g_cost=inf, h_cost=0, f_cost=inf), Node(node_x=1, node_y=4, parents=None, is_wall=True, g_cost=inf, h_cost=0, f_cost=inf), Node(node_x=1, node_y=5, parents=None, is_wall=True, g_cost=inf, h_cost=0, f_cost=inf), Node(node_x=1, node_y=6, parents=None, is_wall=True, g_cost=inf, h_cost=0, f_cost=inf), Node(node_x=1, node_y=7, parents=None, is_wall=True, g_cost=inf, h_cost=0, f_cost=inf), Node(node_x=1, node_y=8, parents=None, is_wall=True, g_cost=inf, h_cost=0, f_cost=inf), Node(node_x=1, node_y=9, parents=None, is_wall=True, g_cost=inf, h_cost=0, f_cost=inf), Node(node_x=1, node_y=10, parents=None, is_wall=False, g_cost=inf, h_cost=0, f_cost=inf), Node(node_x=1, node_y=11, parents=None, is_wall=True, g_cost=inf, h_cost=0, f_cost=inf), Node(node_x=1, node_y=12, parents=None, is_wall=False, g_cost=inf, h_cost=0, f_cost=inf), Node(node_x=1, node_y=13, parents=None, is_wall=True, g_cost=inf, h_cost=0, f_cost=inf), Node(node_x=1, node_y=14, parents=None, is_wall=True, g_cost=inf, h_cost=0, f_cost=inf), Node(node_x=1, node_y=15, parents=None, is_wall=True, g_cost=inf, h_cost=0, f_cost=inf), Node(node_x=1, node_y=16, parents=None, is_wall=False, g_cost=inf, h_cost=0, f_cost=inf), Node(node_x=1, node_y=17, parents=None, is_wall=True, g_cost=inf, h_cost=0, f_cost=inf), Node(node_x=1, node_y=18, parents=None, is_wall=False, g_cost=inf, h_cost=0, f_cost=inf), Node(node_x=1, node_y=19, parents=None, is_wall=True, g_cost=inf, h_cost=0, f_cost=inf)], [Node(node_x=2, node_y=0, parents=None, is_wall=False, g_cost=inf, h_cost=0, f_cost=inf), Node(node_x=2, node_y=1, parents=None, is_wall=False, g_cost=inf, h_cost=0, f_cost=inf), Node(node_x=2, node_y=2, parents=None, is_wall=False, g_cost=inf, h_cost=0, f_cost=inf), Node(node_x=2, node_y=3, parents=None, is_wall=False, g_cost=inf, h_cost=0, f_cost=inf), Node(node_x=2, node_y=4, parents=None, is_wall=False, g_cost=inf, h_cost=0, f_cost=inf), Node(node_x=2, node_y=5, parents=None, is_wall=False, g_cost=inf, h_cost=0, f_cost=inf), Node(node_x=2, node_y=6, parents=None, is_wall=False, g_cost=inf, h_cost=0, f_cost=inf), Node(node_x=2, node_y=7, parents=None, is_wall=False, g_cost=inf, h_cost=0, f_cost=inf), Node(node_x=2, node_y=8, parents=None, is_wall=False, g_cost=inf, h_cost=0, f_cost=inf), Node(node_x=2, node_y=9, parents=None, is_wall=False, g_cost=inf, h_cost=0, f_cost=inf), Node(node_x=2, node_y=10, parents=None, is_wall=False, g_cost=inf, h_cost=0, f_cost=inf), Node(node_x=2, node_y=11, parents=None, is_wall=True, g_cost=inf, h_cost=0, f_cost=inf), Node(node_x=2, node_y=12, parents=None, is_wall=False, g_cost=inf, h_cost=0, f_cost=inf), Node(node_x=2, node_y=13, parents=None, is_wall=False, g_cost=inf, h_cost=0, f_cost=inf), Node(node_x=2, node_y=14, parents=None, is_wall=False, g_cost=inf, h_cost=0, f_cost=inf), Node(node_x=2, node_y=15, parents=None, is_wall=True, g_cost=inf, h_cost=0, f_cost=inf), Node(node_x=2, node_y=16, parents=None, is_wall=False, g_cost=inf, h_cost=0, f_cost=inf), Node(node_x=2, node_y=17, parents=None, is_wall=True, g_cost=inf, h_cost=0, f_cost=inf), Node(node_x=2, node_y=18, parents=None, is_wall=False, g_cost=inf, h_cost=0, f_cost=inf), Node(node_x=2, node_y=19, parents=None, is_wall=True, g_cost=inf, h_cost=0, f_cost=inf)], [Node(node_x=3, node_y=0, parents=None, is_wall=True, g_cost=inf, h_cost=0, f_cost=inf), Node(node_x=3, node_y=1, parents=None, is_wall=True, g_cost=inf, h_cost=0, f_cost=inf), Node(node_x=3, node_y=2, parents=None, is_wall=True, g_cost=inf, h_cost=0, f_cost=inf), Node(node_x=3, node_y=3, parents=None, is_wall=True, g_cost=inf, h_cost=0, f_cost=inf), Node(node_x=3, node_y=4, parents=None, is_wall=True, g_cost=inf, h_cost=0, f_cost=inf), Node(node_x=3, node_y=5, parents=None, is_wall=True, g_cost=inf, h_cost=0, f_cost=inf), Node(node_x=3, node_y=6, parents=None, is_wall=True, g_cost=inf, h_cost=0, f_cost=inf), Node(node_x=3, node_y=7, parents=None, is_wall=True, g_cost=inf, h_cost=0, f_cost=inf), Node(node_x=3, node_y=8, parents=None, is_wall=True, g_cost=inf, h_cost=0, f_cost=inf), Node(node_x=3, node_y=9, parents=None, is_wall=True, g_cost=inf, h_cost=0, f_cost=inf), Node(node_x=3, node_y=10, parents=None, is_wall=True, g_cost=inf, h_cost=0, f_cost=inf), Node(node_x=3, node_y=11, parents=None, is_wall=True, g_cost=inf, h_cost=0, f_cost=inf), Node(node_x=3, node_y=12, parents=None, is_wall=True, g_cost=inf, h_cost=0, f_cost=inf), Node(node_x=3, node_y=13, parents=None, is_wall=True, g_cost=inf, h_cost=0, f_cost=inf), Node(node_x=3, node_y=14, parents=None, is_wall=False, g_cost=inf, h_cost=0, f_cost=inf), Node(node_x=3, node_y=15, parents=None, is_wall=True, g_cost=inf, h_cost=0, f_cost=inf), Node(node_x=3, node_y=16, parents=None, is_wall=False, g_cost=inf, h_cost=0, f_cost=inf), Node(node_x=3, node_y=17, parents=None, is_wall=True, g_cost=inf, h_cost=0, f_cost=inf), Node(node_x=3, node_y=18, parents=None, is_wall=False, g_cost=inf, h_cost=0, f_cost=inf), Node(node_x=3, node_y=19, parents=None, is_wall=True, g_cost=inf, h_cost=0, f_cost=inf)], [Node(node_x=4, node_y=0, parents=None, is_wall=False, g_cost=inf, h_cost=0, f_cost=inf), Node(node_x=4, node_y=1, parents=None, is_wall=False, g_cost=inf, h_cost=0, f_cost=inf), Node(node_x=4, node_y=2, parents=None, is_wall=False, g_cost=inf, h_cost=0, f_cost=inf), Node(node_x=4, node_y=3, parents=None, is_wall=False, g_cost=inf, h_cost=0, f_cost=inf), Node(node_x=4, node_y=4, parents=None, is_wall=False, g_cost=inf, h_cost=0, f_cost=inf), Node(node_x=4, node_y=5, parents=None, is_wall=False, g_cost=inf, h_cost=0, f_cost=inf), Node(node_x=4, node_y=6, parents=None, is_wall=False, g_cost=inf, h_cost=0, f_cost=inf), Node(node_x=4, node_y=7, parents=None, is_wall=False, g_cost=inf, h_cost=0, f_cost=inf), Node(node_x=4, node_y=8, parents=None, is_wall=False, g_cost=inf, h_cost=0, f_cost=inf), Node(node_x=4, node_y=9, parents=None, is_wall=False, g_cost=inf, h_cost=0, f_cost=inf), Node(node_x=4, node_y=10, parents=None, is_wall=False, g_cost=inf, h_cost=0, f_cost=inf), Node(node_x=4, node_y=11, parents=None, is_wall=True, g_cost=inf, h_cost=0, f_cost=inf), Node(node_x=4, node_y=12, parents=None, is_wall=False, g_cost=inf, h_cost=0, f_cost=inf), Node(node_x=4, node_y=13, parents=None, is_wall=False, g_cost=inf, h_cost=0, f_cost=inf), Node(node_x=4, node_y=14, parents=None, is_wall=False, g_cost=inf, h_cost=0, f_cost=inf), Node(node_x=4, node_y=15, parents=None, is_wall=True, g_cost=inf, h_cost=0, f_cost=inf), Node(node_x=4, node_y=16, parents=None, is_wall=False, g_cost=inf, h_cost=0, f_cost=inf), Node(node_x=4, node_y=17, parents=None, is_wall=True, g_cost=inf, h_cost=0, f_cost=inf), Node(node_x=4, node_y=18, parents=None, is_wall=False, g_cost=inf, h_cost=0, f_cost=inf), Node(node_x=4, node_y=19, parents=None, is_wall=True, g_cost=inf, h_cost=0, f_cost=inf)], [Node(node_x=5, node_y=0, parents=None, is_wall=False, g_cost=inf, h_cost=0, f_cost=inf), Node(node_x=5, node_y=1, parents=None, is_wall=True, g_cost=inf, h_cost=0, f_cost=inf), Node(node_x=5, node_y=2, parents=None, is_wall=True, g_cost=inf, h_cost=0, f_cost=inf), Node(node_x=5, node_y=3, parents=None, is_wall=True, g_cost=inf, h_cost=0, f_cost=inf), Node(node_x=5, node_y=4, parents=None, is_wall=True, g_cost=inf, h_cost=0, f_cost=inf), Node(node_x=5, node_y=5, parents=None, is_wall=True, g_cost=inf, h_cost=0, f_cost=inf), Node(node_x=5, node_y=6, parents=None, is_wall=True, g_cost=inf, h_cost=0, f_cost=inf), Node(node_x=5, node_y=7, parents=None, is_wall=True, g_cost=inf, h_cost=0, f_cost=inf), Node(node_x=5, node_y=8, parents=None, is_wall=False, g_cost=inf, h_cost=0, f_cost=inf), Node(node_x=5, node_y=9, parents=None, is_wall=True, g_cost=inf, h_cost=0, f_cost=inf), Node(node_x=5, node_y=10, parents=None, is_wall=True, g_cost=inf, h_cost=0, f_cost=inf), Node(node_x=5, node_y=11, parents=None, is_wall=True, g_cost=inf, h_cost=0, f_cost=inf), Node(node_x=5, node_y=12, parents=None, is_wall=False, g_cost=inf, h_cost=0, f_cost=inf), Node(node_x=5, node_y=13, parents=None, is_wall=True, g_cost=inf, h_cost=0, f_cost=inf), Node(node_x=5, node_y=14, parents=None, is_wall=True, g_cost=inf, h_cost=0, f_cost=inf), Node(node_x=5, node_y=15, parents=None, is_wall=True, g_cost=inf, h_cost=0, f_cost=inf), Node(node_x=5, node_y=16, parents=None, is_wall=True, g_cost=inf, h_cost=0, f_cost=inf), Node(node_x=5, node_y=17, parents=None, is_wall=True, g_cost=inf, h_cost=0, f_cost=inf), Node(node_x=5, node_y=18, parents=None, is_wall=False, g_cost=inf, h_cost=0, f_cost=inf), Node(node_x=5, node_y=19, parents=None, is_wall=True, g_cost=inf, h_cost=0, f_cost=inf)], [Node(node_x=6, node_y=0, parents=None, is_wall=False, g_cost=inf, h_cost=0, f_cost=inf), Node(node_x=6, node_y=1, parents=None, is_wall=True, g_cost=inf, h_cost=0, f_cost=inf), Node(node_x=6, node_y=2, parents=None, is_wall=False, g_cost=inf, h_cost=0, f_cost=inf), Node(node_x=6, node_y=3, parents=None, is_wall=False, g_cost=inf, h_cost=0, f_cost=inf), Node(node_x=6, node_y=4, parents=None, is_wall=False, g_cost=inf, h_cost=0, f_cost=inf), Node(node_x=6, node_y=5, parents=None, is_wall=False, g_cost=inf, h_cost=0, f_cost=inf), Node(node_x=6, node_y=6, parents=None, is_wall=False, g_cost=inf, h_cost=0, f_cost=inf), Node(node_x=6, node_y=7, parents=None, is_wall=True, g_cost=inf, h_cost=0, f_cost=inf), Node(node_x=6, node_y=8, parents=None, is_wall=False, g_cost=inf, h_cost=0, f_cost=inf), Node(node_x=6, node_y=9, parents=None, is_wall=False, g_cost=inf, h_cost=0, f_cost=inf), Node(node_x=6, node_y=10, parents=None, is_wall=False, g_cost=inf, h_cost=0, f_cost=inf), Node(node_x=6, node_y=11, parents=None, is_wall=False, g_cost=inf, h_cost=0, f_cost=inf), Node(node_x=6, node_y=12, parents=None, is_wall=False, g_cost=inf, h_cost=0, f_cost=inf), Node(node_x=6, node_y=13, parents=None, is_wall=True, g_cost=inf, h_cost=0, f_cost=inf), Node(node_x=6, node_y=14, parents=None, is_wall=False, g_cost=inf, h_cost=0, f_cost=inf), Node(node_x=6, node_y=15, parents=None, is_wall=False, g_cost=inf, h_cost=0, f_cost=inf), Node(node_x=6, node_y=16, parents=None, is_wall=False, g_cost=inf, h_cost=0, f_cost=inf), Node(node_x=6, node_y=17, parents=None, is_wall=True, g_cost=inf, h_cost=0, f_cost=inf), Node(node_x=6, node_y=18, parents=None, is_wall=False, g_cost=inf, h_cost=0, f_cost=inf), Node(node_x=6, node_y=19, parents=None, is_wall=True, g_cost=inf, h_cost=0, f_cost=inf)], [Node(node_x=7, node_y=0, parents=None, is_wall=False, g_cost=inf, h_cost=0, f_cost=inf), Node(node_x=7, node_y=1, parents=None, is_wall=True, g_cost=inf, h_cost=0, f_cost=inf), Node(node_x=7, node_y=2, parents=None, is_wall=False, g_cost=inf, h_cost=0, f_cost=inf), Node(node_x=7, node_y=3, parents=None, is_wall=True, g_cost=inf, h_cost=0, f_cost=inf), Node(node_x=7, node_y=4, parents=None, is_wall=True, g_cost=inf, h_cost=0, f_cost=inf), Node(node_x=7, node_y=5, parents=None, is_wall=True, g_cost=inf, h_cost=0, f_cost=inf), Node(node_x=7, node_y=6, parents=None, is_wall=False, g_cost=inf, h_cost=0, f_cost=inf), Node(node_x=7, node_y=7, parents=None, is_wall=True, g_cost=inf, h_cost=0, f_cost=inf), Node(node_x=7, node_y=8, parents=None, is_wall=True, g_cost=inf, h_cost=0, f_cost=inf), Node(node_x=7, node_y=9, parents=None, is_wall=True, g_cost=inf, h_cost=0, f_cost=inf), Node(node_x=7, node_y=10, parents=None, is_wall=True, g_cost=inf, h_cost=0, f_cost=inf), Node(node_x=7, node_y=11, parents=None, is_wall=True, g_cost=inf, h_cost=0, f_cost=inf), Node(node_x=7, node_y=12, parents=None, is_wall=True, g_cost=inf, h_cost=0, f_cost=inf), Node(node_x=7, node_y=13, parents=None, is_wall=True, g_cost=inf, h_cost=0, f_cost=inf), Node(node_x=7, node_y=14, parents=None, is_wall=False, g_cost=inf, h_cost=0, f_cost=inf), Node(node_x=7, node_y=15, parents=None, is_wall=True, g_cost=inf, h_cost=0, f_cost=inf), Node(node_x=7, node_y=16, parents=None, is_wall=False, g_cost=inf, h_cost=0, f_cost=inf), Node(node_x=7, node_y=17, parents=None, is_wall=True, g_cost=inf, h_cost=0, f_cost=inf), Node(node_x=7, node_y=18, parents=None, is_wall=False, g_cost=inf, h_cost=0, f_cost=inf), Node(node_x=7, node_y=19, parents=None, is_wall=True, g_cost=inf, h_cost=0, f_cost=inf)], [Node(node_x=8, node_y=0, parents=None, is_wall=False, g_cost=inf, h_cost=0, f_cost=inf), Node(node_x=8, node_y=1, parents=None, is_wall=False, g_cost=inf, h_cost=0, f_cost=inf), Node(node_x=8, node_y=2, parents=None, is_wall=False, g_cost=inf, h_cost=0, f_cost=inf), Node(node_x=8, node_y=3, parents=None, is_wall=True, g_cost=inf, h_cost=0, f_cost=inf), Node(node_x=8, node_y=4, parents=None, is_wall=False, g_cost=inf, h_cost=0, f_cost=inf), Node(node_x=8, node_y=5, parents=None, is_wall=True, g_cost=inf, h_cost=0, f_cost=inf), Node(node_x=8, node_y=6, parents=None, is_wall=False, g_cost=inf, h_cost=0, f_cost=inf), Node(node_x=8, node_y=7, parents=None, is_wall=True, g_cost=inf, h_cost=0, f_cost=inf), Node(node_x=8, node_y=8, parents=None, is_wall=False, g_cost=inf, h_cost=0, f_cost=inf), Node(node_x=8, node_y=9, parents=None, is_wall=False, g_cost=inf, h_cost=0, f_cost=inf), Node(node_x=8, node_y=10, parents=None, is_wall=False, g_cost=inf, h_cost=0, f_cost=inf), Node(node_x=8, node_y=11, parents=None, is_wall=True, g_cost=inf, h_cost=0, f_cost=inf), Node(node_x=8, node_y=12, parents=None, is_wall=False, g_cost=inf, h_cost=0, f_cost=inf), Node(node_x=8, node_y=13, parents=None, is_wall=False, g_cost=inf, h_cost=0, f_cost=inf), Node(node_x=8, node_y=14, parents=None, is_wall=False, g_cost=inf, h_cost=0, f_cost=inf), Node(node_x=8, node_y=15, parents=None, is_wall=True, g_cost=inf, h_cost=0, f_cost=inf), Node(node_x=8, node_y=16, parents=None, is_wall=False, g_cost=inf, h_cost=0, f_cost=inf), Node(node_x=8, node_y=17, parents=None, is_wall=True, g_cost=inf, h_cost=0, f_cost=inf), Node(node_x=8, node_y=18, parents=None, is_wall=False, g_cost=inf, h_cost=0, f_cost=inf), Node(node_x=8, node_y=19, parents=None, is_wall=True, g_cost=inf, h_cost=0, f_cost=inf)], [Node(node_x=9, node_y=0, parents=None, is_wall=True, g_cost=inf, h_cost=0, f_cost=inf), Node(node_x=9, node_y=1, parents=None, is_wall=True, g_cost=inf, h_cost=0, f_cost=inf), Node(node_x=9, node_y=2, parents=None, is_wall=True, g_cost=inf, h_cost=0, f_cost=inf), Node(node_x=9, node_y=3, parents=None, is_wall=True, g_cost=inf, h_cost=0, f_cost=inf), Node(node_x=9, node_y=4, parents=None, is_wall=False, g_cost=inf, h_cost=0, f_cost=inf), Node(node_x=9, node_y=5, parents=None, is_wall=True, g_cost=inf, h_cost=0, f_cost=inf), Node(node_x=9, node_y=6, parents=None, is_wall=False, g_cost=inf, h_cost=0, f_cost=inf), Node(node_x=9, node_y=7, parents=None, is_wall=True, g_cost=inf, h_cost=0, f_cost=inf), Node(node_x=9, node_y=8, parents=None, is_wall=False, g_cost=inf, h_cost=0, f_cost=inf), Node(node_x=9, node_y=9, parents=None, is_wall=True, g_cost=inf, h_cost=0, f_cost=inf), Node(node_x=9, node_y=10, parents=None, is_wall=False, g_cost=inf, h_cost=0, f_cost=inf), Node(node_x=9, node_y=11, parents=None, is_wall=True, g_cost=inf, h_cost=0, f_cost=inf), Node(node_x=9, node_y=12, parents=None, is_wall=True, g_cost=inf, h_cost=0, f_cost=inf), Node(node_x=9, node_y=13, parents=None, is_wall=True, g_cost=inf, h_cost=0, f_cost=inf), Node(node_x=9, node_y=14, parents=None, is_wall=False, g_cost=inf, h_cost=0, f_cost=inf), Node(node_x=9, node_y=15, parents=None, is_wall=True, g_cost=inf, h_cost=0, f_cost=inf), Node(node_x=9, node_y=16, parents=None, is_wall=False, g_cost=inf, h_cost=0, f_cost=inf), Node(node_x=9, node_y=17, parents=None, is_wall=True, g_cost=inf, h_cost=0, f_cost=inf), Node(node_x=9, node_y=18, parents=None, is_wall=False, g_cost=inf, h_cost=0, f_cost=inf), Node(node_x=9, node_y=19, parents=None, is_wall=True, g_cost=inf, h_cost=0, f_cost=inf)], [Node(node_x=10, node_y=0, parents=None, is_wall=False, g_cost=inf, h_cost=0, f_cost=inf), Node(node_x=10, node_y=1, parents=None, is_wall=False, g_cost=inf, h_cost=0, f_cost=inf), Node(node_x=10, node_y=2, parents=None, is_wall=False, g_cost=inf, h_cost=0, f_cost=inf), Node(node_x=10, node_y=3, parents=None, is_wall=False, g_cost=inf, h_cost=0, f_cost=inf), Node(node_x=10, node_y=4, parents=None, is_wall=False, g_cost=inf, h_cost=0, f_cost=inf), Node(node_x=10, node_y=5, parents=None, is_wall=True, g_cost=inf, h_cost=0, f_cost=inf), Node(node_x=10, node_y=6, parents=None, is_wall=False, g_cost=inf, h_cost=0, f_cost=inf), Node(node_x=10, node_y=7, parents=None, is_wall=False, g_cost=inf, h_cost=0, f_cost=inf), Node(node_x=10, node_y=8, parents=None, is_wall=False, g_cost=inf, h_cost=0, f_cost=inf), Node(node_x=10, node_y=9, parents=None, is_wall=True, g_cost=inf, h_cost=0, f_cost=inf), Node(node_x=10, node_y=10, parents=None, is_wall=False, g_cost=inf, h_cost=0, f_cost=inf), Node(node_x=10, node_y=11, parents=None, is_wall=False, g_cost=inf, h_cost=0, f_cost=inf), Node(node_x=10, node_y=12, parents=None, is_wall=False, g_cost=inf, h_cost=0, f_cost=inf), Node(node_x=10, node_y=13, parents=None, is_wall=False, g_cost=inf, h_cost=0, f_cost=inf), Node(node_x=10, node_y=14, parents=None, is_wall=False, g_cost=inf, h_cost=0, f_cost=inf), Node(node_x=10, node_y=15, parents=None, is_wall=True, g_cost=inf, h_cost=0, f_cost=inf), Node(node_x=10, node_y=16, parents=None, is_wall=False, g_cost=inf, h_cost=0, f_cost=inf), Node(node_x=10, node_y=17, parents=None, is_wall=True, g_cost=inf, h_cost=0, f_cost=inf), Node(node_x=10, node_y=18, parents=None, is_wall=False, g_cost=inf, h_cost=0, f_cost=inf), Node(node_x=10, node_y=19, parents=None, is_wall=True, g_cost=inf, h_cost=0, f_cost=inf)], [Node(node_x=11, node_y=0, parents=None, is_wall=False, g_cost=inf, h_cost=0, f_cost=inf), Node(node_x=11, node_y=1, parents=None, is_wall=True, g_cost=inf, h_cost=0, f_cost=inf), Node(node_x=11, node_y=2, parents=None, is_wall=True, g_cost=inf, h_cost=0, f_cost=inf), Node(node_x=11, node_y=3, parents=None, is_wall=True, g_cost=inf, h_cost=0, f_cost=inf), Node(node_x=11, node_y=4, parents=None, is_wall=True, g_cost=inf, h_cost=0, f_cost=inf), Node(node_x=11, node_y=5, parents=None, is_wall=True, g_cost=inf, h_cost=0, f_cost=inf), Node(node_x=11, node_y=6, parents=None, is_wall=True, g_cost=inf, h_cost=0, f_cost=inf), Node(node_x=11, node_y=7, parents=None, is_wall=True, g_cost=inf, h_cost=0, f_cost=inf), Node(node_x=11, node_y=8, parents=None, is_wall=True, g_cost=inf, h_cost=0, f_cost=inf), Node(node_x=11, node_y=9, parents=None, is_wall=True, g_cost=inf, h_cost=0, f_cost=inf), Node(node_x=11, node_y=10, parents=None, is_wall=True, g_cost=inf, h_cost=0, f_cost=inf), Node(node_x=11, node_y=11, parents=None, is_wall=True, g_cost=inf, h_cost=0, f_cost=inf), Node(node_x=11, node_y=12, parents=None, is_wall=True, g_cost=inf, h_cost=0, f_cost=inf), Node(node_x=11, node_y=13, parents=None, is_wall=True, g_cost=inf, h_cost=0, f_cost=inf), Node(node_x=11, node_y=14, parents=None, is_wall=True, g_cost=inf, h_cost=0, f_cost=inf), Node(node_x=11, node_y=15, parents=None, is_wall=True, g_cost=inf, h_cost=0, f_cost=inf), Node(node_x=11, node_y=16, parents=None, is_wall=False, g_cost=inf, h_cost=0, f_cost=inf), Node(node_x=11, node_y=17, parents=None, is_wall=True, g_cost=inf, h_cost=0, f_cost=inf), Node(node_x=11, node_y=18, parents=None, is_wall=False, g_cost=inf, h_cost=0, f_cost=inf), Node(node_x=11, node_y=19, parents=None, is_wall=True, g_cost=inf, h_cost=0, f_cost=inf)], [Node(node_x=12, node_y=0, parents=None, is_wall=False, g_cost=inf, h_cost=0, f_cost=inf), Node(node_x=12, node_y=1, parents=None, is_wall=False, g_cost=inf, h_cost=0, f_cost=inf), Node(node_x=12, node_y=2, parents=None, is_wall=False, g_cost=inf, h_cost=0, f_cost=inf), Node(node_x=12, node_y=3, parents=None, is_wall=True, g_cost=inf, h_cost=0, f_cost=inf), Node(node_x=12, node_y=4, parents=None, is_wall=False, g_cost=inf, h_cost=0, f_cost=inf), Node(node_x=12, node_y=5, parents=None, is_wall=False, g_cost=inf, h_cost=0, f_cost=inf), Node(node_x=12, node_y=6, parents=None, is_wall=False, g_cost=inf, h_cost=0, f_cost=inf), Node(node_x=12, node_y=7, parents=None, is_wall=False, g_cost=inf, h_cost=0, f_cost=inf), Node(node_x=12, node_y=8, parents=None, is_wall=False, g_cost=inf, h_cost=0, f_cost=inf), Node(node_x=12, node_y=9, parents=None, is_wall=False, g_cost=inf, h_cost=0, f_cost=inf), Node(node_x=12, node_y=10, parents=None, is_wall=False, g_cost=inf, h_cost=0, f_cost=inf), Node(node_x=12, node_y=11, parents=None, is_wall=False, g_cost=inf, h_cost=0, f_cost=inf), Node(node_x=12, node_y=12, parents=None, is_wall=False, g_cost=inf, h_cost=0, f_cost=inf), Node(node_x=12, node_y=13, parents=None, is_wall=False, g_cost=inf, h_cost=0, f_cost=inf), Node(node_x=12, node_y=14, parents=None, is_wall=False, g_cost=inf, h_cost=0, f_cost=inf), Node(node_x=12, node_y=15, parents=None, is_wall=True, g_cost=inf, h_cost=0, f_cost=inf), Node(node_x=12, node_y=16, parents=None, is_wall=False, g_cost=inf, h_cost=0, f_cost=inf), Node(node_x=12, node_y=17, parents=None, is_wall=False, g_cost=inf, h_cost=0, f_cost=inf), Node(node_x=12, node_y=18, parents=None, is_wall=False, g_cost=inf, h_cost=0, f_cost=inf), Node(node_x=12, node_y=19, parents=None, is_wall=True, g_cost=inf, h_cost=0, f_cost=inf)], [Node(node_x=13, node_y=0, parents=None, is_wall=True, g_cost=inf, h_cost=0, f_cost=inf), Node(node_x=13, node_y=1, parents=None, is_wall=True, g_cost=inf, h_cost=0, f_cost=inf), Node(node_x=13, node_y=2, parents=None, is_wall=False, g_cost=inf, h_cost=0, f_cost=inf), Node(node_x=13, node_y=3, parents=None, is_wall=True, g_cost=inf, h_cost=0, f_cost=inf), Node(node_x=13, node_y=4, parents=None, is_wall=False, g_cost=inf, h_cost=0, f_cost=inf), Node(node_x=13, node_y=5, parents=None, is_wall=True, g_cost=inf, h_cost=0, f_cost=inf), Node(node_x=13, node_y=6, parents=None, is_wall=True, g_cost=inf, h_cost=0, f_cost=inf), Node(node_x=13, node_y=7, parents=None, is_wall=True, g_cost=inf, h_cost=0, f_cost=inf), Node(node_x=13, node_y=8, parents=None, is_wall=False, g_cost=inf, h_cost=0, f_cost=inf), Node(node_x=13, node_y=9, parents=None, is_wall=True, g_cost=inf, h_cost=0, f_cost=inf), Node(node_x=13, node_y=10, parents=None, is_wall=True, g_cost=inf, h_cost=0, f_cost=inf), Node(node_x=13, node_y=11, parents=None, is_wall=True, g_cost=inf, h_cost=0, f_cost=inf), Node(node_x=13, node_y=12, parents=None, is_wall=False, g_cost=inf, h_cost=0, f_cost=inf), Node(node_x=13, node_y=13, parents=None, is_wall=True, g_cost=inf, h_cost=0, f_cost=inf), Node(node_x=13, node_y=14, parents=None, is_wall=True, g_cost=inf, h_cost=0, f_cost=inf), Node(node_x=13, node_y=15, parents=None, is_wall=True, g_cost=inf, h_cost=0, f_cost=inf), Node(node_x=13, node_y=16, parents=None, is_wall=True, g_cost=inf, h_cost=0, f_cost=inf), Node(node_x=13, node_y=17, parents=None, is_wall=True, g_cost=inf, h_cost=0, f_cost=inf), Node(node_x=13, node_y=18, parents=None, is_wall=False, g_cost=inf, h_cost=0, f_cost=inf), Node(node_x=13, node_y=19, parents=None, is_wall=True, g_cost=inf, h_cost=0, f_cost=inf)], [Node(node_x=14, node_y=0, parents=None, is_wall=False, g_cost=inf, h_cost=0, f_cost=inf), Node(node_x=14, node_y=1, parents=None, is_wall=False, g_cost=inf, h_cost=0, f_cost=inf), Node(node_x=14, node_y=2, parents=None, is_wall=False, g_cost=inf, h_cost=0, f_cost=inf), Node(node_x=14, node_y=3, parents=None, is_wall=True, g_cost=inf, h_cost=0, f_cost=inf), Node(node_x=14, node_y=4, parents=None, is_wall=False, g_cost=inf, h_cost=0, f_cost=inf), Node(node_x=14, node_y=5, parents=None, is_wall=True, g_cost=inf, h_cost=0, f_cost=inf), Node(node_x=14, node_y=6, parents=None, is_wall=False, g_cost=inf, h_cost=0, f_cost=inf), Node(node_x=14, node_y=7, parents=None, is_wall=True, g_cost=inf, h_cost=0, f_cost=inf), Node(node_x=14, node_y=8, parents=None, is_wall=False, g_cost=inf, h_cost=0, f_cost=inf), Node(node_x=14, node_y=9, parents=None, is_wall=False, g_cost=inf, h_cost=0, f_cost=inf), Node(node_x=14, node_y=10, parents=None, is_wall=False, g_cost=inf, h_cost=0, f_cost=inf), Node(node_x=14, node_y=11, parents=None, is_wall=True, g_cost=inf, h_cost=0, f_cost=inf), Node(node_x=14, node_y=12, parents=None, is_wall=False, g_cost=inf, h_cost=0, f_cost=inf), Node(node_x=14, node_y=13, parents=None, is_wall=True, g_cost=inf, h_cost=0, f_cost=inf), Node(node_x=14, node_y=14, parents=None, is_wall=False, g_cost=inf, h_cost=0, f_cost=inf), Node(node_x=14, node_y=15, parents=None, is_wall=False, g_cost=inf, h_cost=0, f_cost=inf), Node(node_x=14, node_y=16, parents=None, is_wall=False, g_cost=inf, h_cost=0, f_cost=inf), Node(node_x=14, node_y=17, parents=None, is_wall=False, g_cost=inf, h_cost=0, f_cost=inf), Node(node_x=14, node_y=18, parents=None, is_wall=False, g_cost=inf, h_cost=0, f_cost=inf), Node(node_x=14, node_y=19, parents=None, is_wall=True, g_cost=inf, h_cost=0, f_cost=inf)], [Node(node_x=15, node_y=0, parents=None, is_wall=False, g_cost=inf, h_cost=0, f_cost=inf), Node(node_x=15, node_y=1, parents=None, is_wall=True, g_cost=inf, h_cost=0, f_cost=inf), Node(node_x=15, node_y=2, parents=None, is_wall=True, g_cost=inf, h_cost=0, f_cost=inf), Node(node_x=15, node_y=3, parents=None, is_wall=True, g_cost=inf, h_cost=0, f_cost=inf), Node(node_x=15, node_y=4, parents=None, is_wall=False, g_cost=inf, h_cost=0, f_cost=inf), Node(node_x=15, node_y=5, parents=None, is_wall=True, g_cost=inf, h_cost=0, f_cost=inf), Node(node_x=15, node_y=6, parents=None, is_wall=False, g_cost=inf, h_cost=0, f_cost=inf), Node(node_x=15, node_y=7, parents=None, is_wall=True, g_cost=inf, h_cost=0, f_cost=inf), Node(node_x=15, node_y=8, parents=None, is_wall=True, g_cost=inf, h_cost=0, f_cost=inf), Node(node_x=15, node_y=9, parents=None, is_wall=True, g_cost=inf, h_cost=0, f_cost=inf), Node(node_x=15, node_y=10, parents=None, is_wall=False, g_cost=inf, h_cost=0, f_cost=inf), Node(node_x=15, node_y=11, parents=None, is_wall=True, g_cost=inf, h_cost=0, f_cost=inf), Node(node_x=15, node_y=12, parents=None, is_wall=True, g_cost=inf, h_cost=0, f_cost=inf), Node(node_x=15, node_y=13, parents=None, is_wall=True, g_cost=inf, h_cost=0, f_cost=inf), Node(node_x=15, node_y=14, parents=None, is_wall=False, g_cost=inf, h_cost=0, f_cost=inf), Node(node_x=15, node_y=15, parents=None, is_wall=True, g_cost=inf, h_cost=0, f_cost=inf), Node(node_x=15, node_y=16, parents=None, is_wall=True, g_cost=inf, h_cost=0, f_cost=inf), Node(node_x=15, node_y=17, parents=None, is_wall=True, g_cost=inf, h_cost=0, f_cost=inf), Node(node_x=15, node_y=18, parents=None, is_wall=True, g_cost=inf, h_cost=0, f_cost=inf), Node(node_x=15, node_y=19, parents=None, is_wall=True, g_cost=inf, h_cost=0, f_cost=inf)], [Node(node_x=16, node_y=0, parents=None, is_wall=False, g_cost=inf, h_cost=0, f_cost=inf), Node(node_x=16, node_y=1, parents=None, is_wall=True, g_cost=inf, h_cost=0, f_cost=inf), Node(node_x=16, node_y=2, parents=None, is_wall=False, g_cost=inf, h_cost=0, f_cost=inf), Node(node_x=16, node_y=3, parents=None, is_wall=False, g_cost=inf, h_cost=0, f_cost=inf), Node(node_x=16, node_y=4, parents=None, is_wall=False, g_cost=inf, h_cost=0, f_cost=inf), Node(node_x=16, node_y=5, parents=None, is_wall=True, g_cost=inf, h_cost=0, f_cost=inf), Node(node_x=16, node_y=6, parents=None, is_wall=False, g_cost=inf, h_cost=0, f_cost=inf), Node(node_x=16, node_y=7, parents=None, is_wall=False, g_cost=inf, h_cost=0, f_cost=inf), Node(node_x=16, node_y=8, parents=None, is_wall=False, g_cost=inf, h_cost=0, f_cost=inf), Node(node_x=16, node_y=9, parents=None, is_wall=True, g_cost=inf, h_cost=0, f_cost=inf), Node(node_x=16, node_y=10, parents=None, is_wall=False, g_cost=inf, h_cost=0, f_cost=inf), Node(node_x=16, node_y=11, parents=None, is_wall=False, g_cost=inf, h_cost=0, f_cost=inf), Node(node_x=16, node_y=12, parents=None, is_wall=False, g_cost=inf, h_cost=0, f_cost=inf), Node(node_x=16, node_y=13, parents=None, is_wall=True, g_cost=inf, h_cost=0, f_cost=inf), Node(node_x=16, node_y=14, parents=None, is_wall=False, g_cost=inf, h_cost=0, f_cost=inf), Node(node_x=16, node_y=15, parents=None, is_wall=False, g_cost=inf, h_cost=0, f_cost=inf), Node(node_x=16, node_y=16, parents=None, is_wall=False, g_cost=inf, h_cost=0, f_cost=inf), Node(node_x=16, node_y=17, parents=None, is_wall=True, g_cost=inf, h_cost=0, f_cost=inf), Node(node_x=16, node_y=18, parents=None, is_wall=False, g_cost=inf, h_cost=0, f_cost=inf), Node(node_x=16, node_y=19, parents=None, is_wall=True, g_cost=inf, h_cost=0, f_cost=inf)], [Node(node_x=17, node_y=0, parents=None, is_wall=False, g_cost=inf, h_cost=0, f_cost=inf), Node(node_x=17, node_y=1, parents=None, is_wall=True, g_cost=inf, h_cost=0, f_cost=inf), Node(node_x=17, node_y=2, parents=None, is_wall=False, g_cost=inf, h_cost=0, f_cost=inf), Node(node_x=17, node_y=3, parents=None, is_wall=True, g_cost=inf, h_cost=0, f_cost=inf), Node(node_x=17, node_y=4, parents=None, is_wall=True, g_cost=inf, h_cost=0, f_cost=inf), Node(node_x=17, node_y=5, parents=None, is_wall=True, g_cost=inf, h_cost=0, f_cost=inf), Node(node_x=17, node_y=6, parents=None, is_wall=False, g_cost=inf, h_cost=0, f_cost=inf), Node(node_x=17, node_y=7, parents=None, is_wall=True, g_cost=inf, h_cost=0, f_cost=inf), Node(node_x=17, node_y=8, parents=None, is_wall=False, g_cost=inf, h_cost=0, f_cost=inf), Node(node_x=17, node_y=9, parents=None, is_wall=True, g_cost=inf, h_cost=0, f_cost=inf), Node(node_x=17, node_y=10, parents=None, is_wall=True, g_cost=inf, h_cost=0, f_cost=inf), Node(node_x=17, node_y=11, parents=None, is_wall=True, g_cost=inf, h_cost=0, f_cost=inf), Node(node_x=17, node_y=12, parents=None, is_wall=False, g_cost=inf, h_cost=0, f_cost=inf), Node(node_x=17, node_y=13, parents=None, is_wall=True, g_cost=inf, h_cost=0, f_cost=inf), Node(node_x=17, node_y=14, parents=None, is_wall=True, g_cost=inf, h_cost=0, f_cost=inf), Node(node_x=17, node_y=15, parents=None, is_wall=True, g_cost=inf, h_cost=0, f_cost=inf), Node(node_x=17, node_y=16, parents=None, is_wall=False, g_cost=inf, h_cost=0, f_cost=inf), Node(node_x=17, node_y=17, parents=None, is_wall=True, g_cost=inf, h_cost=0, f_cost=inf), Node(node_x=17, node_y=18, parents=None, is_wall=False, g_cost=inf, h_cost=0, f_cost=inf), Node(node_x=17, node_y=19, parents=None, is_wall=True, g_cost=inf, h_cost=0, f_cost=inf)], [Node(node_x=18, node_y=0, parents=None, is_wall=False, g_cost=inf, h_cost=0, f_cost=inf), Node(node_x=18, node_y=1, parents=None, is_wall=False, g_cost=inf, h_cost=0, f_cost=inf), Node(node_x=18, node_y=2, parents=None, is_wall=False, g_cost=inf, h_cost=0, f_cost=inf), Node(node_x=18, node_y=3, parents=None, is_wall=False, g_cost=inf, h_cost=0, f_cost=inf), Node(node_x=18, node_y=4, parents=None, is_wall=False, g_cost=inf, h_cost=0, f_cost=inf), Node(node_x=18, node_y=5, parents=None, is_wall=False, g_cost=inf, h_cost=0, f_cost=inf), Node(node_x=18, node_y=6, parents=None, is_wall=False, g_cost=inf, h_cost=0, f_cost=inf), Node(node_x=18, node_y=7, parents=None, is_wall=True, g_cost=inf, h_cost=0, f_cost=inf), Node(node_x=18, node_y=8, parents=None, is_wall=False, g_cost=inf, h_cost=0, f_cost=inf), Node(node_x=18, node_y=9, parents=None, is_wall=False, g_cost=inf, h_cost=0, f_cost=inf), Node(node_x=18, node_y=10, parents=None, is_wall=False, g_cost=inf, h_cost=0, f_cost=inf), Node(node_x=18, node_y=11, parents=None, is_wall=True, g_cost=inf, h_cost=0, f_cost=inf), Node(node_x=18, node_y=12, parents=None, is_wall=False, g_cost=inf, h_cost=0, f_cost=inf), Node(node_x=18, node_y=13, parents=None, is_wall=False, g_cost=inf, h_cost=0, f_cost=inf), Node(node_x=18, node_y=14, parents=None, is_wall=False, g_cost=inf, h_cost=0, f_cost=inf), Node(node_x=18, node_y=15, parents=None, is_wall=False, g_cost=inf, h_cost=0, f_cost=inf), Node(node_x=18, node_y=16, parents=None, is_wall=False, g_cost=inf, h_cost=0, f_cost=inf), Node(node_x=18, node_y=17, parents=None, is_wall=False, g_cost=inf, h_cost=0, f_cost=inf), Node(node_x=18, node_y=18, parents=None, is_wall=False, g_cost=inf, h_cost=0, f_cost=inf), Node(node_x=18, node_y=19, parents=None, is_wall=True, g_cost=inf, h_cost=0, f_cost=inf)], [Node(node_x=19, node_y=0, parents=None, is_wall=True, g_cost=inf, h_cost=0, f_cost=inf), Node(node_x=19, node_y=1, parents=None, is_wall=True, g_cost=inf, h_cost=0, f_cost=inf), Node(node_x=19, node_y=2, parents=None, is_wall=True, g_cost=inf, h_cost=0, f_cost=inf), Node(node_x=19, node_y=3, parents=None, is_wall=True, g_cost=inf, h_cost=0, f_cost=inf), Node(node_x=19, node_y=4, parents=None, is_wall=True, g_cost=inf, h_cost=0, f_cost=inf), Node(node_x=19, node_y=5, parents=None, is_wall=True, g_cost=inf, h_cost=0, f_cost=inf), Node(node_x=19, node_y=6, parents=None, is_wall=True, g_cost=inf, h_cost=0, f_cost=inf), Node(node_x=19, node_y=7, parents=None, is_wall=True, g_cost=inf, h_cost=0, f_cost=inf), Node(node_x=19, node_y=8, parents=None, is_wall=True, g_cost=inf, h_cost=0, f_cost=inf), Node(node_x=19, node_y=9, parents=None, is_wall=True, g_cost=inf, h_cost=0, f_cost=inf), Node(node_x=19, node_y=10, parents=None, is_wall=True, g_cost=inf, h_cost=0, f_cost=inf), Node(node_x=19, node_y=11, parents=None, is_wall=True, g_cost=inf, h_cost=0, f_cost=inf), Node(node_x=19, node_y=12, parents=None, is_wall=True, g_cost=inf, h_cost=0, f_cost=inf), Node(node_x=19, node_y=13, parents=None, is_wall=True, g_cost=inf, h_cost=0, f_cost=inf), Node(node_x=19, node_y=14, parents=None, is_wall=True, g_cost=inf, h_cost=0, f_cost=inf), Node(node_x=19, node_y=15, parents=None, is_wall=True, g_cost=inf, h_cost=0, f_cost=inf), Node(node_x=19, node_y=16, parents=None, is_wall=True, g_cost=inf, h_cost=0, f_cost=inf), Node(node_x=19, node_y=17, parents=None, is_wall=True, g_cost=inf, h_cost=0, f_cost=inf), Node(node_x=19, node_y=18, parents=None, is_wall=True, g_cost=inf, h_cost=0, f_cost=inf), Node(node_x=19, node_y=19, parents=None, is_wall=True, g_cost=inf, h_cost=0, f_cost=inf)]], start_node=Node(node_x=0, node_y=11, parents=None, is_wall=False, g_cost=0, h_cost=17, f_cost=17), goal_node=Node(node_x=14, node_y=14, parents=None, is_wall=False, g_cost=inf, h_cost=0, f_cost=inf))"
     },
     "execution_count": 32,
     "metadata": {},
     "output_type": "execute_result"
    }
   ],
   "source": [
    "from astar import Astar\n",
    "\n",
    "test_nodes = Astar.node_init(maze_grid=test_maze)\n",
    "test_nodes"
   ],
   "metadata": {
    "collapsed": false,
    "ExecuteTime": {
     "end_time": "2024-03-11T10:34:40.371847800Z",
     "start_time": "2024-03-11T10:34:40.342517600Z"
    }
   },
   "id": "ebc6f6abe2db0292",
   "execution_count": 32
  },
  {
   "cell_type": "code",
   "outputs": [
    {
     "ename": "TypeError",
     "evalue": "unhashable type: 'Node'",
     "output_type": "error",
     "traceback": [
      "\u001B[1;31m---------------------------------------------------------------------------\u001B[0m",
      "\u001B[1;31mTypeError\u001B[0m                                 Traceback (most recent call last)",
      "Cell \u001B[1;32mIn[33], line 1\u001B[0m\n\u001B[1;32m----> 1\u001B[0m \u001B[43mtest_nodes\u001B[49m\u001B[38;5;241;43m.\u001B[39;49m\u001B[43mfind_path\u001B[49m\u001B[43m(\u001B[49m\u001B[43m)\u001B[49m\n",
      "File \u001B[1;32m~\\PycharmProjects\\maze-and-path-finding\\astar.py:41\u001B[0m, in \u001B[0;36mAstar.find_path\u001B[1;34m(self)\u001B[0m\n\u001B[0;32m     39\u001B[0m \u001B[38;5;28;01mwhile\u001B[39;00m \u001B[38;5;28mlen\u001B[39m(open_list) \u001B[38;5;241m>\u001B[39m \u001B[38;5;241m0\u001B[39m:\n\u001B[0;32m     40\u001B[0m     current_node \u001B[38;5;241m=\u001B[39m heapq\u001B[38;5;241m.\u001B[39mheappop(open_list)\n\u001B[1;32m---> 41\u001B[0m     \u001B[43msearched_list\u001B[49m\u001B[38;5;241;43m.\u001B[39;49m\u001B[43madd\u001B[49m\u001B[43m(\u001B[49m\u001B[43mcurrent_node\u001B[49m\u001B[43m)\u001B[49m\n\u001B[0;32m     43\u001B[0m     \u001B[38;5;66;03m# If the goal is reached, return the constructed path\u001B[39;00m\n\u001B[0;32m     44\u001B[0m     \u001B[38;5;28mself\u001B[39m\u001B[38;5;241m.\u001B[39mcheck_goal_reached(current_node)\n",
      "\u001B[1;31mTypeError\u001B[0m: unhashable type: 'Node'"
     ]
    }
   ],
   "source": [
    "test_nodes.find_path()"
   ],
   "metadata": {
    "collapsed": false,
    "ExecuteTime": {
     "end_time": "2024-03-11T10:34:40.372848Z",
     "start_time": "2024-03-11T10:34:40.346152500Z"
    }
   },
   "id": "8239595018933b68",
   "execution_count": 33
  },
  {
   "cell_type": "code",
   "outputs": [],
   "source": [],
   "metadata": {
    "collapsed": false,
    "ExecuteTime": {
     "start_time": "2024-03-11T10:34:40.359806700Z"
    }
   },
   "id": "9226dfcbd0dd9e49",
   "execution_count": null
  },
  {
   "cell_type": "code",
   "outputs": [],
   "source": [],
   "metadata": {
    "collapsed": false,
    "ExecuteTime": {
     "start_time": "2024-03-11T10:34:40.360310700Z"
    }
   },
   "id": "7c8a38b359f4bd0c",
   "execution_count": null
  },
  {
   "cell_type": "code",
   "outputs": [],
   "source": [],
   "metadata": {
    "collapsed": false,
    "ExecuteTime": {
     "start_time": "2024-03-11T10:34:40.361311Z"
    }
   },
   "id": "ec75d669e7eea0ff",
   "execution_count": null
  }
 ],
 "metadata": {
  "kernelspec": {
   "display_name": "Python 3",
   "language": "python",
   "name": "python3"
  },
  "language_info": {
   "codemirror_mode": {
    "name": "ipython",
    "version": 2
   },
   "file_extension": ".py",
   "mimetype": "text/x-python",
   "name": "python",
   "nbconvert_exporter": "python",
   "pygments_lexer": "ipython2",
   "version": "2.7.6"
  }
 },
 "nbformat": 4,
 "nbformat_minor": 5
}
