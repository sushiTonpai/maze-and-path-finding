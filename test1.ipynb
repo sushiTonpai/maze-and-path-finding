{
 "cells": [
  {
   "cell_type": "code",
   "execution_count": 1,
   "id": "initial_id",
   "metadata": {
    "collapsed": true,
    "ExecuteTime": {
     "end_time": "2024-03-11T10:49:00.772954100Z",
     "start_time": "2024-03-11T10:49:00.705201500Z"
    }
   },
   "outputs": [
    {
     "name": "stdout",
     "output_type": "stream",
     "text": [
      "pygame 2.5.2 (SDL 2.28.3, Python 3.12.1)\n",
      "Hello from the pygame community. https://www.pygame.org/contribute.html\n"
     ]
    }
   ],
   "source": [
    "from __future__ import annotations\n",
    "\n",
    "import maze\n",
    "from maze import Maze"
   ]
  },
  {
   "cell_type": "code",
   "outputs": [
    {
     "name": "stdout",
     "output_type": "stream",
     "text": [
      "non-visualized maze generator\n"
     ]
    }
   ],
   "source": [
    "test_maze = Maze.maze_generator()\n",
    "\n",
    "# print(test_maze[0])"
   ],
   "metadata": {
    "collapsed": false,
    "ExecuteTime": {
     "end_time": "2024-03-11T10:49:00.772954100Z",
     "start_time": "2024-03-11T10:49:00.770941200Z"
    }
   },
   "id": "5a2ff4e9a7af095b",
   "execution_count": 2
  },
  {
   "cell_type": "code",
   "outputs": [
    {
     "data": {
      "text/plain": "Cell(x=0, y=0, visited=True, searching=False, is_start=False, is_goal=False)"
     },
     "execution_count": 3,
     "metadata": {},
     "output_type": "execute_result"
    }
   ],
   "source": [
    "empty_maze = Maze.maze_init().maze_grid\n",
    "curr_cell = empty_maze[0][0]\n",
    "curr_cell"
   ],
   "metadata": {
    "collapsed": false,
    "ExecuteTime": {
     "end_time": "2024-03-11T10:49:00.777908300Z",
     "start_time": "2024-03-11T10:49:00.773959700Z"
    }
   },
   "id": "6be46fb18ef15302",
   "execution_count": 3
  },
  {
   "cell_type": "code",
   "outputs": [
    {
     "data": {
      "text/plain": "['south', 'east']"
     },
     "execution_count": 4,
     "metadata": {},
     "output_type": "execute_result"
    }
   ],
   "source": [
    "lst_dir = curr_cell.neighbours_directions(maze=empty_maze)\n",
    "lst_dir"
   ],
   "metadata": {
    "collapsed": false,
    "ExecuteTime": {
     "end_time": "2024-03-11T10:49:00.781897400Z",
     "start_time": "2024-03-11T10:49:00.777908300Z"
    }
   },
   "id": "fac05b5fcf6737e2",
   "execution_count": 4
  },
  {
   "cell_type": "code",
   "outputs": [
    {
     "data": {
      "text/plain": "[Cell(x=2, y=0, visited=False, searching=False, is_start=False, is_goal=False),\n Cell(x=1, y=0, visited=False, searching=False, is_start=False, is_goal=False)]"
     },
     "execution_count": 5,
     "metadata": {},
     "output_type": "execute_result"
    }
   ],
   "source": [
    "n_cell = curr_cell.move(directions=lst_dir,maze=empty_maze)\n",
    "n_cell\n",
    "\n"
   ],
   "metadata": {
    "collapsed": false,
    "ExecuteTime": {
     "end_time": "2024-03-11T10:49:00.786263400Z",
     "start_time": "2024-03-11T10:49:00.780894200Z"
    }
   },
   "id": "75fe7b58258a4f6",
   "execution_count": 5
  },
  {
   "cell_type": "code",
   "outputs": [
    {
     "data": {
      "text/plain": "[Cell(x=0, y=0, visited=True, searching=False, is_start=False, is_goal=False),\n Cell(x=0, y=1, visited=False, searching=False, is_start=False, is_goal=False),\n Cell(x=0, y=2, visited=True, searching=False, is_start=False, is_goal=False),\n Cell(x=0, y=3, visited=True, searching=False, is_start=False, is_goal=False),\n Cell(x=0, y=4, visited=True, searching=False, is_start=False, is_goal=False),\n Cell(x=0, y=5, visited=True, searching=False, is_start=False, is_goal=False),\n Cell(x=0, y=6, visited=True, searching=False, is_start=False, is_goal=False),\n Cell(x=0, y=7, visited=True, searching=False, is_start=False, is_goal=False),\n Cell(x=0, y=8, visited=True, searching=False, is_start=False, is_goal=False),\n Cell(x=0, y=9, visited=True, searching=False, is_start=False, is_goal=False),\n Cell(x=0, y=10, visited=True, searching=False, is_start=False, is_goal=False),\n Cell(x=0, y=11, visited=True, searching=False, is_start=False, is_goal=False),\n Cell(x=0, y=12, visited=True, searching=False, is_start=False, is_goal=False),\n Cell(x=0, y=13, visited=False, searching=False, is_start=False, is_goal=False),\n Cell(x=0, y=14, visited=True, searching=False, is_start=False, is_goal=False),\n Cell(x=0, y=15, visited=True, searching=False, is_start=False, is_goal=False),\n Cell(x=0, y=16, visited=True, searching=False, is_start=False, is_goal=False),\n Cell(x=0, y=17, visited=False, searching=False, is_start=False, is_goal=False),\n Cell(x=0, y=18, visited=True, searching=False, is_start=False, is_goal=False),\n Cell(x=0, y=19, visited=False, searching=False, is_start=False, is_goal=False)]"
     },
     "execution_count": 6,
     "metadata": {},
     "output_type": "execute_result"
    }
   ],
   "source": [
    "test_maze[0]"
   ],
   "metadata": {
    "collapsed": false,
    "ExecuteTime": {
     "end_time": "2024-03-11T10:49:00.787267300Z",
     "start_time": "2024-03-11T10:49:00.784408600Z"
    }
   },
   "id": "6981f1941f273fb0",
   "execution_count": 6
  },
  {
   "cell_type": "code",
   "outputs": [],
   "source": [],
   "metadata": {
    "collapsed": false,
    "ExecuteTime": {
     "end_time": "2024-03-11T10:49:00.791627200Z",
     "start_time": "2024-03-11T10:49:00.787267300Z"
    }
   },
   "id": "c8206fd9509f7148",
   "execution_count": 6
  },
  {
   "cell_type": "code",
   "outputs": [],
   "source": [
    "from node import Node\n",
    "\n",
    "\n",
    "nodes: NodeType = [[Node.cell_to_node(cell)for cell in row]for row in test_maze] \n",
    "NodeType = list[list[Node]]"
   ],
   "metadata": {
    "collapsed": false,
    "ExecuteTime": {
     "end_time": "2024-03-11T10:49:00.835211200Z",
     "start_time": "2024-03-11T10:49:00.789148200Z"
    }
   },
   "id": "da141389f6643978",
   "execution_count": 7
  },
  {
   "cell_type": "code",
   "outputs": [
    {
     "data": {
      "text/plain": "[Node(node_x=0, node_y=0, parents=None, is_wall=False, g_cost=inf, h_cost=0, f_cost=inf)]"
     },
     "execution_count": 8,
     "metadata": {},
     "output_type": "execute_result"
    }
   ],
   "source": [
    "import heapq\n",
    "opl = []\n",
    "cll = []\n",
    "heapq.heappush(opl,nodes[0][0])\n",
    "opl"
   ],
   "metadata": {
    "collapsed": false,
    "ExecuteTime": {
     "end_time": "2024-03-11T10:49:00.835211200Z",
     "start_time": "2024-03-11T10:49:00.792638800Z"
    }
   },
   "id": "daad88f5fa37a0a6",
   "execution_count": 8
  },
  {
   "cell_type": "code",
   "outputs": [
    {
     "name": "stdout",
     "output_type": "stream",
     "text": [
      "Node(node_x=0, node_y=0, parents=None, is_wall=False, g_cost=inf, h_cost=0, f_cost=inf) [] [Node(node_x=0, node_y=0, parents=None, is_wall=False, g_cost=inf, h_cost=0, f_cost=inf)]\n"
     ]
    }
   ],
   "source": [
    "ccn = heapq.heappop(opl)\n",
    "cll.append(ccn)\n",
    "print(ccn, opl,cll)"
   ],
   "metadata": {
    "collapsed": false,
    "ExecuteTime": {
     "end_time": "2024-03-11T10:49:00.836214700Z",
     "start_time": "2024-03-11T10:49:00.795603900Z"
    }
   },
   "id": "125ddcf8cec5dded",
   "execution_count": 9
  },
  {
   "cell_type": "code",
   "outputs": [],
   "source": [],
   "metadata": {
    "collapsed": false,
    "ExecuteTime": {
     "end_time": "2024-03-11T10:49:00.836214700Z",
     "start_time": "2024-03-11T10:49:00.798646Z"
    }
   },
   "id": "7115dc376172490c",
   "execution_count": 9
  },
  {
   "cell_type": "code",
   "outputs": [
    {
     "data": {
      "text/plain": "Astar(node_grid=[[Node(node_x=0, node_y=0, parents=None, is_wall=False, g_cost=inf, h_cost=0, f_cost=inf), Node(node_x=0, node_y=1, parents=None, is_wall=True, g_cost=inf, h_cost=0, f_cost=inf), Node(node_x=0, node_y=2, parents=None, is_wall=False, g_cost=inf, h_cost=0, f_cost=inf), Node(node_x=0, node_y=3, parents=None, is_wall=False, g_cost=inf, h_cost=0, f_cost=inf), Node(node_x=0, node_y=4, parents=None, is_wall=False, g_cost=inf, h_cost=0, f_cost=inf), Node(node_x=0, node_y=5, parents=None, is_wall=False, g_cost=inf, h_cost=0, f_cost=inf), Node(node_x=0, node_y=6, parents=None, is_wall=False, g_cost=inf, h_cost=0, f_cost=inf), Node(node_x=0, node_y=7, parents=None, is_wall=False, g_cost=inf, h_cost=0, f_cost=inf), Node(node_x=0, node_y=8, parents=None, is_wall=False, g_cost=inf, h_cost=0, f_cost=inf), Node(node_x=0, node_y=9, parents=None, is_wall=False, g_cost=inf, h_cost=0, f_cost=inf), Node(node_x=0, node_y=10, parents=None, is_wall=False, g_cost=inf, h_cost=0, f_cost=inf), Node(node_x=0, node_y=11, parents=None, is_wall=False, g_cost=inf, h_cost=0, f_cost=inf), Node(node_x=0, node_y=12, parents=None, is_wall=False, g_cost=inf, h_cost=0, f_cost=inf), Node(node_x=0, node_y=13, parents=None, is_wall=True, g_cost=inf, h_cost=0, f_cost=inf), Node(node_x=0, node_y=14, parents=None, is_wall=False, g_cost=inf, h_cost=0, f_cost=inf), Node(node_x=0, node_y=15, parents=None, is_wall=False, g_cost=inf, h_cost=0, f_cost=inf), Node(node_x=0, node_y=16, parents=None, is_wall=False, g_cost=inf, h_cost=0, f_cost=inf), Node(node_x=0, node_y=17, parents=None, is_wall=True, g_cost=inf, h_cost=0, f_cost=inf), Node(node_x=0, node_y=18, parents=None, is_wall=False, g_cost=inf, h_cost=0, f_cost=inf), Node(node_x=0, node_y=19, parents=None, is_wall=True, g_cost=inf, h_cost=0, f_cost=inf)], [Node(node_x=1, node_y=0, parents=None, is_wall=False, g_cost=inf, h_cost=0, f_cost=inf), Node(node_x=1, node_y=1, parents=None, is_wall=True, g_cost=inf, h_cost=0, f_cost=inf), Node(node_x=1, node_y=2, parents=None, is_wall=True, g_cost=inf, h_cost=0, f_cost=inf), Node(node_x=1, node_y=3, parents=None, is_wall=True, g_cost=inf, h_cost=0, f_cost=inf), Node(node_x=1, node_y=4, parents=None, is_wall=False, g_cost=inf, h_cost=0, f_cost=inf), Node(node_x=1, node_y=5, parents=None, is_wall=True, g_cost=inf, h_cost=0, f_cost=inf), Node(node_x=1, node_y=6, parents=None, is_wall=False, g_cost=inf, h_cost=0, f_cost=inf), Node(node_x=1, node_y=7, parents=None, is_wall=True, g_cost=inf, h_cost=0, f_cost=inf), Node(node_x=1, node_y=8, parents=None, is_wall=True, g_cost=inf, h_cost=0, f_cost=inf), Node(node_x=1, node_y=9, parents=None, is_wall=True, g_cost=inf, h_cost=0, f_cost=inf), Node(node_x=1, node_y=10, parents=None, is_wall=True, g_cost=inf, h_cost=0, f_cost=inf), Node(node_x=1, node_y=11, parents=None, is_wall=True, g_cost=inf, h_cost=0, f_cost=inf), Node(node_x=1, node_y=12, parents=None, is_wall=False, g_cost=inf, h_cost=0, f_cost=inf), Node(node_x=1, node_y=13, parents=None, is_wall=True, g_cost=inf, h_cost=0, f_cost=inf), Node(node_x=1, node_y=14, parents=None, is_wall=False, g_cost=inf, h_cost=0, f_cost=inf), Node(node_x=1, node_y=15, parents=None, is_wall=True, g_cost=inf, h_cost=0, f_cost=inf), Node(node_x=1, node_y=16, parents=None, is_wall=False, g_cost=inf, h_cost=0, f_cost=inf), Node(node_x=1, node_y=17, parents=None, is_wall=True, g_cost=inf, h_cost=0, f_cost=inf), Node(node_x=1, node_y=18, parents=None, is_wall=False, g_cost=inf, h_cost=0, f_cost=inf), Node(node_x=1, node_y=19, parents=None, is_wall=True, g_cost=inf, h_cost=0, f_cost=inf)], [Node(node_x=2, node_y=0, parents=None, is_wall=False, g_cost=inf, h_cost=0, f_cost=inf), Node(node_x=2, node_y=1, parents=None, is_wall=False, g_cost=inf, h_cost=0, f_cost=inf), Node(node_x=2, node_y=2, parents=None, is_wall=False, g_cost=inf, h_cost=0, f_cost=inf), Node(node_x=2, node_y=3, parents=None, is_wall=True, g_cost=inf, h_cost=0, f_cost=inf), Node(node_x=2, node_y=4, parents=None, is_wall=False, g_cost=inf, h_cost=0, f_cost=inf), Node(node_x=2, node_y=5, parents=None, is_wall=True, g_cost=inf, h_cost=0, f_cost=inf), Node(node_x=2, node_y=6, parents=None, is_wall=False, g_cost=inf, h_cost=0, f_cost=inf), Node(node_x=2, node_y=7, parents=None, is_wall=False, g_cost=inf, h_cost=0, f_cost=inf), Node(node_x=2, node_y=8, parents=None, is_wall=False, g_cost=inf, h_cost=0, f_cost=inf), Node(node_x=2, node_y=9, parents=None, is_wall=True, g_cost=inf, h_cost=0, f_cost=inf), Node(node_x=2, node_y=10, parents=None, is_wall=False, g_cost=inf, h_cost=0, f_cost=inf), Node(node_x=2, node_y=11, parents=None, is_wall=True, g_cost=inf, h_cost=0, f_cost=inf), Node(node_x=2, node_y=12, parents=None, is_wall=False, g_cost=inf, h_cost=0, f_cost=inf), Node(node_x=2, node_y=13, parents=None, is_wall=False, g_cost=inf, h_cost=0, f_cost=inf), Node(node_x=2, node_y=14, parents=None, is_wall=False, g_cost=inf, h_cost=0, f_cost=inf), Node(node_x=2, node_y=15, parents=None, is_wall=True, g_cost=inf, h_cost=0, f_cost=inf), Node(node_x=2, node_y=16, parents=None, is_wall=False, g_cost=inf, h_cost=0, f_cost=inf), Node(node_x=2, node_y=17, parents=None, is_wall=False, g_cost=inf, h_cost=0, f_cost=inf), Node(node_x=2, node_y=18, parents=None, is_wall=False, g_cost=inf, h_cost=0, f_cost=inf), Node(node_x=2, node_y=19, parents=None, is_wall=True, g_cost=inf, h_cost=0, f_cost=inf)], [Node(node_x=3, node_y=0, parents=None, is_wall=True, g_cost=inf, h_cost=0, f_cost=inf), Node(node_x=3, node_y=1, parents=None, is_wall=True, g_cost=inf, h_cost=0, f_cost=inf), Node(node_x=3, node_y=2, parents=None, is_wall=False, g_cost=inf, h_cost=0, f_cost=inf), Node(node_x=3, node_y=3, parents=None, is_wall=True, g_cost=inf, h_cost=0, f_cost=inf), Node(node_x=3, node_y=4, parents=None, is_wall=True, g_cost=inf, h_cost=0, f_cost=inf), Node(node_x=3, node_y=5, parents=None, is_wall=True, g_cost=inf, h_cost=0, f_cost=inf), Node(node_x=3, node_y=6, parents=None, is_wall=True, g_cost=inf, h_cost=0, f_cost=inf), Node(node_x=3, node_y=7, parents=None, is_wall=True, g_cost=inf, h_cost=0, f_cost=inf), Node(node_x=3, node_y=8, parents=None, is_wall=False, g_cost=inf, h_cost=0, f_cost=inf), Node(node_x=3, node_y=9, parents=None, is_wall=True, g_cost=inf, h_cost=0, f_cost=inf), Node(node_x=3, node_y=10, parents=None, is_wall=False, g_cost=inf, h_cost=0, f_cost=inf), Node(node_x=3, node_y=11, parents=None, is_wall=True, g_cost=inf, h_cost=0, f_cost=inf), Node(node_x=3, node_y=12, parents=None, is_wall=True, g_cost=inf, h_cost=0, f_cost=inf), Node(node_x=3, node_y=13, parents=None, is_wall=True, g_cost=inf, h_cost=0, f_cost=inf), Node(node_x=3, node_y=14, parents=None, is_wall=True, g_cost=inf, h_cost=0, f_cost=inf), Node(node_x=3, node_y=15, parents=None, is_wall=True, g_cost=inf, h_cost=0, f_cost=inf), Node(node_x=3, node_y=16, parents=None, is_wall=True, g_cost=inf, h_cost=0, f_cost=inf), Node(node_x=3, node_y=17, parents=None, is_wall=True, g_cost=inf, h_cost=0, f_cost=inf), Node(node_x=3, node_y=18, parents=None, is_wall=False, g_cost=inf, h_cost=0, f_cost=inf), Node(node_x=3, node_y=19, parents=None, is_wall=True, g_cost=inf, h_cost=0, f_cost=inf)], [Node(node_x=4, node_y=0, parents=None, is_wall=False, g_cost=inf, h_cost=0, f_cost=inf), Node(node_x=4, node_y=1, parents=None, is_wall=True, g_cost=inf, h_cost=0, f_cost=inf), Node(node_x=4, node_y=2, parents=None, is_wall=False, g_cost=inf, h_cost=0, f_cost=inf), Node(node_x=4, node_y=3, parents=None, is_wall=False, g_cost=inf, h_cost=0, f_cost=inf), Node(node_x=4, node_y=4, parents=None, is_wall=False, g_cost=inf, h_cost=0, f_cost=inf), Node(node_x=4, node_y=5, parents=None, is_wall=False, g_cost=inf, h_cost=0, f_cost=inf), Node(node_x=4, node_y=6, parents=None, is_wall=False, g_cost=inf, h_cost=0, f_cost=inf), Node(node_x=4, node_y=7, parents=None, is_wall=False, g_cost=inf, h_cost=0, f_cost=inf), Node(node_x=4, node_y=8, parents=None, is_wall=False, g_cost=inf, h_cost=0, f_cost=inf), Node(node_x=4, node_y=9, parents=None, is_wall=True, g_cost=inf, h_cost=0, f_cost=inf), Node(node_x=4, node_y=10, parents=None, is_wall=False, g_cost=inf, h_cost=0, f_cost=inf), Node(node_x=4, node_y=11, parents=None, is_wall=True, g_cost=inf, h_cost=0, f_cost=inf), Node(node_x=4, node_y=12, parents=None, is_wall=False, g_cost=inf, h_cost=0, f_cost=inf), Node(node_x=4, node_y=13, parents=None, is_wall=False, g_cost=inf, h_cost=0, f_cost=inf), Node(node_x=4, node_y=14, parents=None, is_wall=False, g_cost=inf, h_cost=0, f_cost=inf), Node(node_x=4, node_y=15, parents=None, is_wall=True, g_cost=inf, h_cost=0, f_cost=inf), Node(node_x=4, node_y=16, parents=None, is_wall=False, g_cost=inf, h_cost=0, f_cost=inf), Node(node_x=4, node_y=17, parents=None, is_wall=False, g_cost=inf, h_cost=0, f_cost=inf), Node(node_x=4, node_y=18, parents=None, is_wall=False, g_cost=inf, h_cost=0, f_cost=inf), Node(node_x=4, node_y=19, parents=None, is_wall=True, g_cost=inf, h_cost=0, f_cost=inf)], [Node(node_x=5, node_y=0, parents=None, is_wall=False, g_cost=inf, h_cost=0, f_cost=inf), Node(node_x=5, node_y=1, parents=None, is_wall=True, g_cost=inf, h_cost=0, f_cost=inf), Node(node_x=5, node_y=2, parents=None, is_wall=True, g_cost=inf, h_cost=0, f_cost=inf), Node(node_x=5, node_y=3, parents=None, is_wall=True, g_cost=inf, h_cost=0, f_cost=inf), Node(node_x=5, node_y=4, parents=None, is_wall=True, g_cost=inf, h_cost=0, f_cost=inf), Node(node_x=5, node_y=5, parents=None, is_wall=True, g_cost=inf, h_cost=0, f_cost=inf), Node(node_x=5, node_y=6, parents=None, is_wall=True, g_cost=inf, h_cost=0, f_cost=inf), Node(node_x=5, node_y=7, parents=None, is_wall=True, g_cost=inf, h_cost=0, f_cost=inf), Node(node_x=5, node_y=8, parents=None, is_wall=True, g_cost=inf, h_cost=0, f_cost=inf), Node(node_x=5, node_y=9, parents=None, is_wall=True, g_cost=inf, h_cost=0, f_cost=inf), Node(node_x=5, node_y=10, parents=None, is_wall=False, g_cost=inf, h_cost=0, f_cost=inf), Node(node_x=5, node_y=11, parents=None, is_wall=True, g_cost=inf, h_cost=0, f_cost=inf), Node(node_x=5, node_y=12, parents=None, is_wall=False, g_cost=inf, h_cost=0, f_cost=inf), Node(node_x=5, node_y=13, parents=None, is_wall=True, g_cost=inf, h_cost=0, f_cost=inf), Node(node_x=5, node_y=14, parents=None, is_wall=False, g_cost=inf, h_cost=0, f_cost=inf), Node(node_x=5, node_y=15, parents=None, is_wall=True, g_cost=inf, h_cost=0, f_cost=inf), Node(node_x=5, node_y=16, parents=None, is_wall=False, g_cost=inf, h_cost=0, f_cost=inf), Node(node_x=5, node_y=17, parents=None, is_wall=True, g_cost=inf, h_cost=0, f_cost=inf), Node(node_x=5, node_y=18, parents=None, is_wall=True, g_cost=inf, h_cost=0, f_cost=inf), Node(node_x=5, node_y=19, parents=None, is_wall=True, g_cost=inf, h_cost=0, f_cost=inf)], [Node(node_x=6, node_y=0, parents=None, is_wall=False, g_cost=inf, h_cost=0, f_cost=inf), Node(node_x=6, node_y=1, parents=None, is_wall=False, g_cost=inf, h_cost=0, f_cost=inf), Node(node_x=6, node_y=2, parents=None, is_wall=False, g_cost=inf, h_cost=0, f_cost=inf), Node(node_x=6, node_y=3, parents=None, is_wall=False, g_cost=inf, h_cost=0, f_cost=inf), Node(node_x=6, node_y=4, parents=None, is_wall=False, g_cost=inf, h_cost=0, f_cost=inf), Node(node_x=6, node_y=5, parents=None, is_wall=False, g_cost=inf, h_cost=0, f_cost=inf), Node(node_x=6, node_y=6, parents=None, is_wall=False, g_cost=inf, h_cost=0, f_cost=inf), Node(node_x=6, node_y=7, parents=None, is_wall=False, g_cost=inf, h_cost=0, f_cost=inf), Node(node_x=6, node_y=8, parents=None, is_wall=False, g_cost=inf, h_cost=0, f_cost=inf), Node(node_x=6, node_y=9, parents=None, is_wall=False, g_cost=inf, h_cost=0, f_cost=inf), Node(node_x=6, node_y=10, parents=None, is_wall=False, g_cost=inf, h_cost=0, f_cost=inf), Node(node_x=6, node_y=11, parents=None, is_wall=True, g_cost=inf, h_cost=0, f_cost=inf), Node(node_x=6, node_y=12, parents=None, is_wall=False, g_cost=inf, h_cost=0, f_cost=inf), Node(node_x=6, node_y=13, parents=None, is_wall=True, g_cost=inf, h_cost=0, f_cost=inf), Node(node_x=6, node_y=14, parents=None, is_wall=False, g_cost=inf, h_cost=0, f_cost=inf), Node(node_x=6, node_y=15, parents=None, is_wall=False, g_cost=inf, h_cost=0, f_cost=inf), Node(node_x=6, node_y=16, parents=None, is_wall=False, g_cost=inf, h_cost=0, f_cost=inf), Node(node_x=6, node_y=17, parents=None, is_wall=True, g_cost=inf, h_cost=0, f_cost=inf), Node(node_x=6, node_y=18, parents=None, is_wall=False, g_cost=inf, h_cost=0, f_cost=inf), Node(node_x=6, node_y=19, parents=None, is_wall=True, g_cost=inf, h_cost=0, f_cost=inf)], [Node(node_x=7, node_y=0, parents=None, is_wall=False, g_cost=inf, h_cost=0, f_cost=inf), Node(node_x=7, node_y=1, parents=None, is_wall=True, g_cost=inf, h_cost=0, f_cost=inf), Node(node_x=7, node_y=2, parents=None, is_wall=True, g_cost=inf, h_cost=0, f_cost=inf), Node(node_x=7, node_y=3, parents=None, is_wall=True, g_cost=inf, h_cost=0, f_cost=inf), Node(node_x=7, node_y=4, parents=None, is_wall=True, g_cost=inf, h_cost=0, f_cost=inf), Node(node_x=7, node_y=5, parents=None, is_wall=True, g_cost=inf, h_cost=0, f_cost=inf), Node(node_x=7, node_y=6, parents=None, is_wall=False, g_cost=inf, h_cost=0, f_cost=inf), Node(node_x=7, node_y=7, parents=None, is_wall=True, g_cost=inf, h_cost=0, f_cost=inf), Node(node_x=7, node_y=8, parents=None, is_wall=True, g_cost=inf, h_cost=0, f_cost=inf), Node(node_x=7, node_y=9, parents=None, is_wall=True, g_cost=inf, h_cost=0, f_cost=inf), Node(node_x=7, node_y=10, parents=None, is_wall=False, g_cost=inf, h_cost=0, f_cost=inf), Node(node_x=7, node_y=11, parents=None, is_wall=True, g_cost=inf, h_cost=0, f_cost=inf), Node(node_x=7, node_y=12, parents=None, is_wall=False, g_cost=inf, h_cost=0, f_cost=inf), Node(node_x=7, node_y=13, parents=None, is_wall=True, g_cost=inf, h_cost=0, f_cost=inf), Node(node_x=7, node_y=14, parents=None, is_wall=True, g_cost=inf, h_cost=0, f_cost=inf), Node(node_x=7, node_y=15, parents=None, is_wall=True, g_cost=inf, h_cost=0, f_cost=inf), Node(node_x=7, node_y=16, parents=None, is_wall=True, g_cost=inf, h_cost=0, f_cost=inf), Node(node_x=7, node_y=17, parents=None, is_wall=True, g_cost=inf, h_cost=0, f_cost=inf), Node(node_x=7, node_y=18, parents=None, is_wall=False, g_cost=inf, h_cost=0, f_cost=inf), Node(node_x=7, node_y=19, parents=None, is_wall=True, g_cost=inf, h_cost=0, f_cost=inf)], [Node(node_x=8, node_y=0, parents=None, is_wall=False, g_cost=inf, h_cost=0, f_cost=inf), Node(node_x=8, node_y=1, parents=None, is_wall=True, g_cost=inf, h_cost=0, f_cost=inf), Node(node_x=8, node_y=2, parents=None, is_wall=False, g_cost=inf, h_cost=0, f_cost=inf), Node(node_x=8, node_y=3, parents=None, is_wall=False, g_cost=inf, h_cost=0, f_cost=inf), Node(node_x=8, node_y=4, parents=None, is_wall=False, g_cost=inf, h_cost=0, f_cost=inf), Node(node_x=8, node_y=5, parents=None, is_wall=False, g_cost=inf, h_cost=0, f_cost=inf), Node(node_x=8, node_y=6, parents=None, is_wall=False, g_cost=inf, h_cost=0, f_cost=inf), Node(node_x=8, node_y=7, parents=None, is_wall=True, g_cost=inf, h_cost=0, f_cost=inf), Node(node_x=8, node_y=8, parents=None, is_wall=False, g_cost=inf, h_cost=0, f_cost=inf), Node(node_x=8, node_y=9, parents=None, is_wall=False, g_cost=inf, h_cost=0, f_cost=inf), Node(node_x=8, node_y=10, parents=None, is_wall=False, g_cost=inf, h_cost=0, f_cost=inf), Node(node_x=8, node_y=11, parents=None, is_wall=True, g_cost=inf, h_cost=0, f_cost=inf), Node(node_x=8, node_y=12, parents=None, is_wall=False, g_cost=inf, h_cost=0, f_cost=inf), Node(node_x=8, node_y=13, parents=None, is_wall=False, g_cost=inf, h_cost=0, f_cost=inf), Node(node_x=8, node_y=14, parents=None, is_wall=False, g_cost=inf, h_cost=0, f_cost=inf), Node(node_x=8, node_y=15, parents=None, is_wall=True, g_cost=inf, h_cost=0, f_cost=inf), Node(node_x=8, node_y=16, parents=None, is_wall=False, g_cost=inf, h_cost=0, f_cost=inf), Node(node_x=8, node_y=17, parents=None, is_wall=False, g_cost=inf, h_cost=0, f_cost=inf), Node(node_x=8, node_y=18, parents=None, is_wall=False, g_cost=inf, h_cost=0, f_cost=inf), Node(node_x=8, node_y=19, parents=None, is_wall=True, g_cost=inf, h_cost=0, f_cost=inf)], [Node(node_x=9, node_y=0, parents=None, is_wall=False, g_cost=inf, h_cost=0, f_cost=inf), Node(node_x=9, node_y=1, parents=None, is_wall=True, g_cost=inf, h_cost=0, f_cost=inf), Node(node_x=9, node_y=2, parents=None, is_wall=False, g_cost=inf, h_cost=0, f_cost=inf), Node(node_x=9, node_y=3, parents=None, is_wall=True, g_cost=inf, h_cost=0, f_cost=inf), Node(node_x=9, node_y=4, parents=None, is_wall=True, g_cost=inf, h_cost=0, f_cost=inf), Node(node_x=9, node_y=5, parents=None, is_wall=True, g_cost=inf, h_cost=0, f_cost=inf), Node(node_x=9, node_y=6, parents=None, is_wall=False, g_cost=inf, h_cost=0, f_cost=inf), Node(node_x=9, node_y=7, parents=None, is_wall=True, g_cost=inf, h_cost=0, f_cost=inf), Node(node_x=9, node_y=8, parents=None, is_wall=True, g_cost=inf, h_cost=0, f_cost=inf), Node(node_x=9, node_y=9, parents=None, is_wall=True, g_cost=inf, h_cost=0, f_cost=inf), Node(node_x=9, node_y=10, parents=None, is_wall=True, g_cost=inf, h_cost=0, f_cost=inf), Node(node_x=9, node_y=11, parents=None, is_wall=True, g_cost=inf, h_cost=0, f_cost=inf), Node(node_x=9, node_y=12, parents=None, is_wall=True, g_cost=inf, h_cost=0, f_cost=inf), Node(node_x=9, node_y=13, parents=None, is_wall=True, g_cost=inf, h_cost=0, f_cost=inf), Node(node_x=9, node_y=14, parents=None, is_wall=False, g_cost=inf, h_cost=0, f_cost=inf), Node(node_x=9, node_y=15, parents=None, is_wall=True, g_cost=inf, h_cost=0, f_cost=inf), Node(node_x=9, node_y=16, parents=None, is_wall=False, g_cost=inf, h_cost=0, f_cost=inf), Node(node_x=9, node_y=17, parents=None, is_wall=True, g_cost=inf, h_cost=0, f_cost=inf), Node(node_x=9, node_y=18, parents=None, is_wall=False, g_cost=inf, h_cost=0, f_cost=inf), Node(node_x=9, node_y=19, parents=None, is_wall=True, g_cost=inf, h_cost=0, f_cost=inf)], [Node(node_x=10, node_y=0, parents=None, is_wall=False, g_cost=inf, h_cost=0, f_cost=inf), Node(node_x=10, node_y=1, parents=None, is_wall=True, g_cost=inf, h_cost=0, f_cost=inf), Node(node_x=10, node_y=2, parents=None, is_wall=False, g_cost=inf, h_cost=0, f_cost=inf), Node(node_x=10, node_y=3, parents=None, is_wall=True, g_cost=inf, h_cost=0, f_cost=inf), Node(node_x=10, node_y=4, parents=None, is_wall=False, g_cost=inf, h_cost=0, f_cost=inf), Node(node_x=10, node_y=5, parents=None, is_wall=False, g_cost=inf, h_cost=0, f_cost=inf), Node(node_x=10, node_y=6, parents=None, is_wall=False, g_cost=inf, h_cost=0, f_cost=inf), Node(node_x=10, node_y=7, parents=None, is_wall=True, g_cost=inf, h_cost=0, f_cost=inf), Node(node_x=10, node_y=8, parents=None, is_wall=False, g_cost=inf, h_cost=0, f_cost=inf), Node(node_x=10, node_y=9, parents=None, is_wall=False, g_cost=inf, h_cost=0, f_cost=inf), Node(node_x=10, node_y=10, parents=None, is_wall=False, g_cost=inf, h_cost=0, f_cost=inf), Node(node_x=10, node_y=11, parents=None, is_wall=False, g_cost=inf, h_cost=0, f_cost=inf), Node(node_x=10, node_y=12, parents=None, is_wall=False, g_cost=inf, h_cost=0, f_cost=inf), Node(node_x=10, node_y=13, parents=None, is_wall=False, g_cost=inf, h_cost=0, f_cost=inf), Node(node_x=10, node_y=14, parents=None, is_wall=False, g_cost=inf, h_cost=0, f_cost=inf), Node(node_x=10, node_y=15, parents=None, is_wall=True, g_cost=inf, h_cost=0, f_cost=inf), Node(node_x=10, node_y=16, parents=None, is_wall=False, g_cost=inf, h_cost=0, f_cost=inf), Node(node_x=10, node_y=17, parents=None, is_wall=True, g_cost=inf, h_cost=0, f_cost=inf), Node(node_x=10, node_y=18, parents=None, is_wall=False, g_cost=inf, h_cost=0, f_cost=inf), Node(node_x=10, node_y=19, parents=None, is_wall=True, g_cost=inf, h_cost=0, f_cost=inf)], [Node(node_x=11, node_y=0, parents=None, is_wall=False, g_cost=inf, h_cost=0, f_cost=inf), Node(node_x=11, node_y=1, parents=None, is_wall=True, g_cost=inf, h_cost=0, f_cost=inf), Node(node_x=11, node_y=2, parents=None, is_wall=False, g_cost=inf, h_cost=0, f_cost=inf), Node(node_x=11, node_y=3, parents=None, is_wall=True, g_cost=inf, h_cost=0, f_cost=inf), Node(node_x=11, node_y=4, parents=None, is_wall=False, g_cost=inf, h_cost=0, f_cost=inf), Node(node_x=11, node_y=5, parents=None, is_wall=True, g_cost=inf, h_cost=0, f_cost=inf), Node(node_x=11, node_y=6, parents=None, is_wall=True, g_cost=inf, h_cost=0, f_cost=inf), Node(node_x=11, node_y=7, parents=None, is_wall=True, g_cost=inf, h_cost=0, f_cost=inf), Node(node_x=11, node_y=8, parents=None, is_wall=False, g_cost=inf, h_cost=0, f_cost=inf), Node(node_x=11, node_y=9, parents=None, is_wall=True, g_cost=inf, h_cost=0, f_cost=inf), Node(node_x=11, node_y=10, parents=None, is_wall=True, g_cost=inf, h_cost=0, f_cost=inf), Node(node_x=11, node_y=11, parents=None, is_wall=True, g_cost=inf, h_cost=0, f_cost=inf), Node(node_x=11, node_y=12, parents=None, is_wall=True, g_cost=inf, h_cost=0, f_cost=inf), Node(node_x=11, node_y=13, parents=None, is_wall=True, g_cost=inf, h_cost=0, f_cost=inf), Node(node_x=11, node_y=14, parents=None, is_wall=True, g_cost=inf, h_cost=0, f_cost=inf), Node(node_x=11, node_y=15, parents=None, is_wall=True, g_cost=inf, h_cost=0, f_cost=inf), Node(node_x=11, node_y=16, parents=None, is_wall=False, g_cost=inf, h_cost=0, f_cost=inf), Node(node_x=11, node_y=17, parents=None, is_wall=True, g_cost=inf, h_cost=0, f_cost=inf), Node(node_x=11, node_y=18, parents=None, is_wall=False, g_cost=inf, h_cost=0, f_cost=inf), Node(node_x=11, node_y=19, parents=None, is_wall=True, g_cost=inf, h_cost=0, f_cost=inf)], [Node(node_x=12, node_y=0, parents=None, is_wall=False, g_cost=inf, h_cost=0, f_cost=inf), Node(node_x=12, node_y=1, parents=None, is_wall=True, g_cost=inf, h_cost=0, f_cost=inf), Node(node_x=12, node_y=2, parents=None, is_wall=False, g_cost=inf, h_cost=0, f_cost=inf), Node(node_x=12, node_y=3, parents=None, is_wall=True, g_cost=inf, h_cost=0, f_cost=inf), Node(node_x=12, node_y=4, parents=None, is_wall=False, g_cost=inf, h_cost=0, f_cost=inf), Node(node_x=12, node_y=5, parents=None, is_wall=False, g_cost=inf, h_cost=0, f_cost=inf), Node(node_x=12, node_y=6, parents=None, is_wall=False, g_cost=inf, h_cost=0, f_cost=inf), Node(node_x=12, node_y=7, parents=None, is_wall=True, g_cost=inf, h_cost=0, f_cost=inf), Node(node_x=12, node_y=8, parents=None, is_wall=False, g_cost=inf, h_cost=0, f_cost=inf), Node(node_x=12, node_y=9, parents=None, is_wall=True, g_cost=inf, h_cost=0, f_cost=inf), Node(node_x=12, node_y=10, parents=None, is_wall=False, g_cost=inf, h_cost=0, f_cost=inf), Node(node_x=12, node_y=11, parents=None, is_wall=False, g_cost=inf, h_cost=0, f_cost=inf), Node(node_x=12, node_y=12, parents=None, is_wall=False, g_cost=inf, h_cost=0, f_cost=inf), Node(node_x=12, node_y=13, parents=None, is_wall=False, g_cost=inf, h_cost=0, f_cost=inf), Node(node_x=12, node_y=14, parents=None, is_wall=False, g_cost=inf, h_cost=0, f_cost=inf), Node(node_x=12, node_y=15, parents=None, is_wall=True, g_cost=inf, h_cost=0, f_cost=inf), Node(node_x=12, node_y=16, parents=None, is_wall=False, g_cost=inf, h_cost=0, f_cost=inf), Node(node_x=12, node_y=17, parents=None, is_wall=True, g_cost=inf, h_cost=0, f_cost=inf), Node(node_x=12, node_y=18, parents=None, is_wall=False, g_cost=inf, h_cost=0, f_cost=inf), Node(node_x=12, node_y=19, parents=None, is_wall=True, g_cost=inf, h_cost=0, f_cost=inf)], [Node(node_x=13, node_y=0, parents=None, is_wall=False, g_cost=inf, h_cost=0, f_cost=inf), Node(node_x=13, node_y=1, parents=None, is_wall=True, g_cost=inf, h_cost=0, f_cost=inf), Node(node_x=13, node_y=2, parents=None, is_wall=False, g_cost=inf, h_cost=0, f_cost=inf), Node(node_x=13, node_y=3, parents=None, is_wall=True, g_cost=inf, h_cost=0, f_cost=inf), Node(node_x=13, node_y=4, parents=None, is_wall=True, g_cost=inf, h_cost=0, f_cost=inf), Node(node_x=13, node_y=5, parents=None, is_wall=True, g_cost=inf, h_cost=0, f_cost=inf), Node(node_x=13, node_y=6, parents=None, is_wall=False, g_cost=inf, h_cost=0, f_cost=inf), Node(node_x=13, node_y=7, parents=None, is_wall=True, g_cost=inf, h_cost=0, f_cost=inf), Node(node_x=13, node_y=8, parents=None, is_wall=False, g_cost=inf, h_cost=0, f_cost=inf), Node(node_x=13, node_y=9, parents=None, is_wall=True, g_cost=inf, h_cost=0, f_cost=inf), Node(node_x=13, node_y=10, parents=None, is_wall=True, g_cost=inf, h_cost=0, f_cost=inf), Node(node_x=13, node_y=11, parents=None, is_wall=True, g_cost=inf, h_cost=0, f_cost=inf), Node(node_x=13, node_y=12, parents=None, is_wall=False, g_cost=inf, h_cost=0, f_cost=inf), Node(node_x=13, node_y=13, parents=None, is_wall=True, g_cost=inf, h_cost=0, f_cost=inf), Node(node_x=13, node_y=14, parents=None, is_wall=False, g_cost=inf, h_cost=0, f_cost=inf), Node(node_x=13, node_y=15, parents=None, is_wall=True, g_cost=inf, h_cost=0, f_cost=inf), Node(node_x=13, node_y=16, parents=None, is_wall=False, g_cost=inf, h_cost=0, f_cost=inf), Node(node_x=13, node_y=17, parents=None, is_wall=True, g_cost=inf, h_cost=0, f_cost=inf), Node(node_x=13, node_y=18, parents=None, is_wall=False, g_cost=inf, h_cost=0, f_cost=inf), Node(node_x=13, node_y=19, parents=None, is_wall=True, g_cost=inf, h_cost=0, f_cost=inf)], [Node(node_x=14, node_y=0, parents=None, is_wall=False, g_cost=inf, h_cost=0, f_cost=inf), Node(node_x=14, node_y=1, parents=None, is_wall=True, g_cost=inf, h_cost=0, f_cost=inf), Node(node_x=14, node_y=2, parents=None, is_wall=False, g_cost=inf, h_cost=0, f_cost=inf), Node(node_x=14, node_y=3, parents=None, is_wall=True, g_cost=inf, h_cost=0, f_cost=inf), Node(node_x=14, node_y=4, parents=None, is_wall=False, g_cost=inf, h_cost=0, f_cost=inf), Node(node_x=14, node_y=5, parents=None, is_wall=True, g_cost=inf, h_cost=0, f_cost=inf), Node(node_x=14, node_y=6, parents=None, is_wall=False, g_cost=inf, h_cost=0, f_cost=inf), Node(node_x=14, node_y=7, parents=None, is_wall=True, g_cost=inf, h_cost=0, f_cost=inf), Node(node_x=14, node_y=8, parents=None, is_wall=False, g_cost=inf, h_cost=0, f_cost=inf), Node(node_x=14, node_y=9, parents=None, is_wall=False, g_cost=inf, h_cost=0, f_cost=inf), Node(node_x=14, node_y=10, parents=None, is_wall=False, g_cost=inf, h_cost=0, f_cost=inf), Node(node_x=14, node_y=11, parents=None, is_wall=False, g_cost=inf, h_cost=0, f_cost=inf), Node(node_x=14, node_y=12, parents=None, is_wall=False, g_cost=inf, h_cost=0, f_cost=inf), Node(node_x=14, node_y=13, parents=None, is_wall=True, g_cost=inf, h_cost=0, f_cost=inf), Node(node_x=14, node_y=14, parents=None, is_wall=False, g_cost=inf, h_cost=0, f_cost=inf), Node(node_x=14, node_y=15, parents=None, is_wall=True, g_cost=inf, h_cost=0, f_cost=inf), Node(node_x=14, node_y=16, parents=None, is_wall=False, g_cost=inf, h_cost=0, f_cost=inf), Node(node_x=14, node_y=17, parents=None, is_wall=True, g_cost=inf, h_cost=0, f_cost=inf), Node(node_x=14, node_y=18, parents=None, is_wall=False, g_cost=inf, h_cost=0, f_cost=inf), Node(node_x=14, node_y=19, parents=None, is_wall=True, g_cost=inf, h_cost=0, f_cost=inf)], [Node(node_x=15, node_y=0, parents=None, is_wall=False, g_cost=inf, h_cost=0, f_cost=inf), Node(node_x=15, node_y=1, parents=None, is_wall=True, g_cost=inf, h_cost=0, f_cost=inf), Node(node_x=15, node_y=2, parents=None, is_wall=False, g_cost=inf, h_cost=0, f_cost=inf), Node(node_x=15, node_y=3, parents=None, is_wall=True, g_cost=inf, h_cost=0, f_cost=inf), Node(node_x=15, node_y=4, parents=None, is_wall=False, g_cost=inf, h_cost=0, f_cost=inf), Node(node_x=15, node_y=5, parents=None, is_wall=True, g_cost=inf, h_cost=0, f_cost=inf), Node(node_x=15, node_y=6, parents=None, is_wall=False, g_cost=inf, h_cost=0, f_cost=inf), Node(node_x=15, node_y=7, parents=None, is_wall=True, g_cost=inf, h_cost=0, f_cost=inf), Node(node_x=15, node_y=8, parents=None, is_wall=True, g_cost=inf, h_cost=0, f_cost=inf), Node(node_x=15, node_y=9, parents=None, is_wall=True, g_cost=inf, h_cost=0, f_cost=inf), Node(node_x=15, node_y=10, parents=None, is_wall=True, g_cost=inf, h_cost=0, f_cost=inf), Node(node_x=15, node_y=11, parents=None, is_wall=True, g_cost=inf, h_cost=0, f_cost=inf), Node(node_x=15, node_y=12, parents=None, is_wall=True, g_cost=inf, h_cost=0, f_cost=inf), Node(node_x=15, node_y=13, parents=None, is_wall=True, g_cost=inf, h_cost=0, f_cost=inf), Node(node_x=15, node_y=14, parents=None, is_wall=False, g_cost=inf, h_cost=0, f_cost=inf), Node(node_x=15, node_y=15, parents=None, is_wall=True, g_cost=inf, h_cost=0, f_cost=inf), Node(node_x=15, node_y=16, parents=None, is_wall=True, g_cost=inf, h_cost=0, f_cost=inf), Node(node_x=15, node_y=17, parents=None, is_wall=True, g_cost=inf, h_cost=0, f_cost=inf), Node(node_x=15, node_y=18, parents=None, is_wall=False, g_cost=inf, h_cost=0, f_cost=inf), Node(node_x=15, node_y=19, parents=None, is_wall=True, g_cost=inf, h_cost=0, f_cost=inf)], [Node(node_x=16, node_y=0, parents=None, is_wall=False, g_cost=inf, h_cost=0, f_cost=inf), Node(node_x=16, node_y=1, parents=None, is_wall=True, g_cost=inf, h_cost=0, f_cost=inf), Node(node_x=16, node_y=2, parents=None, is_wall=False, g_cost=inf, h_cost=0, f_cost=inf), Node(node_x=16, node_y=3, parents=None, is_wall=True, g_cost=inf, h_cost=0, f_cost=inf), Node(node_x=16, node_y=4, parents=None, is_wall=False, g_cost=inf, h_cost=0, f_cost=inf), Node(node_x=16, node_y=5, parents=None, is_wall=False, g_cost=inf, h_cost=0, f_cost=inf), Node(node_x=16, node_y=6, parents=None, is_wall=False, g_cost=inf, h_cost=0, f_cost=inf), Node(node_x=16, node_y=7, parents=None, is_wall=True, g_cost=inf, h_cost=0, f_cost=inf), Node(node_x=16, node_y=8, parents=None, is_wall=False, g_cost=inf, h_cost=0, f_cost=inf), Node(node_x=16, node_y=9, parents=None, is_wall=False, g_cost=inf, h_cost=0, f_cost=inf), Node(node_x=16, node_y=10, parents=None, is_wall=False, g_cost=inf, h_cost=0, f_cost=inf), Node(node_x=16, node_y=11, parents=None, is_wall=False, g_cost=inf, h_cost=0, f_cost=inf), Node(node_x=16, node_y=12, parents=None, is_wall=False, g_cost=inf, h_cost=0, f_cost=inf), Node(node_x=16, node_y=13, parents=None, is_wall=True, g_cost=inf, h_cost=0, f_cost=inf), Node(node_x=16, node_y=14, parents=None, is_wall=False, g_cost=inf, h_cost=0, f_cost=inf), Node(node_x=16, node_y=15, parents=None, is_wall=False, g_cost=inf, h_cost=0, f_cost=inf), Node(node_x=16, node_y=16, parents=None, is_wall=False, g_cost=inf, h_cost=0, f_cost=inf), Node(node_x=16, node_y=17, parents=None, is_wall=True, g_cost=inf, h_cost=0, f_cost=inf), Node(node_x=16, node_y=18, parents=None, is_wall=False, g_cost=inf, h_cost=0, f_cost=inf), Node(node_x=16, node_y=19, parents=None, is_wall=True, g_cost=inf, h_cost=0, f_cost=inf)], [Node(node_x=17, node_y=0, parents=None, is_wall=False, g_cost=inf, h_cost=0, f_cost=inf), Node(node_x=17, node_y=1, parents=None, is_wall=True, g_cost=inf, h_cost=0, f_cost=inf), Node(node_x=17, node_y=2, parents=None, is_wall=False, g_cost=inf, h_cost=0, f_cost=inf), Node(node_x=17, node_y=3, parents=None, is_wall=True, g_cost=inf, h_cost=0, f_cost=inf), Node(node_x=17, node_y=4, parents=None, is_wall=True, g_cost=inf, h_cost=0, f_cost=inf), Node(node_x=17, node_y=5, parents=None, is_wall=True, g_cost=inf, h_cost=0, f_cost=inf), Node(node_x=17, node_y=6, parents=None, is_wall=True, g_cost=inf, h_cost=0, f_cost=inf), Node(node_x=17, node_y=7, parents=None, is_wall=True, g_cost=inf, h_cost=0, f_cost=inf), Node(node_x=17, node_y=8, parents=None, is_wall=False, g_cost=inf, h_cost=0, f_cost=inf), Node(node_x=17, node_y=9, parents=None, is_wall=True, g_cost=inf, h_cost=0, f_cost=inf), Node(node_x=17, node_y=10, parents=None, is_wall=False, g_cost=inf, h_cost=0, f_cost=inf), Node(node_x=17, node_y=11, parents=None, is_wall=True, g_cost=inf, h_cost=0, f_cost=inf), Node(node_x=17, node_y=12, parents=None, is_wall=True, g_cost=inf, h_cost=0, f_cost=inf), Node(node_x=17, node_y=13, parents=None, is_wall=True, g_cost=inf, h_cost=0, f_cost=inf), Node(node_x=17, node_y=14, parents=None, is_wall=True, g_cost=inf, h_cost=0, f_cost=inf), Node(node_x=17, node_y=15, parents=None, is_wall=True, g_cost=inf, h_cost=0, f_cost=inf), Node(node_x=17, node_y=16, parents=None, is_wall=False, g_cost=0, h_cost=22, f_cost=22), Node(node_x=17, node_y=17, parents=None, is_wall=True, g_cost=inf, h_cost=0, f_cost=inf), Node(node_x=17, node_y=18, parents=None, is_wall=False, g_cost=inf, h_cost=0, f_cost=inf), Node(node_x=17, node_y=19, parents=None, is_wall=True, g_cost=inf, h_cost=0, f_cost=inf)], [Node(node_x=18, node_y=0, parents=None, is_wall=False, g_cost=inf, h_cost=0, f_cost=inf), Node(node_x=18, node_y=1, parents=None, is_wall=True, g_cost=inf, h_cost=0, f_cost=inf), Node(node_x=18, node_y=2, parents=None, is_wall=False, g_cost=inf, h_cost=0, f_cost=inf), Node(node_x=18, node_y=3, parents=None, is_wall=False, g_cost=inf, h_cost=0, f_cost=inf), Node(node_x=18, node_y=4, parents=None, is_wall=False, g_cost=inf, h_cost=0, f_cost=inf), Node(node_x=18, node_y=5, parents=None, is_wall=False, g_cost=inf, h_cost=0, f_cost=inf), Node(node_x=18, node_y=6, parents=None, is_wall=False, g_cost=inf, h_cost=0, f_cost=inf), Node(node_x=18, node_y=7, parents=None, is_wall=False, g_cost=inf, h_cost=0, f_cost=inf), Node(node_x=18, node_y=8, parents=None, is_wall=False, g_cost=inf, h_cost=0, f_cost=inf), Node(node_x=18, node_y=9, parents=None, is_wall=True, g_cost=inf, h_cost=0, f_cost=inf), Node(node_x=18, node_y=10, parents=None, is_wall=False, g_cost=inf, h_cost=0, f_cost=inf), Node(node_x=18, node_y=11, parents=None, is_wall=False, g_cost=inf, h_cost=0, f_cost=inf), Node(node_x=18, node_y=12, parents=None, is_wall=False, g_cost=inf, h_cost=0, f_cost=inf), Node(node_x=18, node_y=13, parents=None, is_wall=False, g_cost=inf, h_cost=0, f_cost=inf), Node(node_x=18, node_y=14, parents=None, is_wall=False, g_cost=inf, h_cost=0, f_cost=inf), Node(node_x=18, node_y=15, parents=None, is_wall=False, g_cost=inf, h_cost=0, f_cost=inf), Node(node_x=18, node_y=16, parents=None, is_wall=False, g_cost=inf, h_cost=0, f_cost=inf), Node(node_x=18, node_y=17, parents=None, is_wall=False, g_cost=inf, h_cost=0, f_cost=inf), Node(node_x=18, node_y=18, parents=None, is_wall=False, g_cost=inf, h_cost=0, f_cost=inf), Node(node_x=18, node_y=19, parents=None, is_wall=True, g_cost=inf, h_cost=0, f_cost=inf)], [Node(node_x=19, node_y=0, parents=None, is_wall=True, g_cost=inf, h_cost=0, f_cost=inf), Node(node_x=19, node_y=1, parents=None, is_wall=True, g_cost=inf, h_cost=0, f_cost=inf), Node(node_x=19, node_y=2, parents=None, is_wall=True, g_cost=inf, h_cost=0, f_cost=inf), Node(node_x=19, node_y=3, parents=None, is_wall=True, g_cost=inf, h_cost=0, f_cost=inf), Node(node_x=19, node_y=4, parents=None, is_wall=True, g_cost=inf, h_cost=0, f_cost=inf), Node(node_x=19, node_y=5, parents=None, is_wall=True, g_cost=inf, h_cost=0, f_cost=inf), Node(node_x=19, node_y=6, parents=None, is_wall=True, g_cost=inf, h_cost=0, f_cost=inf), Node(node_x=19, node_y=7, parents=None, is_wall=True, g_cost=inf, h_cost=0, f_cost=inf), Node(node_x=19, node_y=8, parents=None, is_wall=True, g_cost=inf, h_cost=0, f_cost=inf), Node(node_x=19, node_y=9, parents=None, is_wall=True, g_cost=inf, h_cost=0, f_cost=inf), Node(node_x=19, node_y=10, parents=None, is_wall=True, g_cost=inf, h_cost=0, f_cost=inf), Node(node_x=19, node_y=11, parents=None, is_wall=True, g_cost=inf, h_cost=0, f_cost=inf), Node(node_x=19, node_y=12, parents=None, is_wall=True, g_cost=inf, h_cost=0, f_cost=inf), Node(node_x=19, node_y=13, parents=None, is_wall=True, g_cost=inf, h_cost=0, f_cost=inf), Node(node_x=19, node_y=14, parents=None, is_wall=True, g_cost=inf, h_cost=0, f_cost=inf), Node(node_x=19, node_y=15, parents=None, is_wall=True, g_cost=inf, h_cost=0, f_cost=inf), Node(node_x=19, node_y=16, parents=None, is_wall=True, g_cost=inf, h_cost=0, f_cost=inf), Node(node_x=19, node_y=17, parents=None, is_wall=True, g_cost=inf, h_cost=0, f_cost=inf), Node(node_x=19, node_y=18, parents=None, is_wall=True, g_cost=inf, h_cost=0, f_cost=inf), Node(node_x=19, node_y=19, parents=None, is_wall=True, g_cost=inf, h_cost=0, f_cost=inf)]], start_node=Node(node_x=17, node_y=16, parents=None, is_wall=False, g_cost=0, h_cost=22, f_cost=22), goal_node=Node(node_x=0, node_y=11, parents=None, is_wall=False, g_cost=inf, h_cost=0, f_cost=inf))"
     },
     "execution_count": 10,
     "metadata": {},
     "output_type": "execute_result"
    }
   ],
   "source": [
    "from astar import Astar\n",
    "\n",
    "test_nodes = Astar.node_init(maze_grid=test_maze)\n",
    "test_nodes"
   ],
   "metadata": {
    "collapsed": false,
    "ExecuteTime": {
     "end_time": "2024-03-11T10:49:00.837218100Z",
     "start_time": "2024-03-11T10:49:00.800156200Z"
    }
   },
   "id": "ebc6f6abe2db0292",
   "execution_count": 10
  },
  {
   "cell_type": "code",
   "outputs": [
    {
     "data": {
      "text/plain": "[Node(node_x=16, node_y=16, parents=None, is_wall=False, g_cost=1, h_cost=21, f_cost=22),\n Node(node_x=16, node_y=15, parents=None, is_wall=False, g_cost=2, h_cost=20, f_cost=22),\n Node(node_x=16, node_y=14, parents=None, is_wall=False, g_cost=3, h_cost=19, f_cost=22),\n Node(node_x=15, node_y=14, parents=None, is_wall=False, g_cost=4, h_cost=18, f_cost=22),\n Node(node_x=14, node_y=14, parents=None, is_wall=False, g_cost=5, h_cost=17, f_cost=22),\n Node(node_x=13, node_y=14, parents=None, is_wall=False, g_cost=6, h_cost=16, f_cost=22),\n Node(node_x=12, node_y=14, parents=None, is_wall=False, g_cost=7, h_cost=15, f_cost=22),\n Node(node_x=12, node_y=13, parents=None, is_wall=False, g_cost=8, h_cost=14, f_cost=22),\n Node(node_x=12, node_y=12, parents=None, is_wall=False, g_cost=9, h_cost=13, f_cost=22),\n Node(node_x=13, node_y=12, parents=None, is_wall=False, g_cost=10, h_cost=14, f_cost=24),\n Node(node_x=14, node_y=12, parents=None, is_wall=False, g_cost=11, h_cost=15, f_cost=26),\n Node(node_x=14, node_y=11, parents=None, is_wall=False, g_cost=12, h_cost=14, f_cost=26),\n Node(node_x=14, node_y=10, parents=None, is_wall=False, g_cost=13, h_cost=15, f_cost=28),\n Node(node_x=14, node_y=9, parents=None, is_wall=False, g_cost=14, h_cost=16, f_cost=30),\n Node(node_x=14, node_y=8, parents=None, is_wall=False, g_cost=15, h_cost=17, f_cost=32),\n Node(node_x=13, node_y=8, parents=None, is_wall=False, g_cost=16, h_cost=16, f_cost=32),\n Node(node_x=12, node_y=8, parents=None, is_wall=False, g_cost=17, h_cost=15, f_cost=32),\n Node(node_x=11, node_y=8, parents=None, is_wall=False, g_cost=18, h_cost=14, f_cost=32),\n Node(node_x=10, node_y=8, parents=None, is_wall=False, g_cost=19, h_cost=13, f_cost=32),\n Node(node_x=10, node_y=9, parents=None, is_wall=False, g_cost=20, h_cost=12, f_cost=32),\n Node(node_x=10, node_y=10, parents=None, is_wall=False, g_cost=21, h_cost=11, f_cost=32),\n Node(node_x=10, node_y=11, parents=None, is_wall=False, g_cost=22, h_cost=10, f_cost=32),\n Node(node_x=10, node_y=12, parents=None, is_wall=False, g_cost=23, h_cost=11, f_cost=34),\n Node(node_x=10, node_y=13, parents=None, is_wall=False, g_cost=24, h_cost=12, f_cost=36),\n Node(node_x=10, node_y=14, parents=None, is_wall=False, g_cost=25, h_cost=13, f_cost=38),\n Node(node_x=9, node_y=14, parents=None, is_wall=False, g_cost=26, h_cost=12, f_cost=38),\n Node(node_x=8, node_y=14, parents=None, is_wall=False, g_cost=27, h_cost=11, f_cost=38),\n Node(node_x=8, node_y=13, parents=None, is_wall=False, g_cost=28, h_cost=10, f_cost=38),\n Node(node_x=8, node_y=12, parents=None, is_wall=False, g_cost=29, h_cost=9, f_cost=38),\n Node(node_x=7, node_y=12, parents=None, is_wall=False, g_cost=30, h_cost=8, f_cost=38),\n Node(node_x=6, node_y=12, parents=None, is_wall=False, g_cost=31, h_cost=7, f_cost=38),\n Node(node_x=5, node_y=12, parents=None, is_wall=False, g_cost=32, h_cost=6, f_cost=38),\n Node(node_x=4, node_y=12, parents=None, is_wall=False, g_cost=33, h_cost=5, f_cost=38),\n Node(node_x=4, node_y=13, parents=None, is_wall=False, g_cost=34, h_cost=6, f_cost=40),\n Node(node_x=4, node_y=14, parents=None, is_wall=False, g_cost=35, h_cost=7, f_cost=42),\n Node(node_x=5, node_y=14, parents=None, is_wall=False, g_cost=36, h_cost=8, f_cost=44),\n Node(node_x=6, node_y=14, parents=None, is_wall=False, g_cost=37, h_cost=9, f_cost=46),\n Node(node_x=6, node_y=15, parents=None, is_wall=False, g_cost=38, h_cost=10, f_cost=48),\n Node(node_x=6, node_y=16, parents=None, is_wall=False, g_cost=39, h_cost=11, f_cost=50),\n Node(node_x=5, node_y=16, parents=None, is_wall=False, g_cost=40, h_cost=10, f_cost=50),\n Node(node_x=4, node_y=16, parents=None, is_wall=False, g_cost=41, h_cost=9, f_cost=50),\n Node(node_x=4, node_y=17, parents=None, is_wall=False, g_cost=42, h_cost=10, f_cost=52),\n Node(node_x=4, node_y=18, parents=None, is_wall=False, g_cost=43, h_cost=11, f_cost=54),\n Node(node_x=3, node_y=18, parents=None, is_wall=False, g_cost=44, h_cost=10, f_cost=54),\n Node(node_x=2, node_y=18, parents=None, is_wall=False, g_cost=45, h_cost=9, f_cost=54),\n Node(node_x=2, node_y=17, parents=None, is_wall=False, g_cost=46, h_cost=8, f_cost=54),\n Node(node_x=2, node_y=16, parents=None, is_wall=False, g_cost=47, h_cost=7, f_cost=54),\n Node(node_x=1, node_y=16, parents=None, is_wall=False, g_cost=48, h_cost=6, f_cost=54),\n Node(node_x=0, node_y=16, parents=None, is_wall=False, g_cost=49, h_cost=5, f_cost=54),\n Node(node_x=0, node_y=15, parents=None, is_wall=False, g_cost=50, h_cost=4, f_cost=54),\n Node(node_x=0, node_y=14, parents=None, is_wall=False, g_cost=51, h_cost=3, f_cost=54),\n Node(node_x=1, node_y=14, parents=None, is_wall=False, g_cost=52, h_cost=4, f_cost=56),\n Node(node_x=2, node_y=14, parents=None, is_wall=False, g_cost=53, h_cost=5, f_cost=58),\n Node(node_x=2, node_y=13, parents=None, is_wall=False, g_cost=54, h_cost=4, f_cost=58),\n Node(node_x=2, node_y=12, parents=None, is_wall=False, g_cost=55, h_cost=3, f_cost=58),\n Node(node_x=1, node_y=12, parents=None, is_wall=False, g_cost=56, h_cost=2, f_cost=58),\n Node(node_x=0, node_y=12, parents=None, is_wall=False, g_cost=57, h_cost=1, f_cost=58),\n Node(node_x=0, node_y=11, parents=None, is_wall=False, g_cost=58, h_cost=0, f_cost=58)]"
     },
     "execution_count": 11,
     "metadata": {},
     "output_type": "execute_result"
    }
   ],
   "source": [
    "test_nodes.find_path()"
   ],
   "metadata": {
    "collapsed": false,
    "ExecuteTime": {
     "end_time": "2024-03-11T10:49:00.838720200Z",
     "start_time": "2024-03-11T10:49:00.805528200Z"
    }
   },
   "id": "8239595018933b68",
   "execution_count": 11
  },
  {
   "cell_type": "code",
   "outputs": [],
   "source": [],
   "metadata": {
    "collapsed": false,
    "ExecuteTime": {
     "end_time": "2024-03-11T10:49:00.838720200Z",
     "start_time": "2024-03-11T10:49:00.816732Z"
    }
   },
   "id": "9226dfcbd0dd9e49",
   "execution_count": 11
  },
  {
   "cell_type": "code",
   "outputs": [],
   "source": [],
   "metadata": {
    "collapsed": false,
    "ExecuteTime": {
     "end_time": "2024-03-11T10:49:00.838720200Z",
     "start_time": "2024-03-11T10:49:00.818239700Z"
    }
   },
   "id": "7c8a38b359f4bd0c",
   "execution_count": 11
  },
  {
   "cell_type": "code",
   "outputs": [],
   "source": [],
   "metadata": {
    "collapsed": false,
    "ExecuteTime": {
     "end_time": "2024-03-11T10:49:00.921010200Z",
     "start_time": "2024-03-11T10:49:00.820641Z"
    }
   },
   "id": "ec75d669e7eea0ff",
   "execution_count": 11
  }
 ],
 "metadata": {
  "kernelspec": {
   "display_name": "Python 3",
   "language": "python",
   "name": "python3"
  },
  "language_info": {
   "codemirror_mode": {
    "name": "ipython",
    "version": 2
   },
   "file_extension": ".py",
   "mimetype": "text/x-python",
   "name": "python",
   "nbconvert_exporter": "python",
   "pygments_lexer": "ipython2",
   "version": "2.7.6"
  }
 },
 "nbformat": 4,
 "nbformat_minor": 5
}
