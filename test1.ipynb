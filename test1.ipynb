{
 "cells": [
  {
   "cell_type": "code",
   "execution_count": 2,
   "id": "initial_id",
   "metadata": {
    "collapsed": true,
    "ExecuteTime": {
     "end_time": "2024-02-29T06:02:59.611619800Z",
     "start_time": "2024-02-29T06:02:59.606600Z"
    }
   },
   "outputs": [],
   "source": [
    "\n",
    "from maze import Maze"
   ]
  },
  {
   "cell_type": "code",
   "outputs": [
    {
     "name": "stdout",
     "output_type": "stream",
     "text": [
      "[Cell(x=0, y=0, visited=True, in_stack=False, is_start=False, is_end=False), Cell(x=0, y=1, visited=True, in_stack=False, is_start=False, is_end=False), Cell(x=0, y=2, visited=True, in_stack=False, is_start=False, is_end=False), Cell(x=0, y=3, visited=True, in_stack=False, is_start=False, is_end=False), Cell(x=0, y=4, visited=True, in_stack=False, is_start=False, is_end=False), Cell(x=0, y=5, visited=False, in_stack=False, is_start=False, is_end=False), Cell(x=0, y=6, visited=True, in_stack=False, is_start=False, is_end=False), Cell(x=0, y=7, visited=True, in_stack=False, is_start=False, is_end=False), Cell(x=0, y=8, visited=True, in_stack=False, is_start=False, is_end=False), Cell(x=0, y=9, visited=True, in_stack=False, is_start=False, is_end=False), Cell(x=0, y=10, visited=True, in_stack=False, is_start=False, is_end=False), Cell(x=0, y=11, visited=False, in_stack=False, is_start=False, is_end=False), Cell(x=0, y=12, visited=True, in_stack=False, is_start=False, is_end=False), Cell(x=0, y=13, visited=True, in_stack=False, is_start=False, is_end=False), Cell(x=0, y=14, visited=True, in_stack=False, is_start=False, is_end=False), Cell(x=0, y=15, visited=True, in_stack=False, is_start=False, is_end=False), Cell(x=0, y=16, visited=True, in_stack=False, is_start=False, is_end=False), Cell(x=0, y=17, visited=True, in_stack=False, is_start=False, is_end=False), Cell(x=0, y=18, visited=True, in_stack=False, is_start=False, is_end=False), Cell(x=0, y=19, visited=False, in_stack=False, is_start=False, is_end=False)]\n"
     ]
    }
   ],
   "source": [
    "test_maze = Maze.maze_generator()\n",
    "\n",
    "print(test_maze[0])"
   ],
   "metadata": {
    "collapsed": false,
    "ExecuteTime": {
     "end_time": "2024-02-29T06:03:00.045117700Z",
     "start_time": "2024-02-29T06:03:00.043613200Z"
    }
   },
   "id": "5a2ff4e9a7af095b",
   "execution_count": 3
  },
  {
   "cell_type": "code",
   "outputs": [
    {
     "data": {
      "text/plain": "[(1, 1), (0, 0), (0, 2)]"
     },
     "execution_count": 7,
     "metadata": {},
     "output_type": "execute_result"
    }
   ],
   "source": [
    "from Astar import walkable_path\n",
    "\n",
    "walkable_path(test_maze[0][1],test_maze)"
   ],
   "metadata": {
    "collapsed": false,
    "ExecuteTime": {
     "end_time": "2024-02-29T06:03:47.097970Z",
     "start_time": "2024-02-29T06:03:47.093455500Z"
    }
   },
   "id": "6be46fb18ef15302",
   "execution_count": 7
  },
  {
   "cell_type": "code",
   "outputs": [
    {
     "data": {
      "text/plain": "(Cell(x=2, y=0, visited=False, in_stack=False),\n Cell(x=1, y=0, visited=False, in_stack=False))"
     },
     "execution_count": 9,
     "metadata": {},
     "output_type": "execute_result"
    }
   ],
   "source": [],
   "metadata": {
    "collapsed": false,
    "ExecuteTime": {
     "end_time": "2024-02-13T09:03:38.359743Z",
     "start_time": "2024-02-13T09:03:38.355347Z"
    }
   },
   "id": "fac05b5fcf6737e2",
   "execution_count": 9
  },
  {
   "cell_type": "code",
   "outputs": [],
   "source": [
    "\n"
   ],
   "metadata": {
    "collapsed": false,
    "ExecuteTime": {
     "end_time": "2024-02-13T09:20:13.129595Z",
     "start_time": "2024-02-13T09:20:13.127175Z"
    }
   },
   "id": "75fe7b58258a4f6",
   "execution_count": 11
  },
  {
   "cell_type": "code",
   "outputs": [
    {
     "data": {
      "text/plain": "('VENEZUELA', 'CARACAS')"
     },
     "execution_count": 12,
     "metadata": {},
     "output_type": "execute_result"
    }
   ],
   "source": [],
   "metadata": {
    "collapsed": false,
    "ExecuteTime": {
     "end_time": "2024-02-13T09:20:23.681886Z",
     "start_time": "2024-02-13T09:20:23.677968Z"
    }
   },
   "id": "6981f1941f273fb0",
   "execution_count": 12
  }
 ],
 "metadata": {
  "kernelspec": {
   "display_name": "Python 3",
   "language": "python",
   "name": "python3"
  },
  "language_info": {
   "codemirror_mode": {
    "name": "ipython",
    "version": 2
   },
   "file_extension": ".py",
   "mimetype": "text/x-python",
   "name": "python",
   "nbconvert_exporter": "python",
   "pygments_lexer": "ipython2",
   "version": "2.7.6"
  }
 },
 "nbformat": 4,
 "nbformat_minor": 5
}
