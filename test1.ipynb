{
 "cells": [
  {
   "cell_type": "code",
   "execution_count": 1,
   "id": "initial_id",
   "metadata": {
    "collapsed": true,
    "ExecuteTime": {
     "end_time": "2024-02-13T08:58:45.052827Z",
     "start_time": "2024-02-13T08:58:44.894425Z"
    }
   },
   "outputs": [
    {
     "name": "stdout",
     "output_type": "stream",
     "text": [
      "pygame 2.5.2 (SDL 2.28.3, Python 3.12.0)\n",
      "Hello from the pygame community. https://www.pygame.org/contribute.html\n"
     ]
    }
   ],
   "source": [
    "from cell import Cell"
   ]
  },
  {
   "cell_type": "code",
   "outputs": [],
   "source": [
    "from constants import COLS, ROWS\n",
    "\n",
    "maze: list[list[Cell]] = [[Cell(row, col) for col in range(COLS)] for row in range(ROWS)]\n",
    "current_cell = maze[0][0]\n",
    "stack = [current_cell]\n",
    "current_cell.visited = True\n",
    "current_cell.in_stack = True"
   ],
   "metadata": {
    "collapsed": false,
    "ExecuteTime": {
     "end_time": "2024-02-13T09:02:22.312632Z",
     "start_time": "2024-02-13T09:02:22.310075Z"
    }
   },
   "id": "5a2ff4e9a7af095b",
   "execution_count": 3
  },
  {
   "cell_type": "code",
   "outputs": [
    {
     "name": "stdout",
     "output_type": "stream",
     "text": [
      "visiting =  (0, 2) Cell(x=0, y=2, visited=False, in_stack=False)\n",
      "visiting =  (2, 0) Cell(x=2, y=0, visited=False, in_stack=False)\n"
     ]
    }
   ],
   "source": [
    "next_cell, next_path = current_cell.walk_to_neighbour(maze=maze)\n"
   ],
   "metadata": {
    "collapsed": false,
    "ExecuteTime": {
     "end_time": "2024-02-13T09:02:22.619608Z",
     "start_time": "2024-02-13T09:02:22.602206Z"
    }
   },
   "id": "6be46fb18ef15302",
   "execution_count": 4
  },
  {
   "cell_type": "code",
   "outputs": [
    {
     "data": {
      "text/plain": "(Cell(x=2, y=0, visited=False, in_stack=False),\n Cell(x=1, y=0, visited=False, in_stack=False))"
     },
     "execution_count": 9,
     "metadata": {},
     "output_type": "execute_result"
    }
   ],
   "source": [
    "next_cell, next_path"
   ],
   "metadata": {
    "collapsed": false,
    "ExecuteTime": {
     "end_time": "2024-02-13T09:03:38.359743Z",
     "start_time": "2024-02-13T09:03:38.355347Z"
    }
   },
   "id": "fac05b5fcf6737e2",
   "execution_count": 9
  }
 ],
 "metadata": {
  "kernelspec": {
   "display_name": "Python 3",
   "language": "python",
   "name": "python3"
  },
  "language_info": {
   "codemirror_mode": {
    "name": "ipython",
    "version": 2
   },
   "file_extension": ".py",
   "mimetype": "text/x-python",
   "name": "python",
   "nbconvert_exporter": "python",
   "pygments_lexer": "ipython2",
   "version": "2.7.6"
  }
 },
 "nbformat": 4,
 "nbformat_minor": 5
}
