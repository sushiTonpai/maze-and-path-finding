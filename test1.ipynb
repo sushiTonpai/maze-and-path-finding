{
 "cells": [
  {
   "cell_type": "code",
   "execution_count": 1,
   "id": "initial_id",
   "metadata": {
    "collapsed": true,
    "ExecuteTime": {
     "end_time": "2024-03-06T11:16:48.452691100Z",
     "start_time": "2024-03-06T11:16:48.382641800Z"
    }
   },
   "outputs": [
    {
     "name": "stdout",
     "output_type": "stream",
     "text": [
      "pygame 2.5.2 (SDL 2.28.3, Python 3.12.1)\n",
      "Hello from the pygame community. https://www.pygame.org/contribute.html\n"
     ]
    }
   ],
   "source": [
    "\n",
    "from maze import Maze"
   ]
  },
  {
   "cell_type": "code",
   "outputs": [
    {
     "name": "stdout",
     "output_type": "stream",
     "text": [
      "{(0, 2): (0, 1), (2, 0): (1, 0)}\n",
      "{(0, 4): (0, 3), (2, 2): (1, 2)}\n",
      "{(0, 6): (0, 5), (2, 4): (1, 4)}\n",
      "{(0, 8): (0, 7), (2, 6): (1, 6)}\n",
      "{(0, 10): (0, 9), (2, 8): (1, 8)}\n",
      "{(0, 12): (0, 11), (2, 10): (1, 10)}\n",
      "{(2, 12): (2, 11), (4, 10): (3, 10), (2, 8): (2, 9)}\n",
      "{(4, 12): (4, 11), (6, 10): (5, 10), (4, 8): (4, 9)}\n",
      "{(4, 14): (4, 13), (6, 12): (5, 12), (2, 12): (3, 12)}\n",
      "{(4, 16): (4, 15), (6, 14): (5, 14), (2, 14): (3, 14)}\n",
      "{(4, 18): (4, 17), (6, 16): (5, 16), (2, 16): (3, 16)}\n",
      "{(6, 18): (6, 17), (8, 16): (7, 16), (6, 14): (6, 15)}\n",
      "{(8, 18): (7, 18), (4, 18): (5, 18)}\n",
      "{(10, 18): (9, 18), (8, 16): (8, 17)}\n",
      "{(10, 16): (9, 16), (8, 14): (8, 15)}\n",
      "{(10, 18): (10, 17), (12, 16): (11, 16), (10, 14): (10, 15)}\n",
      "{(12, 14): (11, 14), (10, 12): (10, 13), (8, 14): (9, 14)}\n",
      "{(12, 16): (12, 15), (14, 14): (13, 14), (12, 12): (12, 13)}\n",
      "{(12, 18): (12, 17), (14, 16): (13, 16)}\n",
      "{(14, 18): (13, 18), (10, 18): (11, 18)}\n",
      "{(16, 18): (15, 18), (14, 16): (14, 17)}\n",
      "{(16, 16): (15, 16), (14, 14): (14, 15)}\n",
      "{(16, 18): (16, 17), (18, 16): (17, 16), (16, 14): (16, 15)}\n",
      "{(18, 14): (17, 14), (16, 12): (16, 13), (14, 14): (15, 14)}\n",
      "{(18, 16): (18, 15), (18, 12): (18, 13)}\n",
      "{(18, 10): (18, 11), (16, 12): (17, 12)}\n",
      "{(16, 10): (16, 11), (14, 12): (15, 12)}\n",
      "{(14, 14): (14, 13), (14, 10): (14, 11), (12, 12): (13, 12)}\n",
      "{(12, 10): (12, 11), (10, 12): (11, 12)}\n",
      "{(14, 10): (13, 10), (12, 8): (12, 9), (10, 10): (11, 10)}\n",
      "{(10, 12): (10, 11), (10, 8): (10, 9), (8, 10): (9, 10)}\n",
      "{(12, 8): (11, 8), (10, 6): (10, 7), (8, 8): (9, 8)}\n",
      "{(8, 10): (8, 9), (8, 6): (8, 7), (6, 8): (7, 8)}\n",
      "{(6, 10): (6, 9), (6, 6): (6, 7), (4, 8): (5, 8)}\n",
      "{(8, 6): (7, 6), (6, 4): (6, 5), (4, 6): (5, 6)}\n",
      "{(10, 6): (9, 6), (8, 4): (8, 5)}\n",
      "{(10, 4): (9, 4), (8, 2): (8, 3), (6, 4): (7, 4)}\n",
      "{(10, 6): (10, 5), (12, 4): (11, 4), (10, 2): (10, 3)}\n",
      "{(12, 6): (11, 6)}\n",
      "{(12, 8): (12, 7), (14, 6): (13, 6), (12, 4): (12, 5)}\n",
      "{(14, 4): (13, 4), (12, 2): (12, 3)}\n",
      "{(14, 6): (14, 5), (16, 4): (15, 4), (14, 2): (14, 3)}\n",
      "{(14, 8): (14, 7), (16, 6): (15, 6)}\n",
      "{(14, 10): (14, 9), (16, 8): (15, 8), (12, 8): (13, 8)}\n",
      "{(16, 10): (15, 10)}\n",
      "{(18, 10): (17, 10), (16, 8): (16, 9)}\n",
      "{(18, 8): (18, 9)}\n",
      "{(18, 6): (18, 7), (16, 8): (17, 8)}\n",
      "{(18, 4): (18, 5), (16, 6): (17, 6)}\n",
      "{(16, 8): (16, 7), (16, 4): (16, 5)}\n",
      "{(18, 4): (17, 4), (16, 2): (16, 3)}\n",
      "{(18, 2): (18, 3)}\n",
      "{(18, 0): (18, 1), (16, 2): (17, 2)}\n",
      "{(16, 0): (16, 1), (14, 2): (15, 2)}\n",
      "{(14, 0): (14, 1), (12, 2): (13, 2)}\n",
      "{(16, 0): (15, 0), (12, 0): (13, 0)}\n",
      "{(18, 0): (17, 0)}\n",
      "{(12, 0): (13, 0)}\n",
      "{(12, 2): (12, 1), (10, 0): (11, 0)}\n",
      "{(10, 2): (10, 1), (8, 0): (9, 0)}\n",
      "{(8, 2): (8, 1), (6, 0): (7, 0)}\n",
      "{(6, 2): (6, 1), (4, 0): (5, 0)}\n",
      "{(4, 2): (4, 1), (2, 0): (3, 0)}\n",
      "{(4, 4): (4, 3), (6, 2): (5, 2), (2, 2): (3, 2)}\n",
      "{(2, 4): (2, 3), (2, 0): (2, 1)}\n",
      "{(2, 6): (2, 5), (4, 4): (3, 4)}\n",
      "{(4, 6): (4, 5), (6, 4): (5, 4)}\n",
      "{(4, 8): (4, 7), (2, 6): (3, 6)}\n",
      "{(2, 8): (2, 7)}\n",
      "{(4, 8): (3, 8)}\n",
      "{(6, 4): (5, 4)}\n",
      "{(6, 2): (6, 3)}\n",
      "{(8, 2): (7, 2)}\n",
      "{(10, 2): (9, 2)}\n",
      "{(12, 2): (11, 2)}\n",
      "{(2, 0): (2, 1)}\n",
      "{(16, 8): (16, 7)}\n",
      "{(12, 8): (13, 8)}\n",
      "{(6, 10): (6, 9)}\n",
      "{(6, 12): (6, 11), (8, 10): (7, 10)}\n",
      "{(8, 12): (8, 11)}\n",
      "{(8, 14): (8, 13), (10, 12): (9, 12), (6, 12): (7, 12)}\n",
      "{(8, 14): (8, 13), (6, 12): (7, 12)}\n",
      "{(6, 14): (6, 13)}\n",
      "{(8, 14): (7, 14)}\n",
      "{(14, 14): (14, 13)}\n",
      "{(18, 16): (18, 15)}\n",
      "{(18, 18): (18, 17)}\n",
      "{(16, 18): (17, 18)}\n",
      "{(10, 18): (11, 18)}\n",
      "{(4, 18): (5, 18)}\n",
      "{(2, 18): (3, 18)}\n",
      "{(2, 16): (2, 17), (0, 18): (1, 18)}\n",
      "{(0, 16): (0, 17)}\n",
      "{(2, 16): (1, 16), (0, 14): (0, 15)}\n",
      "{(2, 14): (1, 14), (0, 12): (0, 13)}\n",
      "{(2, 12): (1, 12)}\n",
      "{(2, 14): (2, 13)}\n",
      "{(2, 16): (2, 15)}\n",
      "[Cell(x=0, y=0, visited=True, in_stack=False, is_start=False, is_goal=False), Cell(x=0, y=1, visited=True, in_stack=False, is_start=False, is_goal=False), Cell(x=0, y=2, visited=True, in_stack=False, is_start=False, is_goal=False), Cell(x=0, y=3, visited=True, in_stack=False, is_start=False, is_goal=False), Cell(x=0, y=4, visited=True, in_stack=False, is_start=False, is_goal=False), Cell(x=0, y=5, visited=True, in_stack=False, is_start=False, is_goal=False), Cell(x=0, y=6, visited=True, in_stack=False, is_start=False, is_goal=False), Cell(x=0, y=7, visited=True, in_stack=False, is_start=False, is_goal=False), Cell(x=0, y=8, visited=True, in_stack=False, is_start=False, is_goal=False), Cell(x=0, y=9, visited=True, in_stack=False, is_start=False, is_goal=False), Cell(x=0, y=10, visited=True, in_stack=False, is_start=False, is_goal=False), Cell(x=0, y=11, visited=False, in_stack=False, is_start=False, is_goal=False), Cell(x=0, y=12, visited=True, in_stack=False, is_start=False, is_goal=False), Cell(x=0, y=13, visited=True, in_stack=False, is_start=False, is_goal=False), Cell(x=0, y=14, visited=True, in_stack=False, is_start=False, is_goal=False), Cell(x=0, y=15, visited=True, in_stack=False, is_start=False, is_goal=False), Cell(x=0, y=16, visited=True, in_stack=False, is_start=False, is_goal=False), Cell(x=0, y=17, visited=True, in_stack=False, is_start=False, is_goal=False), Cell(x=0, y=18, visited=True, in_stack=False, is_start=False, is_goal=False), Cell(x=0, y=19, visited=False, in_stack=False, is_start=False, is_goal=False)]\n"
     ]
    }
   ],
   "source": [
    "test_maze = Maze.maze_generator()\n",
    "\n",
    "print(test_maze[0])"
   ],
   "metadata": {
    "collapsed": false,
    "ExecuteTime": {
     "end_time": "2024-03-06T11:16:48.457666600Z",
     "start_time": "2024-03-06T11:16:48.453694400Z"
    }
   },
   "id": "5a2ff4e9a7af095b",
   "execution_count": 2
  },
  {
   "cell_type": "code",
   "outputs": [
    {
     "data": {
      "text/plain": "0"
     },
     "execution_count": 3,
     "metadata": {},
     "output_type": "execute_result"
    }
   ],
   "source": [
    "\n",
    "\n"
   ],
   "metadata": {
    "collapsed": false,
    "ExecuteTime": {
     "end_time": "2024-03-06T11:16:55.804546200Z",
     "start_time": "2024-03-06T11:16:55.800107400Z"
    }
   },
   "id": "6be46fb18ef15302",
   "execution_count": 3
  },
  {
   "cell_type": "code",
   "outputs": [
    {
     "data": {
      "text/plain": "(Cell(x=2, y=0, visited=False, in_stack=False),\n Cell(x=1, y=0, visited=False, in_stack=False))"
     },
     "execution_count": 9,
     "metadata": {},
     "output_type": "execute_result"
    }
   ],
   "source": [],
   "metadata": {
    "collapsed": false,
    "ExecuteTime": {
     "end_time": "2024-02-13T09:03:38.359743Z",
     "start_time": "2024-02-13T09:03:38.355347Z"
    }
   },
   "id": "fac05b5fcf6737e2",
   "execution_count": 9
  },
  {
   "cell_type": "code",
   "outputs": [],
   "source": [
    "\n"
   ],
   "metadata": {
    "collapsed": false,
    "ExecuteTime": {
     "end_time": "2024-02-13T09:20:13.129595Z",
     "start_time": "2024-02-13T09:20:13.127175Z"
    }
   },
   "id": "75fe7b58258a4f6",
   "execution_count": 11
  },
  {
   "cell_type": "code",
   "outputs": [
    {
     "data": {
      "text/plain": "('VENEZUELA', 'CARACAS')"
     },
     "execution_count": 12,
     "metadata": {},
     "output_type": "execute_result"
    }
   ],
   "source": [],
   "metadata": {
    "collapsed": false,
    "ExecuteTime": {
     "end_time": "2024-02-13T09:20:23.681886Z",
     "start_time": "2024-02-13T09:20:23.677968Z"
    }
   },
   "id": "6981f1941f273fb0",
   "execution_count": 12
  }
 ],
 "metadata": {
  "kernelspec": {
   "display_name": "Python 3",
   "language": "python",
   "name": "python3"
  },
  "language_info": {
   "codemirror_mode": {
    "name": "ipython",
    "version": 2
   },
   "file_extension": ".py",
   "mimetype": "text/x-python",
   "name": "python",
   "nbconvert_exporter": "python",
   "pygments_lexer": "ipython2",
   "version": "2.7.6"
  }
 },
 "nbformat": 4,
 "nbformat_minor": 5
}
