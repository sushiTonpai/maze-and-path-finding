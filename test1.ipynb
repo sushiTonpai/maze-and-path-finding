{
 "cells": [
  {
   "cell_type": "code",
   "execution_count": 13,
   "id": "initial_id",
   "metadata": {
    "collapsed": true,
    "ExecuteTime": {
     "end_time": "2024-03-08T12:51:46.375640200Z",
     "start_time": "2024-03-08T12:51:46.370426600Z"
    }
   },
   "outputs": [],
   "source": [
    "from __future__ import annotations\n",
    "\n",
    "import maze\n",
    "from maze import Maze"
   ]
  },
  {
   "cell_type": "code",
   "outputs": [
    {
     "name": "stdout",
     "output_type": "stream",
     "text": [
      "non-visualized maze generator\n"
     ]
    }
   ],
   "source": [
    "test_maze = Maze.maze_generator()\n",
    "\n",
    "# print(test_maze[0])"
   ],
   "metadata": {
    "collapsed": false,
    "ExecuteTime": {
     "end_time": "2024-03-08T12:51:46.377644100Z",
     "start_time": "2024-03-08T12:51:46.373937300Z"
    }
   },
   "id": "5a2ff4e9a7af095b",
   "execution_count": 14
  },
  {
   "cell_type": "code",
   "outputs": [
    {
     "data": {
      "text/plain": "Cell(x=0, y=0, visited=True, searching=False, is_start=False, is_goal=False)"
     },
     "execution_count": 15,
     "metadata": {},
     "output_type": "execute_result"
    }
   ],
   "source": [
    "empty_maze = Maze.maze_init().maze_grid\n",
    "curr_cell = empty_maze[0][0]\n",
    "curr_cell"
   ],
   "metadata": {
    "collapsed": false,
    "ExecuteTime": {
     "end_time": "2024-03-08T12:51:46.380938100Z",
     "start_time": "2024-03-08T12:51:46.378647700Z"
    }
   },
   "id": "6be46fb18ef15302",
   "execution_count": 15
  },
  {
   "cell_type": "code",
   "outputs": [
    {
     "data": {
      "text/plain": "['south', 'east']"
     },
     "execution_count": 16,
     "metadata": {},
     "output_type": "execute_result"
    }
   ],
   "source": [
    "lst_dir = curr_cell.neighbours_directions(maze=empty_maze)\n",
    "lst_dir"
   ],
   "metadata": {
    "collapsed": false,
    "ExecuteTime": {
     "end_time": "2024-03-08T12:51:46.383977Z",
     "start_time": "2024-03-08T12:51:46.380938100Z"
    }
   },
   "id": "fac05b5fcf6737e2",
   "execution_count": 16
  },
  {
   "cell_type": "code",
   "outputs": [
    {
     "data": {
      "text/plain": "[Cell(x=2, y=0, visited=False, searching=False, is_start=False, is_goal=False),\n Cell(x=1, y=0, visited=False, searching=False, is_start=False, is_goal=False)]"
     },
     "execution_count": 17,
     "metadata": {},
     "output_type": "execute_result"
    }
   ],
   "source": [
    "n_cell = curr_cell.move(directions=lst_dir,maze=empty_maze)\n",
    "n_cell\n",
    "\n"
   ],
   "metadata": {
    "collapsed": false,
    "ExecuteTime": {
     "end_time": "2024-03-08T12:51:46.386959Z",
     "start_time": "2024-03-08T12:51:46.383977Z"
    }
   },
   "id": "75fe7b58258a4f6",
   "execution_count": 17
  },
  {
   "cell_type": "code",
   "outputs": [
    {
     "data": {
      "text/plain": "[Cell(x=0, y=0, visited=True, searching=False, is_start=False, is_goal=False),\n Cell(x=0, y=1, visited=False, searching=False, is_start=False, is_goal=False),\n Cell(x=0, y=2, visited=True, searching=False, is_start=False, is_goal=False),\n Cell(x=0, y=3, visited=True, searching=False, is_start=False, is_goal=False),\n Cell(x=0, y=4, visited=True, searching=False, is_start=False, is_goal=False),\n Cell(x=0, y=5, visited=True, searching=False, is_start=False, is_goal=False),\n Cell(x=0, y=6, visited=True, searching=False, is_start=False, is_goal=False),\n Cell(x=0, y=7, visited=True, searching=False, is_start=False, is_goal=False),\n Cell(x=0, y=8, visited=True, searching=False, is_start=False, is_goal=False),\n Cell(x=0, y=9, visited=True, searching=False, is_start=False, is_goal=False),\n Cell(x=0, y=10, visited=True, searching=False, is_start=False, is_goal=False),\n Cell(x=0, y=11, visited=True, searching=False, is_start=False, is_goal=False),\n Cell(x=0, y=12, visited=True, searching=False, is_start=False, is_goal=False),\n Cell(x=0, y=13, visited=True, searching=False, is_start=False, is_goal=False),\n Cell(x=0, y=14, visited=True, searching=False, is_start=False, is_goal=False),\n Cell(x=0, y=15, visited=True, searching=False, is_start=False, is_goal=False),\n Cell(x=0, y=16, visited=True, searching=False, is_start=False, is_goal=False),\n Cell(x=0, y=17, visited=True, searching=False, is_start=False, is_goal=False),\n Cell(x=0, y=18, visited=True, searching=False, is_start=False, is_goal=False),\n Cell(x=0, y=19, visited=False, searching=False, is_start=False, is_goal=False)]"
     },
     "execution_count": 18,
     "metadata": {},
     "output_type": "execute_result"
    }
   ],
   "source": [
    "test_maze[0]"
   ],
   "metadata": {
    "collapsed": false,
    "ExecuteTime": {
     "end_time": "2024-03-08T12:51:46.411677Z",
     "start_time": "2024-03-08T12:51:46.386959Z"
    }
   },
   "id": "6981f1941f273fb0",
   "execution_count": 18
  },
  {
   "cell_type": "code",
   "outputs": [],
   "source": [],
   "metadata": {
    "collapsed": false,
    "ExecuteTime": {
     "end_time": "2024-03-08T12:51:46.411677Z",
     "start_time": "2024-03-08T12:51:46.390583500Z"
    }
   },
   "id": "c8206fd9509f7148",
   "execution_count": 18
  },
  {
   "cell_type": "code",
   "outputs": [],
   "source": [
    "from node import Node\n",
    "\n",
    "\n",
    "nodes: NodeType = [[Node.cell_to_node(cell)for cell in row]for row in test_maze] \n",
    "NodeType = list[list[Node]]"
   ],
   "metadata": {
    "collapsed": false,
    "ExecuteTime": {
     "end_time": "2024-03-08T12:51:46.412680100Z",
     "start_time": "2024-03-08T12:51:46.392091100Z"
    }
   },
   "id": "da141389f6643978",
   "execution_count": 19
  },
  {
   "cell_type": "code",
   "outputs": [
    {
     "data": {
      "text/plain": "[Node(node_x=0, node_y=0, parents=None, is_wall=False, g_cost=99999, h_cost=99999, f_cost=99999)]"
     },
     "execution_count": 20,
     "metadata": {},
     "output_type": "execute_result"
    }
   ],
   "source": [
    "import heapq\n",
    "opl = []\n",
    "cll = []\n",
    "heapq.heappush(opl,nodes[0][0])\n",
    "opl"
   ],
   "metadata": {
    "collapsed": false,
    "ExecuteTime": {
     "end_time": "2024-03-08T12:51:46.412680100Z",
     "start_time": "2024-03-08T12:51:46.394847600Z"
    }
   },
   "id": "daad88f5fa37a0a6",
   "execution_count": 20
  },
  {
   "cell_type": "code",
   "outputs": [
    {
     "name": "stdout",
     "output_type": "stream",
     "text": [
      "Node(node_x=0, node_y=0, parents=None, is_wall=False, g_cost=99999, h_cost=99999, f_cost=99999) [] [Node(node_x=0, node_y=0, parents=None, is_wall=False, g_cost=99999, h_cost=99999, f_cost=99999)]\n"
     ]
    }
   ],
   "source": [
    "ccn = heapq.heappop(opl)\n",
    "cll.append(ccn)\n",
    "print(ccn, opl,cll)"
   ],
   "metadata": {
    "collapsed": false,
    "ExecuteTime": {
     "end_time": "2024-03-08T12:51:46.412680100Z",
     "start_time": "2024-03-08T12:51:46.397830700Z"
    }
   },
   "id": "125ddcf8cec5dded",
   "execution_count": 21
  },
  {
   "cell_type": "code",
   "outputs": [
    {
     "data": {
      "text/plain": "(Cell(x=18, y=4, visited=True, searching=False, is_start=False, is_goal=False),\n Cell(x=8, y=0, visited=True, searching=False, is_start=False, is_goal=False))"
     },
     "execution_count": 22,
     "metadata": {},
     "output_type": "execute_result"
    }
   ],
   "source": [
    "from cell import get_start_end\n",
    "\n",
    "start_node,goal_node = get_start_end(test_maze)\n",
    "start_node, goal_node"
   ],
   "metadata": {
    "collapsed": false,
    "ExecuteTime": {
     "end_time": "2024-03-08T12:51:46.412680100Z",
     "start_time": "2024-03-08T12:51:46.400931400Z"
    }
   },
   "id": "7115dc376172490c",
   "execution_count": 22
  },
  {
   "cell_type": "code",
   "outputs": [
    {
     "data": {
      "text/plain": "Astar(node_grid=[[Node(node_x=0, node_y=0, parents=None, is_wall=False, g_cost=99999, h_cost=99999, f_cost=99999), Node(node_x=0, node_y=1, parents=None, is_wall=True, g_cost=99999, h_cost=99999, f_cost=99999), Node(node_x=0, node_y=2, parents=None, is_wall=False, g_cost=99999, h_cost=99999, f_cost=99999), Node(node_x=0, node_y=3, parents=None, is_wall=False, g_cost=99999, h_cost=99999, f_cost=99999), Node(node_x=0, node_y=4, parents=None, is_wall=False, g_cost=99999, h_cost=99999, f_cost=99999), Node(node_x=0, node_y=5, parents=None, is_wall=False, g_cost=99999, h_cost=99999, f_cost=99999), Node(node_x=0, node_y=6, parents=None, is_wall=False, g_cost=99999, h_cost=99999, f_cost=99999), Node(node_x=0, node_y=7, parents=None, is_wall=False, g_cost=99999, h_cost=99999, f_cost=99999), Node(node_x=0, node_y=8, parents=None, is_wall=False, g_cost=99999, h_cost=99999, f_cost=99999), Node(node_x=0, node_y=9, parents=None, is_wall=False, g_cost=99999, h_cost=99999, f_cost=99999), Node(node_x=0, node_y=10, parents=None, is_wall=False, g_cost=99999, h_cost=99999, f_cost=99999), Node(node_x=0, node_y=11, parents=None, is_wall=False, g_cost=99999, h_cost=99999, f_cost=99999), Node(node_x=0, node_y=12, parents=None, is_wall=False, g_cost=99999, h_cost=99999, f_cost=99999), Node(node_x=0, node_y=13, parents=None, is_wall=False, g_cost=99999, h_cost=99999, f_cost=99999), Node(node_x=0, node_y=14, parents=None, is_wall=False, g_cost=99999, h_cost=99999, f_cost=99999), Node(node_x=0, node_y=15, parents=None, is_wall=False, g_cost=99999, h_cost=99999, f_cost=99999), Node(node_x=0, node_y=16, parents=None, is_wall=False, g_cost=99999, h_cost=99999, f_cost=99999), Node(node_x=0, node_y=17, parents=None, is_wall=False, g_cost=99999, h_cost=99999, f_cost=99999), Node(node_x=0, node_y=18, parents=None, is_wall=False, g_cost=99999, h_cost=99999, f_cost=99999), Node(node_x=0, node_y=19, parents=None, is_wall=True, g_cost=99999, h_cost=99999, f_cost=99999)], [Node(node_x=1, node_y=0, parents=None, is_wall=False, g_cost=99999, h_cost=99999, f_cost=99999), Node(node_x=1, node_y=1, parents=None, is_wall=True, g_cost=99999, h_cost=99999, f_cost=99999), Node(node_x=1, node_y=2, parents=None, is_wall=True, g_cost=99999, h_cost=99999, f_cost=99999), Node(node_x=1, node_y=3, parents=None, is_wall=True, g_cost=99999, h_cost=99999, f_cost=99999), Node(node_x=1, node_y=4, parents=None, is_wall=False, g_cost=99999, h_cost=99999, f_cost=99999), Node(node_x=1, node_y=5, parents=None, is_wall=True, g_cost=99999, h_cost=99999, f_cost=99999), Node(node_x=1, node_y=6, parents=None, is_wall=True, g_cost=99999, h_cost=99999, f_cost=99999), Node(node_x=1, node_y=7, parents=None, is_wall=True, g_cost=99999, h_cost=99999, f_cost=99999), Node(node_x=1, node_y=8, parents=None, is_wall=False, g_cost=99999, h_cost=99999, f_cost=99999), Node(node_x=1, node_y=9, parents=None, is_wall=True, g_cost=99999, h_cost=99999, f_cost=99999), Node(node_x=1, node_y=10, parents=None, is_wall=True, g_cost=99999, h_cost=99999, f_cost=99999), Node(node_x=1, node_y=11, parents=None, is_wall=True, g_cost=99999, h_cost=99999, f_cost=99999), Node(node_x=1, node_y=12, parents=None, is_wall=True, g_cost=99999, h_cost=99999, f_cost=99999), Node(node_x=1, node_y=13, parents=None, is_wall=True, g_cost=99999, h_cost=99999, f_cost=99999), Node(node_x=1, node_y=14, parents=None, is_wall=True, g_cost=99999, h_cost=99999, f_cost=99999), Node(node_x=1, node_y=15, parents=None, is_wall=True, g_cost=99999, h_cost=99999, f_cost=99999), Node(node_x=1, node_y=16, parents=None, is_wall=True, g_cost=99999, h_cost=99999, f_cost=99999), Node(node_x=1, node_y=17, parents=None, is_wall=True, g_cost=99999, h_cost=99999, f_cost=99999), Node(node_x=1, node_y=18, parents=None, is_wall=False, g_cost=99999, h_cost=99999, f_cost=99999), Node(node_x=1, node_y=19, parents=None, is_wall=True, g_cost=99999, h_cost=99999, f_cost=99999)], [Node(node_x=2, node_y=0, parents=None, is_wall=False, g_cost=99999, h_cost=99999, f_cost=99999), Node(node_x=2, node_y=1, parents=None, is_wall=False, g_cost=99999, h_cost=99999, f_cost=99999), Node(node_x=2, node_y=2, parents=None, is_wall=False, g_cost=99999, h_cost=99999, f_cost=99999), Node(node_x=2, node_y=3, parents=None, is_wall=True, g_cost=99999, h_cost=99999, f_cost=99999), Node(node_x=2, node_y=4, parents=None, is_wall=False, g_cost=99999, h_cost=99999, f_cost=99999), Node(node_x=2, node_y=5, parents=None, is_wall=False, g_cost=99999, h_cost=99999, f_cost=99999), Node(node_x=2, node_y=6, parents=None, is_wall=False, g_cost=99999, h_cost=99999, f_cost=99999), Node(node_x=2, node_y=7, parents=None, is_wall=True, g_cost=99999, h_cost=99999, f_cost=99999), Node(node_x=2, node_y=8, parents=None, is_wall=False, g_cost=99999, h_cost=99999, f_cost=99999), Node(node_x=2, node_y=9, parents=None, is_wall=False, g_cost=99999, h_cost=99999, f_cost=99999), Node(node_x=2, node_y=10, parents=None, is_wall=False, g_cost=99999, h_cost=99999, f_cost=99999), Node(node_x=2, node_y=11, parents=None, is_wall=False, g_cost=99999, h_cost=99999, f_cost=99999), Node(node_x=2, node_y=12, parents=None, is_wall=False, g_cost=99999, h_cost=99999, f_cost=99999), Node(node_x=2, node_y=13, parents=None, is_wall=True, g_cost=99999, h_cost=99999, f_cost=99999), Node(node_x=2, node_y=14, parents=None, is_wall=False, g_cost=99999, h_cost=99999, f_cost=99999), Node(node_x=2, node_y=15, parents=None, is_wall=False, g_cost=99999, h_cost=99999, f_cost=99999), Node(node_x=2, node_y=16, parents=None, is_wall=False, g_cost=99999, h_cost=99999, f_cost=99999), Node(node_x=2, node_y=17, parents=None, is_wall=True, g_cost=99999, h_cost=99999, f_cost=99999), Node(node_x=2, node_y=18, parents=None, is_wall=False, g_cost=99999, h_cost=99999, f_cost=99999), Node(node_x=2, node_y=19, parents=None, is_wall=True, g_cost=99999, h_cost=99999, f_cost=99999)], [Node(node_x=3, node_y=0, parents=None, is_wall=True, g_cost=99999, h_cost=99999, f_cost=99999), Node(node_x=3, node_y=1, parents=None, is_wall=True, g_cost=99999, h_cost=99999, f_cost=99999), Node(node_x=3, node_y=2, parents=None, is_wall=False, g_cost=99999, h_cost=99999, f_cost=99999), Node(node_x=3, node_y=3, parents=None, is_wall=True, g_cost=99999, h_cost=99999, f_cost=99999), Node(node_x=3, node_y=4, parents=None, is_wall=True, g_cost=99999, h_cost=99999, f_cost=99999), Node(node_x=3, node_y=5, parents=None, is_wall=True, g_cost=99999, h_cost=99999, f_cost=99999), Node(node_x=3, node_y=6, parents=None, is_wall=False, g_cost=99999, h_cost=99999, f_cost=99999), Node(node_x=3, node_y=7, parents=None, is_wall=True, g_cost=99999, h_cost=99999, f_cost=99999), Node(node_x=3, node_y=8, parents=None, is_wall=True, g_cost=99999, h_cost=99999, f_cost=99999), Node(node_x=3, node_y=9, parents=None, is_wall=True, g_cost=99999, h_cost=99999, f_cost=99999), Node(node_x=3, node_y=10, parents=None, is_wall=True, g_cost=99999, h_cost=99999, f_cost=99999), Node(node_x=3, node_y=11, parents=None, is_wall=True, g_cost=99999, h_cost=99999, f_cost=99999), Node(node_x=3, node_y=12, parents=None, is_wall=False, g_cost=99999, h_cost=99999, f_cost=99999), Node(node_x=3, node_y=13, parents=None, is_wall=True, g_cost=99999, h_cost=99999, f_cost=99999), Node(node_x=3, node_y=14, parents=None, is_wall=False, g_cost=99999, h_cost=99999, f_cost=99999), Node(node_x=3, node_y=15, parents=None, is_wall=True, g_cost=99999, h_cost=99999, f_cost=99999), Node(node_x=3, node_y=16, parents=None, is_wall=False, g_cost=99999, h_cost=99999, f_cost=99999), Node(node_x=3, node_y=17, parents=None, is_wall=True, g_cost=99999, h_cost=99999, f_cost=99999), Node(node_x=3, node_y=18, parents=None, is_wall=False, g_cost=99999, h_cost=99999, f_cost=99999), Node(node_x=3, node_y=19, parents=None, is_wall=True, g_cost=99999, h_cost=99999, f_cost=99999)], [Node(node_x=4, node_y=0, parents=None, is_wall=False, g_cost=99999, h_cost=99999, f_cost=99999), Node(node_x=4, node_y=1, parents=None, is_wall=False, g_cost=99999, h_cost=99999, f_cost=99999), Node(node_x=4, node_y=2, parents=None, is_wall=False, g_cost=99999, h_cost=99999, f_cost=99999), Node(node_x=4, node_y=3, parents=None, is_wall=True, g_cost=99999, h_cost=99999, f_cost=99999), Node(node_x=4, node_y=4, parents=None, is_wall=False, g_cost=99999, h_cost=99999, f_cost=99999), Node(node_x=4, node_y=5, parents=None, is_wall=True, g_cost=99999, h_cost=99999, f_cost=99999), Node(node_x=4, node_y=6, parents=None, is_wall=False, g_cost=99999, h_cost=99999, f_cost=99999), Node(node_x=4, node_y=7, parents=None, is_wall=True, g_cost=99999, h_cost=99999, f_cost=99999), Node(node_x=4, node_y=8, parents=None, is_wall=False, g_cost=99999, h_cost=99999, f_cost=99999), Node(node_x=4, node_y=9, parents=None, is_wall=False, g_cost=99999, h_cost=99999, f_cost=99999), Node(node_x=4, node_y=10, parents=None, is_wall=False, g_cost=99999, h_cost=99999, f_cost=99999), Node(node_x=4, node_y=11, parents=None, is_wall=True, g_cost=99999, h_cost=99999, f_cost=99999), Node(node_x=4, node_y=12, parents=None, is_wall=False, g_cost=99999, h_cost=99999, f_cost=99999), Node(node_x=4, node_y=13, parents=None, is_wall=True, g_cost=99999, h_cost=99999, f_cost=99999), Node(node_x=4, node_y=14, parents=None, is_wall=False, g_cost=99999, h_cost=99999, f_cost=99999), Node(node_x=4, node_y=15, parents=None, is_wall=True, g_cost=99999, h_cost=99999, f_cost=99999), Node(node_x=4, node_y=16, parents=None, is_wall=False, g_cost=99999, h_cost=99999, f_cost=99999), Node(node_x=4, node_y=17, parents=None, is_wall=True, g_cost=99999, h_cost=99999, f_cost=99999), Node(node_x=4, node_y=18, parents=None, is_wall=False, g_cost=99999, h_cost=99999, f_cost=99999), Node(node_x=4, node_y=19, parents=None, is_wall=True, g_cost=99999, h_cost=99999, f_cost=99999)], [Node(node_x=5, node_y=0, parents=None, is_wall=False, g_cost=99999, h_cost=99999, f_cost=99999), Node(node_x=5, node_y=1, parents=None, is_wall=True, g_cost=99999, h_cost=99999, f_cost=99999), Node(node_x=5, node_y=2, parents=None, is_wall=True, g_cost=99999, h_cost=99999, f_cost=99999), Node(node_x=5, node_y=3, parents=None, is_wall=True, g_cost=99999, h_cost=99999, f_cost=99999), Node(node_x=5, node_y=4, parents=None, is_wall=False, g_cost=99999, h_cost=99999, f_cost=99999), Node(node_x=5, node_y=5, parents=None, is_wall=True, g_cost=99999, h_cost=99999, f_cost=99999), Node(node_x=5, node_y=6, parents=None, is_wall=False, g_cost=99999, h_cost=99999, f_cost=99999), Node(node_x=5, node_y=7, parents=None, is_wall=True, g_cost=99999, h_cost=99999, f_cost=99999), Node(node_x=5, node_y=8, parents=None, is_wall=False, g_cost=99999, h_cost=99999, f_cost=99999), Node(node_x=5, node_y=9, parents=None, is_wall=True, g_cost=99999, h_cost=99999, f_cost=99999), Node(node_x=5, node_y=10, parents=None, is_wall=False, g_cost=99999, h_cost=99999, f_cost=99999), Node(node_x=5, node_y=11, parents=None, is_wall=True, g_cost=99999, h_cost=99999, f_cost=99999), Node(node_x=5, node_y=12, parents=None, is_wall=False, g_cost=99999, h_cost=99999, f_cost=99999), Node(node_x=5, node_y=13, parents=None, is_wall=True, g_cost=99999, h_cost=99999, f_cost=99999), Node(node_x=5, node_y=14, parents=None, is_wall=False, g_cost=99999, h_cost=99999, f_cost=99999), Node(node_x=5, node_y=15, parents=None, is_wall=True, g_cost=99999, h_cost=99999, f_cost=99999), Node(node_x=5, node_y=16, parents=None, is_wall=False, g_cost=99999, h_cost=99999, f_cost=99999), Node(node_x=5, node_y=17, parents=None, is_wall=True, g_cost=99999, h_cost=99999, f_cost=99999), Node(node_x=5, node_y=18, parents=None, is_wall=False, g_cost=99999, h_cost=99999, f_cost=99999), Node(node_x=5, node_y=19, parents=None, is_wall=True, g_cost=99999, h_cost=99999, f_cost=99999)], [Node(node_x=6, node_y=0, parents=None, is_wall=False, g_cost=99999, h_cost=99999, f_cost=99999), Node(node_x=6, node_y=1, parents=None, is_wall=True, g_cost=99999, h_cost=99999, f_cost=99999), Node(node_x=6, node_y=2, parents=None, is_wall=False, g_cost=99999, h_cost=99999, f_cost=99999), Node(node_x=6, node_y=3, parents=None, is_wall=False, g_cost=99999, h_cost=99999, f_cost=99999), Node(node_x=6, node_y=4, parents=None, is_wall=False, g_cost=99999, h_cost=99999, f_cost=99999), Node(node_x=6, node_y=5, parents=None, is_wall=False, g_cost=99999, h_cost=99999, f_cost=99999), Node(node_x=6, node_y=6, parents=None, is_wall=False, g_cost=99999, h_cost=99999, f_cost=99999), Node(node_x=6, node_y=7, parents=None, is_wall=True, g_cost=99999, h_cost=99999, f_cost=99999), Node(node_x=6, node_y=8, parents=None, is_wall=False, g_cost=99999, h_cost=99999, f_cost=99999), Node(node_x=6, node_y=9, parents=None, is_wall=True, g_cost=99999, h_cost=99999, f_cost=99999), Node(node_x=6, node_y=10, parents=None, is_wall=False, g_cost=99999, h_cost=99999, f_cost=99999), Node(node_x=6, node_y=11, parents=None, is_wall=True, g_cost=99999, h_cost=99999, f_cost=99999), Node(node_x=6, node_y=12, parents=None, is_wall=False, g_cost=99999, h_cost=99999, f_cost=99999), Node(node_x=6, node_y=13, parents=None, is_wall=True, g_cost=99999, h_cost=99999, f_cost=99999), Node(node_x=6, node_y=14, parents=None, is_wall=False, g_cost=99999, h_cost=99999, f_cost=99999), Node(node_x=6, node_y=15, parents=None, is_wall=True, g_cost=99999, h_cost=99999, f_cost=99999), Node(node_x=6, node_y=16, parents=None, is_wall=False, g_cost=99999, h_cost=99999, f_cost=99999), Node(node_x=6, node_y=17, parents=None, is_wall=False, g_cost=99999, h_cost=99999, f_cost=99999), Node(node_x=6, node_y=18, parents=None, is_wall=False, g_cost=99999, h_cost=99999, f_cost=99999), Node(node_x=6, node_y=19, parents=None, is_wall=True, g_cost=99999, h_cost=99999, f_cost=99999)], [Node(node_x=7, node_y=0, parents=None, is_wall=False, g_cost=99999, h_cost=99999, f_cost=99999), Node(node_x=7, node_y=1, parents=None, is_wall=True, g_cost=99999, h_cost=99999, f_cost=99999), Node(node_x=7, node_y=2, parents=None, is_wall=False, g_cost=99999, h_cost=99999, f_cost=99999), Node(node_x=7, node_y=3, parents=None, is_wall=True, g_cost=99999, h_cost=99999, f_cost=99999), Node(node_x=7, node_y=4, parents=None, is_wall=True, g_cost=99999, h_cost=99999, f_cost=99999), Node(node_x=7, node_y=5, parents=None, is_wall=True, g_cost=99999, h_cost=99999, f_cost=99999), Node(node_x=7, node_y=6, parents=None, is_wall=True, g_cost=99999, h_cost=99999, f_cost=99999), Node(node_x=7, node_y=7, parents=None, is_wall=True, g_cost=99999, h_cost=99999, f_cost=99999), Node(node_x=7, node_y=8, parents=None, is_wall=True, g_cost=99999, h_cost=99999, f_cost=99999), Node(node_x=7, node_y=9, parents=None, is_wall=True, g_cost=99999, h_cost=99999, f_cost=99999), Node(node_x=7, node_y=10, parents=None, is_wall=False, g_cost=99999, h_cost=99999, f_cost=99999), Node(node_x=7, node_y=11, parents=None, is_wall=True, g_cost=99999, h_cost=99999, f_cost=99999), Node(node_x=7, node_y=12, parents=None, is_wall=False, g_cost=99999, h_cost=99999, f_cost=99999), Node(node_x=7, node_y=13, parents=None, is_wall=True, g_cost=99999, h_cost=99999, f_cost=99999), Node(node_x=7, node_y=14, parents=None, is_wall=True, g_cost=99999, h_cost=99999, f_cost=99999), Node(node_x=7, node_y=15, parents=None, is_wall=True, g_cost=99999, h_cost=99999, f_cost=99999), Node(node_x=7, node_y=16, parents=None, is_wall=True, g_cost=99999, h_cost=99999, f_cost=99999), Node(node_x=7, node_y=17, parents=None, is_wall=True, g_cost=99999, h_cost=99999, f_cost=99999), Node(node_x=7, node_y=18, parents=None, is_wall=True, g_cost=99999, h_cost=99999, f_cost=99999), Node(node_x=7, node_y=19, parents=None, is_wall=True, g_cost=99999, h_cost=99999, f_cost=99999)], [Node(node_x=8, node_y=0, parents=None, is_wall=False, g_cost=99999, h_cost=99999, f_cost=99999), Node(node_x=8, node_y=1, parents=None, is_wall=True, g_cost=99999, h_cost=99999, f_cost=99999), Node(node_x=8, node_y=2, parents=None, is_wall=False, g_cost=99999, h_cost=99999, f_cost=99999), Node(node_x=8, node_y=3, parents=None, is_wall=True, g_cost=99999, h_cost=99999, f_cost=99999), Node(node_x=8, node_y=4, parents=None, is_wall=False, g_cost=99999, h_cost=99999, f_cost=99999), Node(node_x=8, node_y=5, parents=None, is_wall=False, g_cost=99999, h_cost=99999, f_cost=99999), Node(node_x=8, node_y=6, parents=None, is_wall=False, g_cost=99999, h_cost=99999, f_cost=99999), Node(node_x=8, node_y=7, parents=None, is_wall=False, g_cost=99999, h_cost=99999, f_cost=99999), Node(node_x=8, node_y=8, parents=None, is_wall=False, g_cost=99999, h_cost=99999, f_cost=99999), Node(node_x=8, node_y=9, parents=None, is_wall=False, g_cost=99999, h_cost=99999, f_cost=99999), Node(node_x=8, node_y=10, parents=None, is_wall=False, g_cost=99999, h_cost=99999, f_cost=99999), Node(node_x=8, node_y=11, parents=None, is_wall=True, g_cost=99999, h_cost=99999, f_cost=99999), Node(node_x=8, node_y=12, parents=None, is_wall=False, g_cost=99999, h_cost=99999, f_cost=99999), Node(node_x=8, node_y=13, parents=None, is_wall=False, g_cost=99999, h_cost=99999, f_cost=99999), Node(node_x=8, node_y=14, parents=None, is_wall=False, g_cost=99999, h_cost=99999, f_cost=99999), Node(node_x=8, node_y=15, parents=None, is_wall=True, g_cost=99999, h_cost=99999, f_cost=99999), Node(node_x=8, node_y=16, parents=None, is_wall=False, g_cost=99999, h_cost=99999, f_cost=99999), Node(node_x=8, node_y=17, parents=None, is_wall=False, g_cost=99999, h_cost=99999, f_cost=99999), Node(node_x=8, node_y=18, parents=None, is_wall=False, g_cost=99999, h_cost=99999, f_cost=99999), Node(node_x=8, node_y=19, parents=None, is_wall=True, g_cost=99999, h_cost=99999, f_cost=99999)], [Node(node_x=9, node_y=0, parents=None, is_wall=False, g_cost=99999, h_cost=99999, f_cost=99999), Node(node_x=9, node_y=1, parents=None, is_wall=True, g_cost=99999, h_cost=99999, f_cost=99999), Node(node_x=9, node_y=2, parents=None, is_wall=False, g_cost=99999, h_cost=99999, f_cost=99999), Node(node_x=9, node_y=3, parents=None, is_wall=True, g_cost=99999, h_cost=99999, f_cost=99999), Node(node_x=9, node_y=4, parents=None, is_wall=False, g_cost=99999, h_cost=99999, f_cost=99999), Node(node_x=9, node_y=5, parents=None, is_wall=True, g_cost=99999, h_cost=99999, f_cost=99999), Node(node_x=9, node_y=6, parents=None, is_wall=False, g_cost=99999, h_cost=99999, f_cost=99999), Node(node_x=9, node_y=7, parents=None, is_wall=True, g_cost=99999, h_cost=99999, f_cost=99999), Node(node_x=9, node_y=8, parents=None, is_wall=True, g_cost=99999, h_cost=99999, f_cost=99999), Node(node_x=9, node_y=9, parents=None, is_wall=True, g_cost=99999, h_cost=99999, f_cost=99999), Node(node_x=9, node_y=10, parents=None, is_wall=False, g_cost=99999, h_cost=99999, f_cost=99999), Node(node_x=9, node_y=11, parents=None, is_wall=True, g_cost=99999, h_cost=99999, f_cost=99999), Node(node_x=9, node_y=12, parents=None, is_wall=True, g_cost=99999, h_cost=99999, f_cost=99999), Node(node_x=9, node_y=13, parents=None, is_wall=True, g_cost=99999, h_cost=99999, f_cost=99999), Node(node_x=9, node_y=14, parents=None, is_wall=False, g_cost=99999, h_cost=99999, f_cost=99999), Node(node_x=9, node_y=15, parents=None, is_wall=True, g_cost=99999, h_cost=99999, f_cost=99999), Node(node_x=9, node_y=16, parents=None, is_wall=False, g_cost=99999, h_cost=99999, f_cost=99999), Node(node_x=9, node_y=17, parents=None, is_wall=True, g_cost=99999, h_cost=99999, f_cost=99999), Node(node_x=9, node_y=18, parents=None, is_wall=False, g_cost=99999, h_cost=99999, f_cost=99999), Node(node_x=9, node_y=19, parents=None, is_wall=True, g_cost=99999, h_cost=99999, f_cost=99999)], [Node(node_x=10, node_y=0, parents=None, is_wall=False, g_cost=99999, h_cost=99999, f_cost=99999), Node(node_x=10, node_y=1, parents=None, is_wall=True, g_cost=99999, h_cost=99999, f_cost=99999), Node(node_x=10, node_y=2, parents=None, is_wall=False, g_cost=99999, h_cost=99999, f_cost=99999), Node(node_x=10, node_y=3, parents=None, is_wall=True, g_cost=99999, h_cost=99999, f_cost=99999), Node(node_x=10, node_y=4, parents=None, is_wall=False, g_cost=99999, h_cost=99999, f_cost=99999), Node(node_x=10, node_y=5, parents=None, is_wall=True, g_cost=99999, h_cost=99999, f_cost=99999), Node(node_x=10, node_y=6, parents=None, is_wall=False, g_cost=99999, h_cost=99999, f_cost=99999), Node(node_x=10, node_y=7, parents=None, is_wall=False, g_cost=99999, h_cost=99999, f_cost=99999), Node(node_x=10, node_y=8, parents=None, is_wall=False, g_cost=99999, h_cost=99999, f_cost=99999), Node(node_x=10, node_y=9, parents=None, is_wall=True, g_cost=99999, h_cost=99999, f_cost=99999), Node(node_x=10, node_y=10, parents=None, is_wall=False, g_cost=99999, h_cost=99999, f_cost=99999), Node(node_x=10, node_y=11, parents=None, is_wall=False, g_cost=99999, h_cost=99999, f_cost=99999), Node(node_x=10, node_y=12, parents=None, is_wall=False, g_cost=99999, h_cost=99999, f_cost=99999), Node(node_x=10, node_y=13, parents=None, is_wall=True, g_cost=99999, h_cost=99999, f_cost=99999), Node(node_x=10, node_y=14, parents=None, is_wall=False, g_cost=99999, h_cost=99999, f_cost=99999), Node(node_x=10, node_y=15, parents=None, is_wall=False, g_cost=99999, h_cost=99999, f_cost=99999), Node(node_x=10, node_y=16, parents=None, is_wall=False, g_cost=99999, h_cost=99999, f_cost=99999), Node(node_x=10, node_y=17, parents=None, is_wall=True, g_cost=99999, h_cost=99999, f_cost=99999), Node(node_x=10, node_y=18, parents=None, is_wall=False, g_cost=99999, h_cost=99999, f_cost=99999), Node(node_x=10, node_y=19, parents=None, is_wall=True, g_cost=99999, h_cost=99999, f_cost=99999)], [Node(node_x=11, node_y=0, parents=None, is_wall=False, g_cost=99999, h_cost=99999, f_cost=99999), Node(node_x=11, node_y=1, parents=None, is_wall=True, g_cost=99999, h_cost=99999, f_cost=99999), Node(node_x=11, node_y=2, parents=None, is_wall=False, g_cost=99999, h_cost=99999, f_cost=99999), Node(node_x=11, node_y=3, parents=None, is_wall=True, g_cost=99999, h_cost=99999, f_cost=99999), Node(node_x=11, node_y=4, parents=None, is_wall=True, g_cost=99999, h_cost=99999, f_cost=99999), Node(node_x=11, node_y=5, parents=None, is_wall=True, g_cost=99999, h_cost=99999, f_cost=99999), Node(node_x=11, node_y=6, parents=None, is_wall=True, g_cost=99999, h_cost=99999, f_cost=99999), Node(node_x=11, node_y=7, parents=None, is_wall=True, g_cost=99999, h_cost=99999, f_cost=99999), Node(node_x=11, node_y=8, parents=None, is_wall=False, g_cost=99999, h_cost=99999, f_cost=99999), Node(node_x=11, node_y=9, parents=None, is_wall=True, g_cost=99999, h_cost=99999, f_cost=99999), Node(node_x=11, node_y=10, parents=None, is_wall=True, g_cost=99999, h_cost=99999, f_cost=99999), Node(node_x=11, node_y=11, parents=None, is_wall=True, g_cost=99999, h_cost=99999, f_cost=99999), Node(node_x=11, node_y=12, parents=None, is_wall=False, g_cost=99999, h_cost=99999, f_cost=99999), Node(node_x=11, node_y=13, parents=None, is_wall=True, g_cost=99999, h_cost=99999, f_cost=99999), Node(node_x=11, node_y=14, parents=None, is_wall=True, g_cost=99999, h_cost=99999, f_cost=99999), Node(node_x=11, node_y=15, parents=None, is_wall=True, g_cost=99999, h_cost=99999, f_cost=99999), Node(node_x=11, node_y=16, parents=None, is_wall=True, g_cost=99999, h_cost=99999, f_cost=99999), Node(node_x=11, node_y=17, parents=None, is_wall=True, g_cost=99999, h_cost=99999, f_cost=99999), Node(node_x=11, node_y=18, parents=None, is_wall=False, g_cost=99999, h_cost=99999, f_cost=99999), Node(node_x=11, node_y=19, parents=None, is_wall=True, g_cost=99999, h_cost=99999, f_cost=99999)], [Node(node_x=12, node_y=0, parents=None, is_wall=False, g_cost=99999, h_cost=99999, f_cost=99999), Node(node_x=12, node_y=1, parents=None, is_wall=True, g_cost=99999, h_cost=99999, f_cost=99999), Node(node_x=12, node_y=2, parents=None, is_wall=False, g_cost=99999, h_cost=99999, f_cost=99999), Node(node_x=12, node_y=3, parents=None, is_wall=False, g_cost=99999, h_cost=99999, f_cost=99999), Node(node_x=12, node_y=4, parents=None, is_wall=False, g_cost=99999, h_cost=99999, f_cost=99999), Node(node_x=12, node_y=5, parents=None, is_wall=False, g_cost=99999, h_cost=99999, f_cost=99999), Node(node_x=12, node_y=6, parents=None, is_wall=False, g_cost=99999, h_cost=99999, f_cost=99999), Node(node_x=12, node_y=7, parents=None, is_wall=False, g_cost=99999, h_cost=99999, f_cost=99999), Node(node_x=12, node_y=8, parents=None, is_wall=False, g_cost=99999, h_cost=99999, f_cost=99999), Node(node_x=12, node_y=9, parents=None, is_wall=True, g_cost=99999, h_cost=99999, f_cost=99999), Node(node_x=12, node_y=10, parents=None, is_wall=False, g_cost=99999, h_cost=99999, f_cost=99999), Node(node_x=12, node_y=11, parents=None, is_wall=True, g_cost=99999, h_cost=99999, f_cost=99999), Node(node_x=12, node_y=12, parents=None, is_wall=False, g_cost=99999, h_cost=99999, f_cost=99999), Node(node_x=12, node_y=13, parents=None, is_wall=True, g_cost=99999, h_cost=99999, f_cost=99999), Node(node_x=12, node_y=14, parents=None, is_wall=False, g_cost=99999, h_cost=99999, f_cost=99999), Node(node_x=12, node_y=15, parents=None, is_wall=False, g_cost=99999, h_cost=99999, f_cost=99999), Node(node_x=12, node_y=16, parents=None, is_wall=False, g_cost=99999, h_cost=99999, f_cost=99999), Node(node_x=12, node_y=17, parents=None, is_wall=False, g_cost=99999, h_cost=99999, f_cost=99999), Node(node_x=12, node_y=18, parents=None, is_wall=False, g_cost=99999, h_cost=99999, f_cost=99999), Node(node_x=12, node_y=19, parents=None, is_wall=True, g_cost=99999, h_cost=99999, f_cost=99999)], [Node(node_x=13, node_y=0, parents=None, is_wall=False, g_cost=99999, h_cost=99999, f_cost=99999), Node(node_x=13, node_y=1, parents=None, is_wall=True, g_cost=99999, h_cost=99999, f_cost=99999), Node(node_x=13, node_y=2, parents=None, is_wall=True, g_cost=99999, h_cost=99999, f_cost=99999), Node(node_x=13, node_y=3, parents=None, is_wall=True, g_cost=99999, h_cost=99999, f_cost=99999), Node(node_x=13, node_y=4, parents=None, is_wall=True, g_cost=99999, h_cost=99999, f_cost=99999), Node(node_x=13, node_y=5, parents=None, is_wall=True, g_cost=99999, h_cost=99999, f_cost=99999), Node(node_x=13, node_y=6, parents=None, is_wall=True, g_cost=99999, h_cost=99999, f_cost=99999), Node(node_x=13, node_y=7, parents=None, is_wall=True, g_cost=99999, h_cost=99999, f_cost=99999), Node(node_x=13, node_y=8, parents=None, is_wall=True, g_cost=99999, h_cost=99999, f_cost=99999), Node(node_x=13, node_y=9, parents=None, is_wall=True, g_cost=99999, h_cost=99999, f_cost=99999), Node(node_x=13, node_y=10, parents=None, is_wall=False, g_cost=99999, h_cost=99999, f_cost=99999), Node(node_x=13, node_y=11, parents=None, is_wall=True, g_cost=99999, h_cost=99999, f_cost=99999), Node(node_x=13, node_y=12, parents=None, is_wall=False, g_cost=99999, h_cost=99999, f_cost=99999), Node(node_x=13, node_y=13, parents=None, is_wall=True, g_cost=99999, h_cost=99999, f_cost=99999), Node(node_x=13, node_y=14, parents=None, is_wall=False, g_cost=99999, h_cost=99999, f_cost=99999), Node(node_x=13, node_y=15, parents=None, is_wall=True, g_cost=99999, h_cost=99999, f_cost=99999), Node(node_x=13, node_y=16, parents=None, is_wall=True, g_cost=99999, h_cost=99999, f_cost=99999), Node(node_x=13, node_y=17, parents=None, is_wall=True, g_cost=99999, h_cost=99999, f_cost=99999), Node(node_x=13, node_y=18, parents=None, is_wall=False, g_cost=99999, h_cost=99999, f_cost=99999), Node(node_x=13, node_y=19, parents=None, is_wall=True, g_cost=99999, h_cost=99999, f_cost=99999)], [Node(node_x=14, node_y=0, parents=None, is_wall=False, g_cost=99999, h_cost=99999, f_cost=99999), Node(node_x=14, node_y=1, parents=None, is_wall=False, g_cost=99999, h_cost=99999, f_cost=99999), Node(node_x=14, node_y=2, parents=None, is_wall=False, g_cost=99999, h_cost=99999, f_cost=99999), Node(node_x=14, node_y=3, parents=None, is_wall=False, g_cost=99999, h_cost=99999, f_cost=99999), Node(node_x=14, node_y=4, parents=None, is_wall=False, g_cost=99999, h_cost=99999, f_cost=99999), Node(node_x=14, node_y=5, parents=None, is_wall=False, g_cost=99999, h_cost=99999, f_cost=99999), Node(node_x=14, node_y=6, parents=None, is_wall=False, g_cost=99999, h_cost=99999, f_cost=99999), Node(node_x=14, node_y=7, parents=None, is_wall=False, g_cost=99999, h_cost=99999, f_cost=99999), Node(node_x=14, node_y=8, parents=None, is_wall=False, g_cost=99999, h_cost=99999, f_cost=99999), Node(node_x=14, node_y=9, parents=None, is_wall=True, g_cost=99999, h_cost=99999, f_cost=99999), Node(node_x=14, node_y=10, parents=None, is_wall=False, g_cost=99999, h_cost=99999, f_cost=99999), Node(node_x=14, node_y=11, parents=None, is_wall=False, g_cost=99999, h_cost=99999, f_cost=99999), Node(node_x=14, node_y=12, parents=None, is_wall=False, g_cost=99999, h_cost=99999, f_cost=99999), Node(node_x=14, node_y=13, parents=None, is_wall=True, g_cost=99999, h_cost=99999, f_cost=99999), Node(node_x=14, node_y=14, parents=None, is_wall=False, g_cost=99999, h_cost=99999, f_cost=99999), Node(node_x=14, node_y=15, parents=None, is_wall=False, g_cost=99999, h_cost=99999, f_cost=99999), Node(node_x=14, node_y=16, parents=None, is_wall=False, g_cost=99999, h_cost=99999, f_cost=99999), Node(node_x=14, node_y=17, parents=None, is_wall=True, g_cost=99999, h_cost=99999, f_cost=99999), Node(node_x=14, node_y=18, parents=None, is_wall=False, g_cost=99999, h_cost=99999, f_cost=99999), Node(node_x=14, node_y=19, parents=None, is_wall=True, g_cost=99999, h_cost=99999, f_cost=99999)], [Node(node_x=15, node_y=0, parents=None, is_wall=True, g_cost=99999, h_cost=99999, f_cost=99999), Node(node_x=15, node_y=1, parents=None, is_wall=True, g_cost=99999, h_cost=99999, f_cost=99999), Node(node_x=15, node_y=2, parents=None, is_wall=True, g_cost=99999, h_cost=99999, f_cost=99999), Node(node_x=15, node_y=3, parents=None, is_wall=True, g_cost=99999, h_cost=99999, f_cost=99999), Node(node_x=15, node_y=4, parents=None, is_wall=True, g_cost=99999, h_cost=99999, f_cost=99999), Node(node_x=15, node_y=5, parents=None, is_wall=True, g_cost=99999, h_cost=99999, f_cost=99999), Node(node_x=15, node_y=6, parents=None, is_wall=True, g_cost=99999, h_cost=99999, f_cost=99999), Node(node_x=15, node_y=7, parents=None, is_wall=True, g_cost=99999, h_cost=99999, f_cost=99999), Node(node_x=15, node_y=8, parents=None, is_wall=False, g_cost=99999, h_cost=99999, f_cost=99999), Node(node_x=15, node_y=9, parents=None, is_wall=True, g_cost=99999, h_cost=99999, f_cost=99999), Node(node_x=15, node_y=10, parents=None, is_wall=True, g_cost=99999, h_cost=99999, f_cost=99999), Node(node_x=15, node_y=11, parents=None, is_wall=True, g_cost=99999, h_cost=99999, f_cost=99999), Node(node_x=15, node_y=12, parents=None, is_wall=True, g_cost=99999, h_cost=99999, f_cost=99999), Node(node_x=15, node_y=13, parents=None, is_wall=True, g_cost=99999, h_cost=99999, f_cost=99999), Node(node_x=15, node_y=14, parents=None, is_wall=True, g_cost=99999, h_cost=99999, f_cost=99999), Node(node_x=15, node_y=15, parents=None, is_wall=True, g_cost=99999, h_cost=99999, f_cost=99999), Node(node_x=15, node_y=16, parents=None, is_wall=False, g_cost=99999, h_cost=99999, f_cost=99999), Node(node_x=15, node_y=17, parents=None, is_wall=True, g_cost=99999, h_cost=99999, f_cost=99999), Node(node_x=15, node_y=18, parents=None, is_wall=False, g_cost=99999, h_cost=99999, f_cost=99999), Node(node_x=15, node_y=19, parents=None, is_wall=True, g_cost=99999, h_cost=99999, f_cost=99999)], [Node(node_x=16, node_y=0, parents=None, is_wall=False, g_cost=99999, h_cost=99999, f_cost=99999), Node(node_x=16, node_y=1, parents=None, is_wall=False, g_cost=99999, h_cost=99999, f_cost=99999), Node(node_x=16, node_y=2, parents=None, is_wall=False, g_cost=99999, h_cost=99999, f_cost=99999), Node(node_x=16, node_y=3, parents=None, is_wall=True, g_cost=99999, h_cost=99999, f_cost=99999), Node(node_x=16, node_y=4, parents=None, is_wall=False, g_cost=99999, h_cost=99999, f_cost=99999), Node(node_x=16, node_y=5, parents=None, is_wall=False, g_cost=99999, h_cost=99999, f_cost=99999), Node(node_x=16, node_y=6, parents=None, is_wall=False, g_cost=99999, h_cost=99999, f_cost=99999), Node(node_x=16, node_y=7, parents=None, is_wall=True, g_cost=99999, h_cost=99999, f_cost=99999), Node(node_x=16, node_y=8, parents=None, is_wall=False, g_cost=99999, h_cost=99999, f_cost=99999), Node(node_x=16, node_y=9, parents=None, is_wall=False, g_cost=99999, h_cost=99999, f_cost=99999), Node(node_x=16, node_y=10, parents=None, is_wall=False, g_cost=99999, h_cost=99999, f_cost=99999), Node(node_x=16, node_y=11, parents=None, is_wall=False, g_cost=99999, h_cost=99999, f_cost=99999), Node(node_x=16, node_y=12, parents=None, is_wall=False, g_cost=99999, h_cost=99999, f_cost=99999), Node(node_x=16, node_y=13, parents=None, is_wall=False, g_cost=99999, h_cost=99999, f_cost=99999), Node(node_x=16, node_y=14, parents=None, is_wall=False, g_cost=99999, h_cost=99999, f_cost=99999), Node(node_x=16, node_y=15, parents=None, is_wall=True, g_cost=99999, h_cost=99999, f_cost=99999), Node(node_x=16, node_y=16, parents=None, is_wall=False, g_cost=99999, h_cost=99999, f_cost=99999), Node(node_x=16, node_y=17, parents=None, is_wall=True, g_cost=99999, h_cost=99999, f_cost=99999), Node(node_x=16, node_y=18, parents=None, is_wall=False, g_cost=99999, h_cost=99999, f_cost=99999), Node(node_x=16, node_y=19, parents=None, is_wall=True, g_cost=99999, h_cost=99999, f_cost=99999)], [Node(node_x=17, node_y=0, parents=None, is_wall=False, g_cost=99999, h_cost=99999, f_cost=99999), Node(node_x=17, node_y=1, parents=None, is_wall=True, g_cost=99999, h_cost=99999, f_cost=99999), Node(node_x=17, node_y=2, parents=None, is_wall=True, g_cost=99999, h_cost=99999, f_cost=99999), Node(node_x=17, node_y=3, parents=None, is_wall=True, g_cost=99999, h_cost=99999, f_cost=99999), Node(node_x=17, node_y=4, parents=None, is_wall=False, g_cost=99999, h_cost=99999, f_cost=99999), Node(node_x=17, node_y=5, parents=None, is_wall=True, g_cost=99999, h_cost=99999, f_cost=99999), Node(node_x=17, node_y=6, parents=None, is_wall=False, g_cost=99999, h_cost=99999, f_cost=99999), Node(node_x=17, node_y=7, parents=None, is_wall=True, g_cost=99999, h_cost=99999, f_cost=99999), Node(node_x=17, node_y=8, parents=None, is_wall=True, g_cost=99999, h_cost=99999, f_cost=99999), Node(node_x=17, node_y=9, parents=None, is_wall=True, g_cost=99999, h_cost=99999, f_cost=99999), Node(node_x=17, node_y=10, parents=None, is_wall=True, g_cost=99999, h_cost=99999, f_cost=99999), Node(node_x=17, node_y=11, parents=None, is_wall=True, g_cost=99999, h_cost=99999, f_cost=99999), Node(node_x=17, node_y=12, parents=None, is_wall=True, g_cost=99999, h_cost=99999, f_cost=99999), Node(node_x=17, node_y=13, parents=None, is_wall=True, g_cost=99999, h_cost=99999, f_cost=99999), Node(node_x=17, node_y=14, parents=None, is_wall=False, g_cost=99999, h_cost=99999, f_cost=99999), Node(node_x=17, node_y=15, parents=None, is_wall=True, g_cost=99999, h_cost=99999, f_cost=99999), Node(node_x=17, node_y=16, parents=None, is_wall=False, g_cost=99999, h_cost=99999, f_cost=99999), Node(node_x=17, node_y=17, parents=None, is_wall=True, g_cost=99999, h_cost=99999, f_cost=99999), Node(node_x=17, node_y=18, parents=None, is_wall=False, g_cost=99999, h_cost=99999, f_cost=99999), Node(node_x=17, node_y=19, parents=None, is_wall=True, g_cost=99999, h_cost=99999, f_cost=99999)], [Node(node_x=18, node_y=0, parents=None, is_wall=False, g_cost=99999, h_cost=99999, f_cost=99999), Node(node_x=18, node_y=1, parents=None, is_wall=False, g_cost=99999, h_cost=99999, f_cost=99999), Node(node_x=18, node_y=2, parents=None, is_wall=False, g_cost=99999, h_cost=99999, f_cost=99999), Node(node_x=18, node_y=3, parents=None, is_wall=False, g_cost=99999, h_cost=99999, f_cost=99999), Node(node_x=18, node_y=4, parents=None, is_wall=False, g_cost=99999, h_cost=99999, f_cost=99999), Node(node_x=18, node_y=5, parents=None, is_wall=True, g_cost=99999, h_cost=99999, f_cost=99999), Node(node_x=18, node_y=6, parents=None, is_wall=False, g_cost=99999, h_cost=99999, f_cost=99999), Node(node_x=18, node_y=7, parents=None, is_wall=False, g_cost=99999, h_cost=99999, f_cost=99999), Node(node_x=18, node_y=8, parents=None, is_wall=False, g_cost=99999, h_cost=99999, f_cost=99999), Node(node_x=18, node_y=9, parents=None, is_wall=False, g_cost=99999, h_cost=99999, f_cost=99999), Node(node_x=18, node_y=10, parents=None, is_wall=False, g_cost=99999, h_cost=99999, f_cost=99999), Node(node_x=18, node_y=11, parents=None, is_wall=False, g_cost=99999, h_cost=99999, f_cost=99999), Node(node_x=18, node_y=12, parents=None, is_wall=False, g_cost=99999, h_cost=99999, f_cost=99999), Node(node_x=18, node_y=13, parents=None, is_wall=False, g_cost=99999, h_cost=99999, f_cost=99999), Node(node_x=18, node_y=14, parents=None, is_wall=False, g_cost=99999, h_cost=99999, f_cost=99999), Node(node_x=18, node_y=15, parents=None, is_wall=False, g_cost=99999, h_cost=99999, f_cost=99999), Node(node_x=18, node_y=16, parents=None, is_wall=False, g_cost=99999, h_cost=99999, f_cost=99999), Node(node_x=18, node_y=17, parents=None, is_wall=True, g_cost=99999, h_cost=99999, f_cost=99999), Node(node_x=18, node_y=18, parents=None, is_wall=False, g_cost=99999, h_cost=99999, f_cost=99999), Node(node_x=18, node_y=19, parents=None, is_wall=True, g_cost=99999, h_cost=99999, f_cost=99999)], [Node(node_x=19, node_y=0, parents=None, is_wall=True, g_cost=99999, h_cost=99999, f_cost=99999), Node(node_x=19, node_y=1, parents=None, is_wall=True, g_cost=99999, h_cost=99999, f_cost=99999), Node(node_x=19, node_y=2, parents=None, is_wall=True, g_cost=99999, h_cost=99999, f_cost=99999), Node(node_x=19, node_y=3, parents=None, is_wall=True, g_cost=99999, h_cost=99999, f_cost=99999), Node(node_x=19, node_y=4, parents=None, is_wall=True, g_cost=99999, h_cost=99999, f_cost=99999), Node(node_x=19, node_y=5, parents=None, is_wall=True, g_cost=99999, h_cost=99999, f_cost=99999), Node(node_x=19, node_y=6, parents=None, is_wall=True, g_cost=99999, h_cost=99999, f_cost=99999), Node(node_x=19, node_y=7, parents=None, is_wall=True, g_cost=99999, h_cost=99999, f_cost=99999), Node(node_x=19, node_y=8, parents=None, is_wall=True, g_cost=99999, h_cost=99999, f_cost=99999), Node(node_x=19, node_y=9, parents=None, is_wall=True, g_cost=99999, h_cost=99999, f_cost=99999), Node(node_x=19, node_y=10, parents=None, is_wall=True, g_cost=99999, h_cost=99999, f_cost=99999), Node(node_x=19, node_y=11, parents=None, is_wall=True, g_cost=99999, h_cost=99999, f_cost=99999), Node(node_x=19, node_y=12, parents=None, is_wall=True, g_cost=99999, h_cost=99999, f_cost=99999), Node(node_x=19, node_y=13, parents=None, is_wall=True, g_cost=99999, h_cost=99999, f_cost=99999), Node(node_x=19, node_y=14, parents=None, is_wall=True, g_cost=99999, h_cost=99999, f_cost=99999), Node(node_x=19, node_y=15, parents=None, is_wall=True, g_cost=99999, h_cost=99999, f_cost=99999), Node(node_x=19, node_y=16, parents=None, is_wall=True, g_cost=99999, h_cost=99999, f_cost=99999), Node(node_x=19, node_y=17, parents=None, is_wall=True, g_cost=99999, h_cost=99999, f_cost=99999), Node(node_x=19, node_y=18, parents=None, is_wall=True, g_cost=99999, h_cost=99999, f_cost=99999), Node(node_x=19, node_y=19, parents=None, is_wall=True, g_cost=99999, h_cost=99999, f_cost=99999)]], start_node=Cell(x=18, y=4, visited=True, searching=False, is_start=False, is_goal=False), goal_node=Cell(x=8, y=0, visited=True, searching=False, is_start=False, is_goal=False), open_list=[], searched_list=[])"
     },
     "execution_count": 24,
     "metadata": {},
     "output_type": "execute_result"
    }
   ],
   "source": [
    "from astar import Astar\n",
    "\n",
    "nss = Astar.node_init(maze_grid=test_maze,start_node=start_node,goal_node=goal_node)\n",
    "nss"
   ],
   "metadata": {
    "collapsed": false,
    "ExecuteTime": {
     "end_time": "2024-03-08T12:52:16.171654200Z",
     "start_time": "2024-03-08T12:52:16.166837300Z"
    }
   },
   "id": "ebc6f6abe2db0292",
   "execution_count": 24
  }
 ],
 "metadata": {
  "kernelspec": {
   "display_name": "Python 3",
   "language": "python",
   "name": "python3"
  },
  "language_info": {
   "codemirror_mode": {
    "name": "ipython",
    "version": 2
   },
   "file_extension": ".py",
   "mimetype": "text/x-python",
   "name": "python",
   "nbconvert_exporter": "python",
   "pygments_lexer": "ipython2",
   "version": "2.7.6"
  }
 },
 "nbformat": 4,
 "nbformat_minor": 5
}
