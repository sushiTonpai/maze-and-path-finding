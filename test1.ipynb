{
 "cells": [
  {
   "cell_type": "code",
   "execution_count": 1,
   "id": "initial_id",
   "metadata": {
    "collapsed": true,
    "ExecuteTime": {
     "end_time": "2024-02-29T05:20:05.579648600Z",
     "start_time": "2024-02-29T05:20:05.127169100Z"
    }
   },
   "outputs": [
    {
     "name": "stdout",
     "output_type": "stream",
     "text": [
      "pygame 2.5.2 (SDL 2.28.3, Python 3.12.1)\n",
      "Hello from the pygame community. https://www.pygame.org/contribute.html\n"
     ]
    }
   ],
   "source": [
    "\n",
    "from maze import Maze"
   ]
  },
  {
   "cell_type": "code",
   "outputs": [
    {
     "name": "stdout",
     "output_type": "stream",
     "text": [
      "True\n"
     ]
    }
   ],
   "source": [
    "test_maze = Maze.maze_init()\n",
    "curr = test_maze.maze_grid[0][0]\n",
    "print(curr.visited)"
   ],
   "metadata": {
    "collapsed": false,
    "ExecuteTime": {
     "end_time": "2024-02-29T05:20:05.582685900Z",
     "start_time": "2024-02-29T05:20:05.578645100Z"
    }
   },
   "id": "5a2ff4e9a7af095b",
   "execution_count": 2
  },
  {
   "cell_type": "code",
   "outputs": [
    {
     "name": "stdout",
     "output_type": "stream",
     "text": [
      "visiting =  (0, 2) Cell(x=0, y=2, visited=False, in_stack=False)\n",
      "visiting =  (2, 0) Cell(x=2, y=0, visited=False, in_stack=False)\n"
     ]
    }
   ],
   "source": [],
   "metadata": {
    "collapsed": false,
    "ExecuteTime": {
     "end_time": "2024-02-13T09:02:22.619608Z",
     "start_time": "2024-02-13T09:02:22.602206Z"
    }
   },
   "id": "6be46fb18ef15302",
   "execution_count": 4
  },
  {
   "cell_type": "code",
   "outputs": [
    {
     "data": {
      "text/plain": "(Cell(x=2, y=0, visited=False, in_stack=False),\n Cell(x=1, y=0, visited=False, in_stack=False))"
     },
     "execution_count": 9,
     "metadata": {},
     "output_type": "execute_result"
    }
   ],
   "source": [],
   "metadata": {
    "collapsed": false,
    "ExecuteTime": {
     "end_time": "2024-02-13T09:03:38.359743Z",
     "start_time": "2024-02-13T09:03:38.355347Z"
    }
   },
   "id": "fac05b5fcf6737e2",
   "execution_count": 9
  },
  {
   "cell_type": "code",
   "outputs": [],
   "source": [
    "\n"
   ],
   "metadata": {
    "collapsed": false,
    "ExecuteTime": {
     "end_time": "2024-02-13T09:20:13.129595Z",
     "start_time": "2024-02-13T09:20:13.127175Z"
    }
   },
   "id": "75fe7b58258a4f6",
   "execution_count": 11
  },
  {
   "cell_type": "code",
   "outputs": [
    {
     "data": {
      "text/plain": "('VENEZUELA', 'CARACAS')"
     },
     "execution_count": 12,
     "metadata": {},
     "output_type": "execute_result"
    }
   ],
   "source": [],
   "metadata": {
    "collapsed": false,
    "ExecuteTime": {
     "end_time": "2024-02-13T09:20:23.681886Z",
     "start_time": "2024-02-13T09:20:23.677968Z"
    }
   },
   "id": "6981f1941f273fb0",
   "execution_count": 12
  }
 ],
 "metadata": {
  "kernelspec": {
   "display_name": "Python 3",
   "language": "python",
   "name": "python3"
  },
  "language_info": {
   "codemirror_mode": {
    "name": "ipython",
    "version": 2
   },
   "file_extension": ".py",
   "mimetype": "text/x-python",
   "name": "python",
   "nbconvert_exporter": "python",
   "pygments_lexer": "ipython2",
   "version": "2.7.6"
  }
 },
 "nbformat": 4,
 "nbformat_minor": 5
}
